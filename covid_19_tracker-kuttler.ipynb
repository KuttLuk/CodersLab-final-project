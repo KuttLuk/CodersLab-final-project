{
 "cells": [
  {
   "cell_type": "code",
   "execution_count": 1,
   "metadata": {},
   "outputs": [
    {
     "name": "stdout",
     "output_type": "stream",
     "text": [
      "Requirement already satisfied: dash in /opt/anaconda3/lib/python3.12/site-packages (2.18.2)\n",
      "Requirement already satisfied: Flask<3.1,>=1.0.4 in /opt/anaconda3/lib/python3.12/site-packages (from dash) (3.0.3)\n",
      "Requirement already satisfied: Werkzeug<3.1 in /opt/anaconda3/lib/python3.12/site-packages (from dash) (3.0.3)\n",
      "Requirement already satisfied: plotly>=5.0.0 in /opt/anaconda3/lib/python3.12/site-packages (from dash) (5.22.0)\n",
      "Requirement already satisfied: dash-html-components==2.0.0 in /opt/anaconda3/lib/python3.12/site-packages (from dash) (2.0.0)\n",
      "Requirement already satisfied: dash-core-components==2.0.0 in /opt/anaconda3/lib/python3.12/site-packages (from dash) (2.0.0)\n",
      "Requirement already satisfied: dash-table==5.0.0 in /opt/anaconda3/lib/python3.12/site-packages (from dash) (5.0.0)\n",
      "Requirement already satisfied: importlib-metadata in /opt/anaconda3/lib/python3.12/site-packages (from dash) (7.0.1)\n",
      "Requirement already satisfied: typing-extensions>=4.1.1 in /opt/anaconda3/lib/python3.12/site-packages (from dash) (4.12.2)\n",
      "Requirement already satisfied: requests in /opt/anaconda3/lib/python3.12/site-packages (from dash) (2.32.2)\n",
      "Requirement already satisfied: retrying in /opt/anaconda3/lib/python3.12/site-packages (from dash) (1.3.4)\n",
      "Requirement already satisfied: nest-asyncio in /opt/anaconda3/lib/python3.12/site-packages (from dash) (1.6.0)\n",
      "Requirement already satisfied: setuptools in /opt/anaconda3/lib/python3.12/site-packages (from dash) (69.5.1)\n",
      "Requirement already satisfied: Jinja2>=3.1.2 in /opt/anaconda3/lib/python3.12/site-packages (from Flask<3.1,>=1.0.4->dash) (3.1.4)\n",
      "Requirement already satisfied: itsdangerous>=2.1.2 in /opt/anaconda3/lib/python3.12/site-packages (from Flask<3.1,>=1.0.4->dash) (2.2.0)\n",
      "Requirement already satisfied: click>=8.1.3 in /opt/anaconda3/lib/python3.12/site-packages (from Flask<3.1,>=1.0.4->dash) (8.1.7)\n",
      "Requirement already satisfied: blinker>=1.6.2 in /opt/anaconda3/lib/python3.12/site-packages (from Flask<3.1,>=1.0.4->dash) (1.6.2)\n",
      "Requirement already satisfied: tenacity>=6.2.0 in /opt/anaconda3/lib/python3.12/site-packages (from plotly>=5.0.0->dash) (8.2.2)\n",
      "Requirement already satisfied: packaging in /opt/anaconda3/lib/python3.12/site-packages (from plotly>=5.0.0->dash) (23.2)\n",
      "Requirement already satisfied: MarkupSafe>=2.1.1 in /opt/anaconda3/lib/python3.12/site-packages (from Werkzeug<3.1->dash) (2.1.3)\n",
      "Requirement already satisfied: zipp>=0.5 in /opt/anaconda3/lib/python3.12/site-packages (from importlib-metadata->dash) (3.17.0)\n",
      "Requirement already satisfied: charset-normalizer<4,>=2 in /opt/anaconda3/lib/python3.12/site-packages (from requests->dash) (2.0.4)\n",
      "Requirement already satisfied: idna<4,>=2.5 in /opt/anaconda3/lib/python3.12/site-packages (from requests->dash) (3.10)\n",
      "Requirement already satisfied: urllib3<3,>=1.21.1 in /opt/anaconda3/lib/python3.12/site-packages (from requests->dash) (2.2.3)\n",
      "Requirement already satisfied: certifi>=2017.4.17 in /opt/anaconda3/lib/python3.12/site-packages (from requests->dash) (2024.8.30)\n",
      "Requirement already satisfied: six>=1.7.0 in /opt/anaconda3/lib/python3.12/site-packages (from retrying->dash) (1.16.0)\n"
     ]
    }
   ],
   "source": [
    "# install dash library\n",
    "!pip install dash"
   ]
  },
  {
   "cell_type": "code",
   "execution_count": 2,
   "metadata": {},
   "outputs": [],
   "source": [
    "# import libraries\n",
    "\n",
    "import seaborn as sns\n",
    "import pandas as pd\n",
    "import matplotlib.pyplot as plt\n",
    "import plotly.express as px \n",
    "import dash\n",
    "from dash import html, dcc, Input, Output"
   ]
  },
  {
   "cell_type": "code",
   "execution_count": 3,
   "metadata": {},
   "outputs": [
    {
     "data": {
      "text/html": [
       "<div>\n",
       "<style scoped>\n",
       "    .dataframe tbody tr th:only-of-type {\n",
       "        vertical-align: middle;\n",
       "    }\n",
       "\n",
       "    .dataframe tbody tr th {\n",
       "        vertical-align: top;\n",
       "    }\n",
       "\n",
       "    .dataframe thead th {\n",
       "        text-align: right;\n",
       "    }\n",
       "</style>\n",
       "<table border=\"1\" class=\"dataframe\">\n",
       "  <thead>\n",
       "    <tr style=\"text-align: right;\">\n",
       "      <th></th>\n",
       "      <th>index</th>\n",
       "      <th>iso_code</th>\n",
       "      <th>continent</th>\n",
       "      <th>location</th>\n",
       "      <th>date</th>\n",
       "      <th>total_cases</th>\n",
       "      <th>new_cases</th>\n",
       "      <th>total_deaths</th>\n",
       "      <th>new_deaths</th>\n",
       "      <th>hosp_patients</th>\n",
       "      <th>...</th>\n",
       "      <th>people_vaccinated</th>\n",
       "      <th>people_fully_vaccinated</th>\n",
       "      <th>total_boosters</th>\n",
       "      <th>new_vaccinations</th>\n",
       "      <th>population</th>\n",
       "      <th>median_age</th>\n",
       "      <th>gdp_per_capita</th>\n",
       "      <th>life_expectancy</th>\n",
       "      <th>latitude</th>\n",
       "      <th>longitude</th>\n",
       "    </tr>\n",
       "  </thead>\n",
       "  <tbody>\n",
       "    <tr>\n",
       "      <th>0</th>\n",
       "      <td>0</td>\n",
       "      <td>AFG</td>\n",
       "      <td>Asia</td>\n",
       "      <td>Afghanistan</td>\n",
       "      <td>2020-02-24</td>\n",
       "      <td>5.0</td>\n",
       "      <td>5.0</td>\n",
       "      <td>NaN</td>\n",
       "      <td>NaN</td>\n",
       "      <td>NaN</td>\n",
       "      <td>...</td>\n",
       "      <td>NaN</td>\n",
       "      <td>NaN</td>\n",
       "      <td>NaN</td>\n",
       "      <td>NaN</td>\n",
       "      <td>39835428.0</td>\n",
       "      <td>18.6</td>\n",
       "      <td>1803.987</td>\n",
       "      <td>64.83</td>\n",
       "      <td>33.0</td>\n",
       "      <td>65.0</td>\n",
       "    </tr>\n",
       "    <tr>\n",
       "      <th>1</th>\n",
       "      <td>1</td>\n",
       "      <td>AFG</td>\n",
       "      <td>Asia</td>\n",
       "      <td>Afghanistan</td>\n",
       "      <td>2020-02-25</td>\n",
       "      <td>5.0</td>\n",
       "      <td>0.0</td>\n",
       "      <td>NaN</td>\n",
       "      <td>NaN</td>\n",
       "      <td>NaN</td>\n",
       "      <td>...</td>\n",
       "      <td>NaN</td>\n",
       "      <td>NaN</td>\n",
       "      <td>NaN</td>\n",
       "      <td>NaN</td>\n",
       "      <td>39835428.0</td>\n",
       "      <td>18.6</td>\n",
       "      <td>1803.987</td>\n",
       "      <td>64.83</td>\n",
       "      <td>33.0</td>\n",
       "      <td>65.0</td>\n",
       "    </tr>\n",
       "    <tr>\n",
       "      <th>2</th>\n",
       "      <td>2</td>\n",
       "      <td>AFG</td>\n",
       "      <td>Asia</td>\n",
       "      <td>Afghanistan</td>\n",
       "      <td>2020-02-26</td>\n",
       "      <td>5.0</td>\n",
       "      <td>0.0</td>\n",
       "      <td>NaN</td>\n",
       "      <td>NaN</td>\n",
       "      <td>NaN</td>\n",
       "      <td>...</td>\n",
       "      <td>NaN</td>\n",
       "      <td>NaN</td>\n",
       "      <td>NaN</td>\n",
       "      <td>NaN</td>\n",
       "      <td>39835428.0</td>\n",
       "      <td>18.6</td>\n",
       "      <td>1803.987</td>\n",
       "      <td>64.83</td>\n",
       "      <td>33.0</td>\n",
       "      <td>65.0</td>\n",
       "    </tr>\n",
       "    <tr>\n",
       "      <th>3</th>\n",
       "      <td>3</td>\n",
       "      <td>AFG</td>\n",
       "      <td>Asia</td>\n",
       "      <td>Afghanistan</td>\n",
       "      <td>2020-02-27</td>\n",
       "      <td>5.0</td>\n",
       "      <td>0.0</td>\n",
       "      <td>NaN</td>\n",
       "      <td>NaN</td>\n",
       "      <td>NaN</td>\n",
       "      <td>...</td>\n",
       "      <td>NaN</td>\n",
       "      <td>NaN</td>\n",
       "      <td>NaN</td>\n",
       "      <td>NaN</td>\n",
       "      <td>39835428.0</td>\n",
       "      <td>18.6</td>\n",
       "      <td>1803.987</td>\n",
       "      <td>64.83</td>\n",
       "      <td>33.0</td>\n",
       "      <td>65.0</td>\n",
       "    </tr>\n",
       "    <tr>\n",
       "      <th>4</th>\n",
       "      <td>4</td>\n",
       "      <td>AFG</td>\n",
       "      <td>Asia</td>\n",
       "      <td>Afghanistan</td>\n",
       "      <td>2020-02-28</td>\n",
       "      <td>5.0</td>\n",
       "      <td>0.0</td>\n",
       "      <td>NaN</td>\n",
       "      <td>NaN</td>\n",
       "      <td>NaN</td>\n",
       "      <td>...</td>\n",
       "      <td>NaN</td>\n",
       "      <td>NaN</td>\n",
       "      <td>NaN</td>\n",
       "      <td>NaN</td>\n",
       "      <td>39835428.0</td>\n",
       "      <td>18.6</td>\n",
       "      <td>1803.987</td>\n",
       "      <td>64.83</td>\n",
       "      <td>33.0</td>\n",
       "      <td>65.0</td>\n",
       "    </tr>\n",
       "  </tbody>\n",
       "</table>\n",
       "<p>5 rows × 24 columns</p>\n",
       "</div>"
      ],
      "text/plain": [
       "   index iso_code continent     location        date  total_cases  new_cases  \\\n",
       "0      0      AFG      Asia  Afghanistan  2020-02-24          5.0        5.0   \n",
       "1      1      AFG      Asia  Afghanistan  2020-02-25          5.0        0.0   \n",
       "2      2      AFG      Asia  Afghanistan  2020-02-26          5.0        0.0   \n",
       "3      3      AFG      Asia  Afghanistan  2020-02-27          5.0        0.0   \n",
       "4      4      AFG      Asia  Afghanistan  2020-02-28          5.0        0.0   \n",
       "\n",
       "   total_deaths  new_deaths  hosp_patients  ...  people_vaccinated  \\\n",
       "0           NaN         NaN            NaN  ...                NaN   \n",
       "1           NaN         NaN            NaN  ...                NaN   \n",
       "2           NaN         NaN            NaN  ...                NaN   \n",
       "3           NaN         NaN            NaN  ...                NaN   \n",
       "4           NaN         NaN            NaN  ...                NaN   \n",
       "\n",
       "   people_fully_vaccinated  total_boosters  new_vaccinations  population  \\\n",
       "0                      NaN             NaN               NaN  39835428.0   \n",
       "1                      NaN             NaN               NaN  39835428.0   \n",
       "2                      NaN             NaN               NaN  39835428.0   \n",
       "3                      NaN             NaN               NaN  39835428.0   \n",
       "4                      NaN             NaN               NaN  39835428.0   \n",
       "\n",
       "   median_age  gdp_per_capita  life_expectancy  latitude  longitude  \n",
       "0        18.6        1803.987            64.83      33.0       65.0  \n",
       "1        18.6        1803.987            64.83      33.0       65.0  \n",
       "2        18.6        1803.987            64.83      33.0       65.0  \n",
       "3        18.6        1803.987            64.83      33.0       65.0  \n",
       "4        18.6        1803.987            64.83      33.0       65.0  \n",
       "\n",
       "[5 rows x 24 columns]"
      ]
     },
     "execution_count": 3,
     "metadata": {},
     "output_type": "execute_result"
    }
   ],
   "source": [
    "# import dataset and show head of dataset\n",
    "\n",
    "df_raw = pd.read_csv('./project_1_python.csv')\n",
    "df_raw.head()"
   ]
  },
  {
   "cell_type": "code",
   "execution_count": 4,
   "metadata": {},
   "outputs": [
    {
     "name": "stdout",
     "output_type": "stream",
     "text": [
      "<class 'pandas.core.frame.DataFrame'>\n",
      "RangeIndex: 180477 entries, 0 to 180476\n",
      "Data columns (total 24 columns):\n",
      " #   Column                   Non-Null Count   Dtype  \n",
      "---  ------                   --------------   -----  \n",
      " 0   index                    180477 non-null  int64  \n",
      " 1   iso_code                 180477 non-null  object \n",
      " 2   continent                180477 non-null  object \n",
      " 3   location                 180477 non-null  object \n",
      " 4   date                     180477 non-null  object \n",
      " 5   total_cases              173493 non-null  float64\n",
      " 6   new_cases                173212 non-null  float64\n",
      " 7   total_deaths             155323 non-null  float64\n",
      " 8   new_deaths               155095 non-null  float64\n",
      " 9   hosp_patients            27152 non-null   float64\n",
      " 10  total_tests              78326 non-null   float64\n",
      " 11  new_tests                74509 non-null   float64\n",
      " 12  tests_per_case           92600 non-null   float64\n",
      " 13  total_vaccinations       46366 non-null   float64\n",
      " 14  people_vaccinated        43851 non-null   float64\n",
      " 15  people_fully_vaccinated  41524 non-null   float64\n",
      " 16  total_boosters           19866 non-null   float64\n",
      " 17  new_vaccinations         36940 non-null   float64\n",
      " 18  population               180477 non-null  float64\n",
      " 19  median_age               159326 non-null  float64\n",
      " 20  gdp_per_capita           157994 non-null  float64\n",
      " 21  life_expectancy          179426 non-null  float64\n",
      " 22  latitude                 180477 non-null  float64\n",
      " 23  longitude                180477 non-null  float64\n",
      "dtypes: float64(19), int64(1), object(4)\n",
      "memory usage: 33.0+ MB\n"
     ]
    }
   ],
   "source": [
    "# show info of dataset\n",
    "df_raw.info()"
   ]
  },
  {
   "cell_type": "code",
   "execution_count": 5,
   "metadata": {},
   "outputs": [],
   "source": [
    "# change date column to datetime format\n",
    "df_raw['date'] = pd.to_datetime(df_raw['date'], format='%Y-%m-%d')\n"
   ]
  },
  {
   "cell_type": "code",
   "execution_count": 6,
   "metadata": {},
   "outputs": [
    {
     "name": "stdout",
     "output_type": "stream",
     "text": [
      "<class 'pandas.core.frame.DataFrame'>\n",
      "RangeIndex: 180477 entries, 0 to 180476\n",
      "Data columns (total 24 columns):\n",
      " #   Column                   Non-Null Count   Dtype         \n",
      "---  ------                   --------------   -----         \n",
      " 0   index                    180477 non-null  int64         \n",
      " 1   iso_code                 180477 non-null  object        \n",
      " 2   continent                180477 non-null  object        \n",
      " 3   location                 180477 non-null  object        \n",
      " 4   date                     180477 non-null  datetime64[ns]\n",
      " 5   total_cases              173493 non-null  float64       \n",
      " 6   new_cases                173212 non-null  float64       \n",
      " 7   total_deaths             155323 non-null  float64       \n",
      " 8   new_deaths               155095 non-null  float64       \n",
      " 9   hosp_patients            27152 non-null   float64       \n",
      " 10  total_tests              78326 non-null   float64       \n",
      " 11  new_tests                74509 non-null   float64       \n",
      " 12  tests_per_case           92600 non-null   float64       \n",
      " 13  total_vaccinations       46366 non-null   float64       \n",
      " 14  people_vaccinated        43851 non-null   float64       \n",
      " 15  people_fully_vaccinated  41524 non-null   float64       \n",
      " 16  total_boosters           19866 non-null   float64       \n",
      " 17  new_vaccinations         36940 non-null   float64       \n",
      " 18  population               180477 non-null  float64       \n",
      " 19  median_age               159326 non-null  float64       \n",
      " 20  gdp_per_capita           157994 non-null  float64       \n",
      " 21  life_expectancy          179426 non-null  float64       \n",
      " 22  latitude                 180477 non-null  float64       \n",
      " 23  longitude                180477 non-null  float64       \n",
      "dtypes: datetime64[ns](1), float64(19), int64(1), object(3)\n",
      "memory usage: 33.0+ MB\n"
     ]
    }
   ],
   "source": [
    "# check datatypes of columns with new data type in date column\n",
    "df_raw.info()"
   ]
  },
  {
   "cell_type": "code",
   "execution_count": 7,
   "metadata": {},
   "outputs": [
    {
     "name": "stdout",
     "output_type": "stream",
     "text": [
      "Missing values per column:\n",
      "\n",
      "index                           0\n",
      "iso_code                        0\n",
      "continent                       0\n",
      "location                        0\n",
      "date                            0\n",
      "total_cases                  6984\n",
      "new_cases                    7265\n",
      "total_deaths                25154\n",
      "new_deaths                  25382\n",
      "hosp_patients              153325\n",
      "total_tests                102151\n",
      "new_tests                  105968\n",
      "tests_per_case              87877\n",
      "total_vaccinations         134111\n",
      "people_vaccinated          136626\n",
      "people_fully_vaccinated    138953\n",
      "total_boosters             160611\n",
      "new_vaccinations           143537\n",
      "population                      0\n",
      "median_age                  21151\n",
      "gdp_per_capita              22483\n",
      "life_expectancy              1051\n",
      "latitude                        0\n",
      "longitude                       0\n",
      "dtype: int64\n"
     ]
    }
   ],
   "source": [
    "# check for missing values\n",
    "print(\"Missing values per column:\\n\")\n",
    "print(df_raw.isnull().sum())"
   ]
  },
  {
   "cell_type": "code",
   "execution_count": 8,
   "metadata": {},
   "outputs": [
    {
     "name": "stdout",
     "output_type": "stream",
     "text": [
      "Notnull values per column:\n",
      "\n",
      "index                      180477\n",
      "iso_code                   180477\n",
      "continent                  180477\n",
      "location                   180477\n",
      "date                       180477\n",
      "total_cases                173493\n",
      "new_cases                  173212\n",
      "total_deaths               155323\n",
      "new_deaths                 155095\n",
      "hosp_patients               27152\n",
      "total_tests                 78326\n",
      "new_tests                   74509\n",
      "tests_per_case              92600\n",
      "total_vaccinations          46366\n",
      "people_vaccinated           43851\n",
      "people_fully_vaccinated     41524\n",
      "total_boosters              19866\n",
      "new_vaccinations            36940\n",
      "population                 180477\n",
      "median_age                 159326\n",
      "gdp_per_capita             157994\n",
      "life_expectancy            179426\n",
      "latitude                   180477\n",
      "longitude                  180477\n",
      "dtype: int64\n"
     ]
    }
   ],
   "source": [
    "# check for notnull values\n",
    "print(\"Notnull values per column:\\n\")\n",
    "print(df_raw.notnull().sum())"
   ]
  },
  {
   "cell_type": "code",
   "execution_count": 9,
   "metadata": {},
   "outputs": [
    {
     "name": "stderr",
     "output_type": "stream",
     "text": [
      "/var/folders/47/tpj_wbtj6wj_l1qcwsyzlhn40000gn/T/ipykernel_98880/2973841242.py:25: UserWarning: set_ticklabels() should only be used with a fixed number of ticks, i.e. after set_ticks() or using a FixedLocator.\n",
      "  chart_of_population.set_xticklabels(chart_of_population.get_xticklabels(), rotation=60)\n"
     ]
    },
    {
     "data": {
      "image/png": "[encoded data removed]",
      "text/plain": [
       "<Figure size 1200x600 with 1 Axes>"
      ]
     },
     "metadata": {},
     "output_type": "display_data"
    }
   ],
   "source": [
    "# Project #1 - first visualization\n",
    "\n",
    "\n",
    "# create a new dataframe with columns location and population\n",
    "df_population = df_raw[['location', 'population']]\n",
    "\n",
    "# drop duplicates\n",
    "df_population = df_population.drop_duplicates()\n",
    "\n",
    "# sort values by population in descending order and take the first 10 rows\n",
    "df_population = df_population.sort_values(by='population', ascending=False).head(10)\n",
    "\n",
    "# create a bar plot\n",
    "plt.figure(figsize=(12, 6))\n",
    "chart_of_population = sns.barplot(\n",
    "    \t\t\t\t\t\tdata=df_population, \n",
    "    \t\t\t\t\t\tx='location',\n",
    "\t\t\t\t\t\t\ty='population', \n",
    "    \t\t\t\t\t\tcolor='#7AA9D4')  # this color is visible for colorblind people\n",
    "sns.set_style('whitegrid')\n",
    "plt.title('10 countries with the largest populations')\n",
    "plt.xlabel('Population')\n",
    "plt.ylabel('Country')\n",
    "# rotate x-axis labels\n",
    "chart_of_population.set_xticklabels(chart_of_population.get_xticklabels(), rotation=60)\n",
    "\n",
    "# show the plot\n",
    "plt.show()"
   ]
  },
  {
   "cell_type": "code",
   "execution_count": 10,
   "metadata": {},
   "outputs": [
    {
     "data": {
      "application/vnd.plotly.v1+json": {
       "config": {
        "plotlyServerURL": "https://plot.ly"
       },
       "data": [
        {
         "hovertemplate": "Continent=Asia<br>Population=%{x}<br>Life Expectancy=%{y}<extra></extra>",
         "legendgroup": "Asia",
         "marker": {
          "color": "#1f77b4",
          "symbol": "circle"
         },
         "mode": "markers",
         "name": "Asia",
         "orientation": "v",
         "showlegend": true,
         "type": "scatter",
         "x": [
          39835428,
          2968128,
          10223344,
          1748295,
          166303494,
          779900,
          441532,
          16946446,
          1444216102,
          3979773,
          7552800,
          1393409033,
          276361788,
          85028760,
          41179351,
          9291000,
          126050796,
          10269022,
          18994958,
          4328553,
          6628347,
          7379358,
          6769151,
          658391,
          32776195,
          543620,
          3329282,
          54806014,
          29674920,
          25887045,
          5223376,
          225199929,
          5222756,
          111046910,
          2930524,
          35340680,
          5453600,
          51305184,
          21497306,
          18275704,
          23855008,
          9749625,
          69950844,
          1343875,
          85042736,
          6117933,
          9991083,
          33935765,
          98168829,
          30490639
         ],
         "xaxis": "x",
         "y": [
          64.83,
          75.09,
          73,
          77.29,
          72.59,
          71.78,
          75.86,
          69.82,
          76.91,
          73.77,
          84.86,
          69.66,
          71.72,
          76.68,
          70.6,
          82.97,
          84.63,
          74.53,
          73.6,
          75.49,
          71.45,
          67.92,
          78.93,
          84.24,
          76.16,
          78.92,
          69.87,
          67.13,
          70.78,
          72.27,
          77.86,
          67.27,
          74.05,
          71.23,
          80.23,
          75.13,
          83.62,
          83.03,
          76.98,
          72.7,
          80.46,
          71.1,
          77.15,
          69.5,
          77.69,
          68.19,
          77.97,
          71.72,
          75.4,
          66.12
         ],
         "yaxis": "y"
        },
        {
         "hovertemplate": "Continent=Europe<br>Population=%{x}<br>Life Expectancy=%{y}<extra></extra>",
         "legendgroup": "Europe",
         "marker": {
          "color": "#ff7f0e",
          "symbol": "circle"
         },
         "mode": "markers",
         "name": "Europe",
         "orientation": "v",
         "showlegend": true,
         "type": "scatter",
         "x": [
          2872934,
          77354,
          9043072,
          9442867,
          11632334,
          3263459,
          6896655,
          4081657,
          896005,
          10724553,
          5813302,
          1325188,
          49053,
          5548361,
          67422000,
          83900471,
          33691,
          10370747,
          63385,
          9634162,
          368792,
          4982904,
          85410,
          60367471,
          101073,
          1866934,
          38254,
          2689862,
          634814,
          516100,
          4024025,
          39520,
          628051,
          17173094,
          2082661,
          5465629,
          37797000,
          10167923,
          19127772,
          145912022,
          34010,
          6871547,
          5449270,
          2078723,
          46745211,
          10160159,
          8715494,
          43466822,
          68207114,
          812
         ],
         "xaxis": "x",
         "y": [
          78.57,
          83.73,
          81.54,
          74.79,
          81.63,
          77.4,
          75.05,
          78.49,
          80.98,
          79.38,
          80.9,
          78.74,
          80.67,
          81.91,
          82.66,
          81.33,
          79.93,
          82.24,
          null,
          76.88,
          82.99,
          82.3,
          81.4,
          83.51,
          null,
          75.29,
          82.49,
          75.93,
          82.25,
          82.53,
          71.9,
          86.75,
          76.88,
          82.28,
          75.8,
          82.4,
          78.73,
          82.05,
          76.05,
          72.58,
          84.97,
          76,
          77.54,
          81.32,
          83.56,
          82.8,
          83.78,
          72.06,
          81.32,
          75.12
         ],
         "yaxis": "y"
        },
        {
         "hovertemplate": "Continent=Africa<br>Population=%{x}<br>Life Expectancy=%{y}<extra></extra>",
         "legendgroup": "Africa",
         "marker": {
          "color": "#2ca02c",
          "symbol": "circle"
         },
         "mode": "markers",
         "name": "Africa",
         "orientation": "v",
         "showlegend": true,
         "type": "scatter",
         "x": [
          44616626,
          33933611,
          12451031,
          2397240,
          21497097,
          12255429,
          27224262,
          561901,
          4919987,
          16914985,
          888456,
          5657017,
          27053629,
          92377986,
          1002197,
          104258327,
          1449891,
          3601462,
          1172369,
          117876226,
          2278829,
          2486937,
          31732128,
          13497237,
          2015490,
          54985702,
          2159067,
          5180208,
          6958538,
          28427333,
          19647681,
          20855724,
          4775110,
          1273428,
          37344787,
          32163045,
          2587344,
          25130810,
          211400704,
          13276517,
          6095,
          223364,
          17196308,
          98910,
          8141343,
          16359500,
          60041996,
          11381377,
          44909351,
          61498438,
          8478242,
          11935764,
          47123533,
          611872,
          18920657,
          15092171
         ],
         "xaxis": "x",
         "y": [
          76.88,
          61.15,
          61.77,
          69.59,
          61.58,
          61.58,
          59.29,
          72.98,
          53.28,
          54.24,
          64.32,
          64.57,
          57.78,
          60.68,
          67.11,
          71.99,
          58.74,
          66.32,
          60.19,
          66.6,
          66.47,
          62.05,
          64.07,
          61.6,
          58.32,
          66.7,
          54.33,
          64.1,
          72.91,
          67.04,
          64.26,
          59.31,
          64.92,
          74.99,
          76.68,
          60.85,
          63.71,
          62.42,
          54.69,
          69.02,
          80.56,
          70.39,
          67.94,
          73.4,
          54.7,
          57.4,
          64.13,
          57.85,
          65.31,
          65.46,
          61.04,
          76.7,
          63.37,
          70.26,
          63.89,
          61.49
         ],
         "yaxis": "y"
        },
        {
         "hovertemplate": "Continent=North America<br>Population=%{x}<br>Life Expectancy=%{y}<extra></extra>",
         "legendgroup": "North America",
         "marker": {
          "color": "#d62728",
          "symbol": "circle"
         },
         "mode": "markers",
         "name": "North America",
         "orientation": "v",
         "showlegend": true,
         "type": "scatter",
         "x": [
          15125,
          98728,
          107195,
          396914,
          287708,
          404915,
          62092,
          30423,
          38067913,
          66498,
          5139053,
          11317498,
          72172,
          10953714,
          6518500,
          56868,
          113015,
          18249868,
          11541683,
          10062994,
          2973462,
          130262220,
          4981,
          6702379,
          4381583,
          2828246,
          53546,
          184401,
          5771,
          111269,
          1403374,
          39226,
          332915074,
          104218
         ],
         "xaxis": "x",
         "y": [
          81.88,
          77.02,
          76.29,
          73.92,
          79.19,
          74.62,
          82.59,
          79.07,
          82.43,
          83.92,
          80.28,
          78.8,
          75,
          74.08,
          73.32,
          71.7,
          72.4,
          74.3,
          64,
          75.27,
          74.47,
          75.05,
          74.16,
          74.48,
          78.51,
          80.1,
          76.23,
          76.2,
          81.07,
          72.53,
          73.51,
          80.22,
          78.86,
          80.58
         ],
         "yaxis": "y"
        },
        {
         "hovertemplate": "Continent=South America<br>Population=%{x}<br>Life Expectancy=%{y}<extra></extra>",
         "legendgroup": "South America",
         "marker": {
          "color": "#9467bd",
          "symbol": "circle"
         },
         "mode": "markers",
         "name": "South America",
         "orientation": "v",
         "showlegend": true,
         "type": "scatter",
         "x": [
          45605823,
          11832936,
          213993441,
          19212362,
          51265841,
          17888474,
          3528,
          790329,
          7219641,
          33359415,
          591798,
          3485152,
          28704947
         ],
         "xaxis": "x",
         "y": [
          76.67,
          71.51,
          75.88,
          80.18,
          77.29,
          77.01,
          81.44,
          69.91,
          74.25,
          76.74,
          71.68,
          77.91,
          72.06
         ],
         "yaxis": "y"
        },
        {
         "hovertemplate": "Continent=Oceania<br>Population=%{x}<br>Life Expectancy=%{y}<extra></extra>",
         "legendgroup": "Oceania",
         "marker": {
          "color": "#8c564b",
          "symbol": "circle"
         },
         "mode": "markers",
         "name": "Oceania",
         "orientation": "v",
         "showlegend": true,
         "type": "scatter",
         "x": [
          25788217,
          17572,
          902899,
          282534,
          170184,
          121388,
          59618,
          116255,
          10873,
          288217,
          5126300,
          1614,
          57910,
          18174,
          9119005,
          47,
          200144,
          703995,
          1368,
          106759,
          11925,
          314464,
          11094
         ],
         "xaxis": "x",
         "y": [
          83.44,
          76.25,
          67.44,
          77.66,
          80.07,
          68.37,
          73.7,
          67.88,
          59.96,
          77.55,
          82.29,
          73.71,
          76.74,
          73.7,
          64.5,
          null,
          73.32,
          73,
          81.86,
          70.91,
          67.57,
          70.47,
          79.94
         ],
         "yaxis": "y"
        }
       ],
       "layout": {
        "height": 600,
        "legend": {
         "title": {
          "text": "Continent"
         },
         "tracegroupgap": 0
        },
        "template": {
         "data": {
          "bar": [
           {
            "error_x": {
             "color": "#2a3f5f"
            },
            "error_y": {
             "color": "#2a3f5f"
            },
            "marker": {
             "line": {
              "color": "#E5ECF6",
              "width": 0.5
             },
             "pattern": {
              "fillmode": "overlay",
              "size": 10,
              "solidity": 0.2
             }
            },
            "type": "bar"
           }
          ],
          "barpolar": [
           {
            "marker": {
             "line": {
              "color": "#E5ECF6",
              "width": 0.5
             },
             "pattern": {
              "fillmode": "overlay",
              "size": 10,
              "solidity": 0.2
             }
            },
            "type": "barpolar"
           }
          ],
          "carpet": [
           {
            "aaxis": {
             "endlinecolor": "#2a3f5f",
             "gridcolor": "white",
             "linecolor": "white",
             "minorgridcolor": "white",
             "startlinecolor": "#2a3f5f"
            },
            "baxis": {
             "endlinecolor": "#2a3f5f",
             "gridcolor": "white",
             "linecolor": "white",
             "minorgridcolor": "white",
             "startlinecolor": "#2a3f5f"
            },
            "type": "carpet"
           }
          ],
          "choropleth": [
           {
            "colorbar": {
             "outlinewidth": 0,
             "ticks": ""
            },
            "type": "choropleth"
           }
          ],
          "contour": [
           {
            "colorbar": {
             "outlinewidth": 0,
             "ticks": ""
            },
            "colorscale": [
             [
              0,
              "#0d0887"
             ],
             [
              0.1111111111111111,
              "#46039f"
             ],
             [
              0.2222222222222222,
              "#7201a8"
             ],
             [
              0.3333333333333333,
              "#9c179e"
             ],
             [
              0.4444444444444444,
              "#bd3786"
             ],
             [
              0.5555555555555556,
              "#d8576b"
             ],
             [
              0.6666666666666666,
              "#ed7953"
             ],
             [
              0.7777777777777778,
              "#fb9f3a"
             ],
             [
              0.8888888888888888,
              "#fdca26"
             ],
             [
              1,
              "#f0f921"
             ]
            ],
            "type": "contour"
           }
          ],
          "contourcarpet": [
           {
            "colorbar": {
             "outlinewidth": 0,
             "ticks": ""
            },
            "type": "contourcarpet"
           }
          ],
          "heatmap": [
           {
            "colorbar": {
             "outlinewidth": 0,
             "ticks": ""
            },
            "colorscale": [
             [
              0,
              "#0d0887"
             ],
             [
              0.1111111111111111,
              "#46039f"
             ],
             [
              0.2222222222222222,
              "#7201a8"
             ],
             [
              0.3333333333333333,
              "#9c179e"
             ],
             [
              0.4444444444444444,
              "#bd3786"
             ],
             [
              0.5555555555555556,
              "#d8576b"
             ],
             [
              0.6666666666666666,
              "#ed7953"
             ],
             [
              0.7777777777777778,
              "#fb9f3a"
             ],
             [
              0.8888888888888888,
              "#fdca26"
             ],
             [
              1,
              "#f0f921"
             ]
            ],
            "type": "heatmap"
           }
          ],
          "heatmapgl": [
           {
            "colorbar": {
             "outlinewidth": 0,
             "ticks": ""
            },
            "colorscale": [
             [
              0,
              "#0d0887"
             ],
             [
              0.1111111111111111,
              "#46039f"
             ],
             [
              0.2222222222222222,
              "#7201a8"
             ],
             [
              0.3333333333333333,
              "#9c179e"
             ],
             [
              0.4444444444444444,
              "#bd3786"
             ],
             [
              0.5555555555555556,
              "#d8576b"
             ],
             [
              0.6666666666666666,
              "#ed7953"
             ],
             [
              0.7777777777777778,
              "#fb9f3a"
             ],
             [
              0.8888888888888888,
              "#fdca26"
             ],
             [
              1,
              "#f0f921"
             ]
            ],
            "type": "heatmapgl"
           }
          ],
          "histogram": [
           {
            "marker": {
             "pattern": {
              "fillmode": "overlay",
              "size": 10,
              "solidity": 0.2
             }
            },
            "type": "histogram"
           }
          ],
          "histogram2d": [
           {
            "colorbar": {
             "outlinewidth": 0,
             "ticks": ""
            },
            "colorscale": [
             [
              0,
              "#0d0887"
             ],
             [
              0.1111111111111111,
              "#46039f"
             ],
             [
              0.2222222222222222,
              "#7201a8"
             ],
             [
              0.3333333333333333,
              "#9c179e"
             ],
             [
              0.4444444444444444,
              "#bd3786"
             ],
             [
              0.5555555555555556,
              "#d8576b"
             ],
             [
              0.6666666666666666,
              "#ed7953"
             ],
             [
              0.7777777777777778,
              "#fb9f3a"
             ],
             [
              0.8888888888888888,
              "#fdca26"
             ],
             [
              1,
              "#f0f921"
             ]
            ],
            "type": "histogram2d"
           }
          ],
          "histogram2dcontour": [
           {
            "colorbar": {
             "outlinewidth": 0,
             "ticks": ""
            },
            "colorscale": [
             [
              0,
              "#0d0887"
             ],
             [
              0.1111111111111111,
              "#46039f"
             ],
             [
              0.2222222222222222,
              "#7201a8"
             ],
             [
              0.3333333333333333,
              "#9c179e"
             ],
             [
              0.4444444444444444,
              "#bd3786"
             ],
             [
              0.5555555555555556,
              "#d8576b"
             ],
             [
              0.6666666666666666,
              "#ed7953"
             ],
             [
              0.7777777777777778,
              "#fb9f3a"
             ],
             [
              0.8888888888888888,
              "#fdca26"
             ],
             [
              1,
              "#f0f921"
             ]
            ],
            "type": "histogram2dcontour"
           }
          ],
          "mesh3d": [
           {
            "colorbar": {
             "outlinewidth": 0,
             "ticks": ""
            },
            "type": "mesh3d"
           }
          ],
          "parcoords": [
           {
            "line": {
             "colorbar": {
              "outlinewidth": 0,
              "ticks": ""
             }
            },
            "type": "parcoords"
           }
          ],
          "pie": [
           {
            "automargin": true,
            "type": "pie"
           }
          ],
          "scatter": [
           {
            "fillpattern": {
             "fillmode": "overlay",
             "size": 10,
             "solidity": 0.2
            },
            "type": "scatter"
           }
          ],
          "scatter3d": [
           {
            "line": {
             "colorbar": {
              "outlinewidth": 0,
              "ticks": ""
             }
            },
            "marker": {
             "colorbar": {
              "outlinewidth": 0,
              "ticks": ""
             }
            },
            "type": "scatter3d"
           }
          ],
          "scattercarpet": [
           {
            "marker": {
             "colorbar": {
              "outlinewidth": 0,
              "ticks": ""
             }
            },
            "type": "scattercarpet"
           }
          ],
          "scattergeo": [
           {
            "marker": {
             "colorbar": {
              "outlinewidth": 0,
              "ticks": ""
             }
            },
            "type": "scattergeo"
           }
          ],
          "scattergl": [
           {
            "marker": {
             "colorbar": {
              "outlinewidth": 0,
              "ticks": ""
             }
            },
            "type": "scattergl"
           }
          ],
          "scattermapbox": [
           {
            "marker": {
             "colorbar": {
              "outlinewidth": 0,
              "ticks": ""
             }
            },
            "type": "scattermapbox"
           }
          ],
          "scatterpolar": [
           {
            "marker": {
             "colorbar": {
              "outlinewidth": 0,
              "ticks": ""
             }
            },
            "type": "scatterpolar"
           }
          ],
          "scatterpolargl": [
           {
            "marker": {
             "colorbar": {
              "outlinewidth": 0,
              "ticks": ""
             }
            },
            "type": "scatterpolargl"
           }
          ],
          "scatterternary": [
           {
            "marker": {
             "colorbar": {
              "outlinewidth": 0,
              "ticks": ""
             }
            },
            "type": "scatterternary"
           }
          ],
          "surface": [
           {
            "colorbar": {
             "outlinewidth": 0,
             "ticks": ""
            },
            "colorscale": [
             [
              0,
              "#0d0887"
             ],
             [
              0.1111111111111111,
              "#46039f"
             ],
             [
              0.2222222222222222,
              "#7201a8"
             ],
             [
              0.3333333333333333,
              "#9c179e"
             ],
             [
              0.4444444444444444,
              "#bd3786"
             ],
             [
              0.5555555555555556,
              "#d8576b"
             ],
             [
              0.6666666666666666,
              "#ed7953"
             ],
             [
              0.7777777777777778,
              "#fb9f3a"
             ],
             [
              0.8888888888888888,
              "#fdca26"
             ],
             [
              1,
              "#f0f921"
             ]
            ],
            "type": "surface"
           }
          ],
          "table": [
           {
            "cells": {
             "fill": {
              "color": "#EBF0F8"
             },
             "line": {
              "color": "white"
             }
            },
            "header": {
             "fill": {
              "color": "#C8D4E3"
             },
             "line": {
              "color": "white"
             }
            },
            "type": "table"
           }
          ]
         },
         "layout": {
          "annotationdefaults": {
           "arrowcolor": "#2a3f5f",
           "arrowhead": 0,
           "arrowwidth": 1
          },
          "autotypenumbers": "strict",
          "coloraxis": {
           "colorbar": {
            "outlinewidth": 0,
            "ticks": ""
           }
          },
          "colorscale": {
           "diverging": [
            [
             0,
             "#8e0152"
            ],
            [
             0.1,
             "#c51b7d"
            ],
            [
             0.2,
             "#de77ae"
            ],
            [
             0.3,
             "#f1b6da"
            ],
            [
             0.4,
             "#fde0ef"
            ],
            [
             0.5,
             "#f7f7f7"
            ],
            [
             0.6,
             "#e6f5d0"
            ],
            [
             0.7,
             "#b8e186"
            ],
            [
             0.8,
             "#7fbc41"
            ],
            [
             0.9,
             "#4d9221"
            ],
            [
             1,
             "#276419"
            ]
           ],
           "sequential": [
            [
             0,
             "#0d0887"
            ],
            [
             0.1111111111111111,
             "#46039f"
            ],
            [
             0.2222222222222222,
             "#7201a8"
            ],
            [
             0.3333333333333333,
             "#9c179e"
            ],
            [
             0.4444444444444444,
             "#bd3786"
            ],
            [
             0.5555555555555556,
             "#d8576b"
            ],
            [
             0.6666666666666666,
             "#ed7953"
            ],
            [
             0.7777777777777778,
             "#fb9f3a"
            ],
            [
             0.8888888888888888,
             "#fdca26"
            ],
            [
             1,
             "#f0f921"
            ]
           ],
           "sequentialminus": [
            [
             0,
             "#0d0887"
            ],
            [
             0.1111111111111111,
             "#46039f"
            ],
            [
             0.2222222222222222,
             "#7201a8"
            ],
            [
             0.3333333333333333,
             "#9c179e"
            ],
            [
             0.4444444444444444,
             "#bd3786"
            ],
            [
             0.5555555555555556,
             "#d8576b"
            ],
            [
             0.6666666666666666,
             "#ed7953"
            ],
            [
             0.7777777777777778,
             "#fb9f3a"
            ],
            [
             0.8888888888888888,
             "#fdca26"
            ],
            [
             1,
             "#f0f921"
            ]
           ]
          },
          "colorway": [
           "#636efa",
           "#EF553B",
           "#00cc96",
           "#ab63fa",
           "#FFA15A",
           "#19d3f3",
           "#FF6692",
           "#B6E880",
           "#FF97FF",
           "#FECB52"
          ],
          "font": {
           "color": "#2a3f5f"
          },
          "geo": {
           "bgcolor": "white",
           "lakecolor": "white",
           "landcolor": "#E5ECF6",
           "showlakes": true,
           "showland": true,
           "subunitcolor": "white"
          },
          "hoverlabel": {
           "align": "left"
          },
          "hovermode": "closest",
          "mapbox": {
           "style": "light"
          },
          "paper_bgcolor": "white",
          "plot_bgcolor": "#E5ECF6",
          "polar": {
           "angularaxis": {
            "gridcolor": "white",
            "linecolor": "white",
            "ticks": ""
           },
           "bgcolor": "#E5ECF6",
           "radialaxis": {
            "gridcolor": "white",
            "linecolor": "white",
            "ticks": ""
           }
          },
          "scene": {
           "xaxis": {
            "backgroundcolor": "#E5ECF6",
            "gridcolor": "white",
            "gridwidth": 2,
            "linecolor": "white",
            "showbackground": true,
            "ticks": "",
            "zerolinecolor": "white"
           },
           "yaxis": {
            "backgroundcolor": "#E5ECF6",
            "gridcolor": "white",
            "gridwidth": 2,
            "linecolor": "white",
            "showbackground": true,
            "ticks": "",
            "zerolinecolor": "white"
           },
           "zaxis": {
            "backgroundcolor": "#E5ECF6",
            "gridcolor": "white",
            "gridwidth": 2,
            "linecolor": "white",
            "showbackground": true,
            "ticks": "",
            "zerolinecolor": "white"
           }
          },
          "shapedefaults": {
           "line": {
            "color": "#2a3f5f"
           }
          },
          "ternary": {
           "aaxis": {
            "gridcolor": "white",
            "linecolor": "white",
            "ticks": ""
           },
           "baxis": {
            "gridcolor": "white",
            "linecolor": "white",
            "ticks": ""
           },
           "bgcolor": "#E5ECF6",
           "caxis": {
            "gridcolor": "white",
            "linecolor": "white",
            "ticks": ""
           }
          },
          "title": {
           "x": 0.05
          },
          "xaxis": {
           "automargin": true,
           "gridcolor": "white",
           "linecolor": "white",
           "ticks": "",
           "title": {
            "standoff": 15
           },
           "zerolinecolor": "white",
           "zerolinewidth": 2
          },
          "yaxis": {
           "automargin": true,
           "gridcolor": "white",
           "linecolor": "white",
           "ticks": "",
           "title": {
            "standoff": 15
           },
           "zerolinecolor": "white",
           "zerolinewidth": 2
          }
         }
        },
        "title": {
         "text": "Population vs. Life Expectancy by Country and Continent"
        },
        "width": 1000,
        "xaxis": {
         "anchor": "y",
         "domain": [
          0,
          1
         ],
         "title": {
          "text": "Population"
         },
         "type": "log"
        },
        "yaxis": {
         "anchor": "x",
         "domain": [
          0,
          1
         ],
         "title": {
          "text": "Life Expectancy"
         }
        }
       }
      }
     },
     "metadata": {},
     "output_type": "display_data"
    }
   ],
   "source": [
    "# Project #1 - population vs. life expectancy\n",
    "\n",
    "\n",
    "# create a new dataframe with columns location, population and life_expectancy and drop duplicates\n",
    "df_population_explife = df_raw[['continent', 'location', 'population', 'life_expectancy']].drop_duplicates()\n",
    "\n",
    "#create a scatter plot\n",
    "color_palette = [\"#1f77b4\", \"#ff7f0e\", \"#2ca02c\", \"#d62728\", \"#9467bd\", \"#8c564b\", \"#e377c2\"]\n",
    "\n",
    "chart_of_population_explife = px.scatter(\n",
    "\tdata_frame=df_population_explife, \n",
    "\tx='population',\n",
    "\ty='life_expectancy',\n",
    "\tcolor='continent',\n",
    "\tcolor_discrete_sequence=color_palette,\n",
    "    title='Population vs. Life Expectancy by Country and Continent',\n",
    "    labels={'population': 'Population', 'life_expectancy': 'Life Expectancy', 'continent': 'Continent'},\n",
    "    log_x=True,  # logarithmic scale on x-axis\n",
    "    height=600,\n",
    "    width=1000\n",
    "    )\n",
    "\n",
    "# show the plot\n",
    "chart_of_population_explife"
   ]
  },
  {
   "cell_type": "code",
   "execution_count": 11,
   "metadata": {},
   "outputs": [
    {
     "data": {
      "application/vnd.plotly.v1+json": {
       "config": {
        "plotlyServerURL": "https://plot.ly"
       },
       "data": [
        {
         "fillpattern": {
          "shape": ""
         },
         "hovertemplate": "location=Czechia<br>Date=%{x}<br>Number of diagnosed cases=%{y}<extra></extra>",
         "legendgroup": "Czechia",
         "line": {
          "color": "#1f77b4"
         },
         "marker": {
          "symbol": "circle"
         },
         "mode": "lines",
         "name": "Czechia",
         "orientation": "v",
         "showlegend": true,
         "stackgroup": "1",
         "type": "scatter",
         "x": [
          "2020-03-01T00:00:00",
          "2020-03-02T00:00:00",
          "2020-03-03T00:00:00",
          "2020-03-04T00:00:00",
          "2020-03-05T00:00:00",
          "2020-03-06T00:00:00",
          "2020-03-07T00:00:00",
          "2020-03-08T00:00:00",
          "2020-03-09T00:00:00",
          "2020-03-10T00:00:00",
          "2020-03-11T00:00:00",
          "2020-03-12T00:00:00",
          "2020-03-13T00:00:00",
          "2020-03-14T00:00:00",
          "2020-03-15T00:00:00",
          "2020-03-16T00:00:00",
          "2020-03-17T00:00:00",
          "2020-03-18T00:00:00",
          "2020-03-19T00:00:00",
          "2020-03-20T00:00:00",
          "2020-03-21T00:00:00",
          "2020-03-22T00:00:00",
          "2020-03-23T00:00:00",
          "2020-03-24T00:00:00",
          "2020-03-25T00:00:00",
          "2020-03-26T00:00:00",
          "2020-03-27T00:00:00",
          "2020-03-28T00:00:00",
          "2020-03-29T00:00:00",
          "2020-03-30T00:00:00",
          "2020-03-31T00:00:00",
          "2020-04-01T00:00:00",
          "2020-04-02T00:00:00",
          "2020-04-03T00:00:00",
          "2020-04-04T00:00:00",
          "2020-04-05T00:00:00",
          "2020-04-06T00:00:00",
          "2020-04-07T00:00:00",
          "2020-04-08T00:00:00",
          "2020-04-09T00:00:00",
          "2020-04-10T00:00:00",
          "2020-04-11T00:00:00",
          "2020-04-12T00:00:00",
          "2020-04-13T00:00:00",
          "2020-04-14T00:00:00",
          "2020-04-15T00:00:00",
          "2020-04-16T00:00:00",
          "2020-04-17T00:00:00",
          "2020-04-18T00:00:00",
          "2020-04-19T00:00:00",
          "2020-04-20T00:00:00",
          "2020-04-21T00:00:00",
          "2020-04-22T00:00:00",
          "2020-04-23T00:00:00",
          "2020-04-24T00:00:00",
          "2020-04-25T00:00:00",
          "2020-04-26T00:00:00",
          "2020-04-27T00:00:00",
          "2020-04-28T00:00:00",
          "2020-04-29T00:00:00",
          "2020-04-30T00:00:00",
          "2020-05-01T00:00:00",
          "2020-05-02T00:00:00",
          "2020-05-03T00:00:00",
          "2020-05-04T00:00:00",
          "2020-05-05T00:00:00",
          "2020-05-06T00:00:00",
          "2020-05-07T00:00:00",
          "2020-05-08T00:00:00",
          "2020-05-09T00:00:00",
          "2020-05-10T00:00:00",
          "2020-05-11T00:00:00",
          "2020-05-12T00:00:00",
          "2020-05-13T00:00:00",
          "2020-05-14T00:00:00",
          "2020-05-15T00:00:00",
          "2020-05-16T00:00:00",
          "2020-05-17T00:00:00",
          "2020-05-18T00:00:00",
          "2020-05-19T00:00:00",
          "2020-05-20T00:00:00",
          "2020-05-21T00:00:00",
          "2020-05-22T00:00:00",
          "2020-05-23T00:00:00",
          "2020-05-24T00:00:00",
          "2020-05-25T00:00:00",
          "2020-05-26T00:00:00",
          "2020-05-27T00:00:00",
          "2020-05-28T00:00:00",
          "2020-05-29T00:00:00",
          "2020-05-30T00:00:00",
          "2020-05-31T00:00:00",
          "2020-06-01T00:00:00",
          "2020-06-02T00:00:00",
          "2020-06-03T00:00:00",
          "2020-06-04T00:00:00",
          "2020-06-05T00:00:00",
          "2020-06-06T00:00:00",
          "2020-06-07T00:00:00",
          "2020-06-08T00:00:00",
          "2020-06-09T00:00:00",
          "2020-06-10T00:00:00",
          "2020-06-11T00:00:00",
          "2020-06-12T00:00:00",
          "2020-06-13T00:00:00",
          "2020-06-14T00:00:00",
          "2020-06-15T00:00:00",
          "2020-06-16T00:00:00",
          "2020-06-17T00:00:00",
          "2020-06-18T00:00:00",
          "2020-06-19T00:00:00",
          "2020-06-20T00:00:00",
          "2020-06-21T00:00:00",
          "2020-06-22T00:00:00",
          "2020-06-23T00:00:00",
          "2020-06-24T00:00:00",
          "2020-06-25T00:00:00",
          "2020-06-26T00:00:00",
          "2020-06-27T00:00:00",
          "2020-06-28T00:00:00",
          "2020-06-29T00:00:00",
          "2020-06-30T00:00:00",
          "2020-07-01T00:00:00",
          "2020-07-02T00:00:00",
          "2020-07-03T00:00:00",
          "2020-07-04T00:00:00",
          "2020-07-05T00:00:00",
          "2020-07-06T00:00:00",
          "2020-07-07T00:00:00",
          "2020-07-08T00:00:00",
          "2020-07-09T00:00:00",
          "2020-07-10T00:00:00",
          "2020-07-11T00:00:00",
          "2020-07-12T00:00:00",
          "2020-07-13T00:00:00",
          "2020-07-14T00:00:00",
          "2020-07-15T00:00:00",
          "2020-07-16T00:00:00",
          "2020-07-17T00:00:00",
          "2020-07-18T00:00:00",
          "2020-07-19T00:00:00",
          "2020-07-20T00:00:00",
          "2020-07-21T00:00:00",
          "2020-07-22T00:00:00",
          "2020-07-23T00:00:00",
          "2020-07-24T00:00:00",
          "2020-07-25T00:00:00",
          "2020-07-26T00:00:00",
          "2020-07-27T00:00:00",
          "2020-07-28T00:00:00",
          "2020-07-29T00:00:00",
          "2020-07-30T00:00:00",
          "2020-07-31T00:00:00",
          "2020-08-01T00:00:00",
          "2020-08-02T00:00:00",
          "2020-08-03T00:00:00",
          "2020-08-04T00:00:00",
          "2020-08-05T00:00:00",
          "2020-08-06T00:00:00",
          "2020-08-07T00:00:00",
          "2020-08-08T00:00:00",
          "2020-08-09T00:00:00",
          "2020-08-10T00:00:00",
          "2020-08-11T00:00:00",
          "2020-08-12T00:00:00",
          "2020-08-13T00:00:00",
          "2020-08-14T00:00:00",
          "2020-08-15T00:00:00",
          "2020-08-16T00:00:00",
          "2020-08-17T00:00:00",
          "2020-08-18T00:00:00",
          "2020-08-19T00:00:00",
          "2020-08-20T00:00:00",
          "2020-08-21T00:00:00",
          "2020-08-22T00:00:00",
          "2020-08-23T00:00:00",
          "2020-08-24T00:00:00",
          "2020-08-25T00:00:00",
          "2020-08-26T00:00:00",
          "2020-08-27T00:00:00",
          "2020-08-28T00:00:00",
          "2020-08-29T00:00:00",
          "2020-08-30T00:00:00",
          "2020-08-31T00:00:00",
          "2020-09-01T00:00:00",
          "2020-09-02T00:00:00",
          "2020-09-03T00:00:00",
          "2020-09-04T00:00:00",
          "2020-09-05T00:00:00",
          "2020-09-06T00:00:00",
          "2020-09-07T00:00:00",
          "2020-09-08T00:00:00",
          "2020-09-09T00:00:00",
          "2020-09-10T00:00:00",
          "2020-09-11T00:00:00",
          "2020-09-12T00:00:00",
          "2020-09-13T00:00:00",
          "2020-09-14T00:00:00",
          "2020-09-15T00:00:00",
          "2020-09-16T00:00:00",
          "2020-09-17T00:00:00",
          "2020-09-18T00:00:00",
          "2020-09-19T00:00:00",
          "2020-09-20T00:00:00",
          "2020-09-21T00:00:00",
          "2020-09-22T00:00:00",
          "2020-09-23T00:00:00",
          "2020-09-24T00:00:00",
          "2020-09-25T00:00:00",
          "2020-09-26T00:00:00",
          "2020-09-27T00:00:00",
          "2020-09-28T00:00:00",
          "2020-09-29T00:00:00",
          "2020-09-30T00:00:00",
          "2020-10-01T00:00:00",
          "2020-10-02T00:00:00",
          "2020-10-03T00:00:00",
          "2020-10-04T00:00:00",
          "2020-10-05T00:00:00",
          "2020-10-06T00:00:00",
          "2020-10-07T00:00:00",
          "2020-10-08T00:00:00",
          "2020-10-09T00:00:00",
          "2020-10-10T00:00:00",
          "2020-10-11T00:00:00",
          "2020-10-12T00:00:00",
          "2020-10-13T00:00:00",
          "2020-10-14T00:00:00",
          "2020-10-15T00:00:00",
          "2020-10-16T00:00:00",
          "2020-10-17T00:00:00",
          "2020-10-18T00:00:00",
          "2020-10-19T00:00:00",
          "2020-10-20T00:00:00",
          "2020-10-21T00:00:00",
          "2020-10-22T00:00:00",
          "2020-10-23T00:00:00",
          "2020-10-24T00:00:00",
          "2020-10-25T00:00:00",
          "2020-10-26T00:00:00",
          "2020-10-27T00:00:00",
          "2020-10-28T00:00:00",
          "2020-10-29T00:00:00",
          "2020-10-30T00:00:00",
          "2020-10-31T00:00:00",
          "2020-11-01T00:00:00",
          "2020-11-02T00:00:00",
          "2020-11-03T00:00:00",
          "2020-11-04T00:00:00",
          "2020-11-05T00:00:00",
          "2020-11-06T00:00:00",
          "2020-11-07T00:00:00",
          "2020-11-08T00:00:00",
          "2020-11-09T00:00:00",
          "2020-11-10T00:00:00",
          "2020-11-11T00:00:00",
          "2020-11-12T00:00:00",
          "2020-11-13T00:00:00",
          "2020-11-14T00:00:00",
          "2020-11-15T00:00:00",
          "2020-11-16T00:00:00",
          "2020-11-17T00:00:00",
          "2020-11-18T00:00:00",
          "2020-11-19T00:00:00",
          "2020-11-20T00:00:00",
          "2020-11-21T00:00:00",
          "2020-11-22T00:00:00",
          "2020-11-23T00:00:00",
          "2020-11-24T00:00:00",
          "2020-11-25T00:00:00",
          "2020-11-26T00:00:00",
          "2020-11-27T00:00:00",
          "2020-11-28T00:00:00",
          "2020-11-29T00:00:00",
          "2020-11-30T00:00:00",
          "2020-12-01T00:00:00",
          "2020-12-02T00:00:00",
          "2020-12-03T00:00:00",
          "2020-12-04T00:00:00",
          "2020-12-05T00:00:00",
          "2020-12-06T00:00:00",
          "2020-12-07T00:00:00",
          "2020-12-08T00:00:00",
          "2020-12-09T00:00:00",
          "2020-12-10T00:00:00",
          "2020-12-11T00:00:00",
          "2020-12-12T00:00:00",
          "2020-12-13T00:00:00",
          "2020-12-14T00:00:00",
          "2020-12-15T00:00:00",
          "2020-12-16T00:00:00",
          "2020-12-17T00:00:00",
          "2020-12-18T00:00:00",
          "2020-12-19T00:00:00",
          "2020-12-20T00:00:00",
          "2020-12-21T00:00:00",
          "2020-12-22T00:00:00",
          "2020-12-23T00:00:00",
          "2020-12-24T00:00:00",
          "2020-12-25T00:00:00",
          "2020-12-26T00:00:00",
          "2020-12-27T00:00:00",
          "2020-12-28T00:00:00",
          "2020-12-29T00:00:00",
          "2020-12-30T00:00:00",
          "2020-12-31T00:00:00",
          "2021-01-01T00:00:00",
          "2021-01-02T00:00:00",
          "2021-01-03T00:00:00",
          "2021-01-04T00:00:00",
          "2021-01-05T00:00:00",
          "2021-01-06T00:00:00",
          "2021-01-07T00:00:00",
          "2021-01-08T00:00:00",
          "2021-01-09T00:00:00",
          "2021-01-10T00:00:00",
          "2021-01-11T00:00:00",
          "2021-01-12T00:00:00",
          "2021-01-13T00:00:00",
          "2021-01-14T00:00:00",
          "2021-01-15T00:00:00",
          "2021-01-16T00:00:00",
          "2021-01-17T00:00:00",
          "2021-01-18T00:00:00",
          "2021-01-19T00:00:00",
          "2021-01-20T00:00:00",
          "2021-01-21T00:00:00",
          "2021-01-22T00:00:00",
          "2021-01-23T00:00:00",
          "2021-01-24T00:00:00",
          "2021-01-25T00:00:00",
          "2021-01-26T00:00:00",
          "2021-01-27T00:00:00",
          "2021-01-28T00:00:00",
          "2021-01-29T00:00:00",
          "2021-01-30T00:00:00",
          "2021-01-31T00:00:00",
          "2021-02-01T00:00:00",
          "2021-02-02T00:00:00",
          "2021-02-03T00:00:00",
          "2021-02-04T00:00:00",
          "2021-02-05T00:00:00",
          "2021-02-06T00:00:00",
          "2021-02-07T00:00:00",
          "2021-02-08T00:00:00",
          "2021-02-09T00:00:00",
          "2021-02-10T00:00:00",
          "2021-02-11T00:00:00",
          "2021-02-12T00:00:00",
          "2021-02-13T00:00:00",
          "2021-02-14T00:00:00",
          "2021-02-15T00:00:00",
          "2021-02-16T00:00:00",
          "2021-02-17T00:00:00",
          "2021-02-18T00:00:00",
          "2021-02-19T00:00:00",
          "2021-02-20T00:00:00",
          "2021-02-21T00:00:00",
          "2021-02-22T00:00:00",
          "2021-02-23T00:00:00",
          "2021-02-24T00:00:00",
          "2021-02-25T00:00:00",
          "2021-02-26T00:00:00",
          "2021-02-27T00:00:00",
          "2021-02-28T00:00:00",
          "2021-03-01T00:00:00",
          "2021-03-02T00:00:00",
          "2021-03-03T00:00:00",
          "2021-03-04T00:00:00",
          "2021-03-05T00:00:00",
          "2021-03-06T00:00:00",
          "2021-03-07T00:00:00",
          "2021-03-08T00:00:00",
          "2021-03-09T00:00:00",
          "2021-03-10T00:00:00",
          "2021-03-11T00:00:00",
          "2021-03-12T00:00:00",
          "2021-03-13T00:00:00",
          "2021-03-14T00:00:00",
          "2021-03-15T00:00:00",
          "2021-03-16T00:00:00",
          "2021-03-17T00:00:00",
          "2021-03-18T00:00:00",
          "2021-03-19T00:00:00",
          "2021-03-20T00:00:00",
          "2021-03-21T00:00:00",
          "2021-03-22T00:00:00",
          "2021-03-23T00:00:00",
          "2021-03-24T00:00:00",
          "2021-03-25T00:00:00",
          "2021-03-26T00:00:00",
          "2021-03-27T00:00:00",
          "2021-03-28T00:00:00",
          "2021-03-29T00:00:00",
          "2021-03-30T00:00:00",
          "2021-03-31T00:00:00",
          "2021-04-01T00:00:00",
          "2021-04-02T00:00:00",
          "2021-04-03T00:00:00",
          "2021-04-04T00:00:00",
          "2021-04-05T00:00:00",
          "2021-04-06T00:00:00",
          "2021-04-07T00:00:00",
          "2021-04-08T00:00:00",
          "2021-04-09T00:00:00",
          "2021-04-10T00:00:00",
          "2021-04-11T00:00:00",
          "2021-04-12T00:00:00",
          "2021-04-13T00:00:00",
          "2021-04-14T00:00:00",
          "2021-04-15T00:00:00",
          "2021-04-16T00:00:00",
          "2021-04-17T00:00:00",
          "2021-04-18T00:00:00",
          "2021-04-19T00:00:00",
          "2021-04-20T00:00:00",
          "2021-04-21T00:00:00",
          "2021-04-22T00:00:00",
          "2021-04-23T00:00:00",
          "2021-04-24T00:00:00",
          "2021-04-25T00:00:00",
          "2021-04-26T00:00:00",
          "2021-04-27T00:00:00",
          "2021-04-28T00:00:00",
          "2021-04-29T00:00:00",
          "2021-04-30T00:00:00",
          "2021-05-01T00:00:00",
          "2021-05-02T00:00:00",
          "2021-05-03T00:00:00",
          "2021-05-04T00:00:00",
          "2021-05-05T00:00:00",
          "2021-05-06T00:00:00",
          "2021-05-07T00:00:00",
          "2021-05-08T00:00:00",
          "2021-05-09T00:00:00",
          "2021-05-10T00:00:00",
          "2021-05-11T00:00:00",
          "2021-05-12T00:00:00",
          "2021-05-13T00:00:00",
          "2021-05-14T00:00:00",
          "2021-05-15T00:00:00",
          "2021-05-16T00:00:00",
          "2021-05-17T00:00:00",
          "2021-05-18T00:00:00",
          "2021-05-19T00:00:00",
          "2021-05-20T00:00:00",
          "2021-05-21T00:00:00",
          "2021-05-22T00:00:00",
          "2021-05-23T00:00:00",
          "2021-05-24T00:00:00",
          "2021-05-25T00:00:00",
          "2021-05-26T00:00:00",
          "2021-05-27T00:00:00",
          "2021-05-28T00:00:00",
          "2021-05-29T00:00:00",
          "2021-05-30T00:00:00",
          "2021-05-31T00:00:00",
          "2021-06-01T00:00:00",
          "2021-06-02T00:00:00",
          "2021-06-03T00:00:00",
          "2021-06-04T00:00:00",
          "2021-06-05T00:00:00",
          "2021-06-06T00:00:00",
          "2021-06-07T00:00:00",
          "2021-06-08T00:00:00",
          "2021-06-09T00:00:00",
          "2021-06-10T00:00:00",
          "2021-06-11T00:00:00",
          "2021-06-12T00:00:00",
          "2021-06-13T00:00:00",
          "2021-06-14T00:00:00",
          "2021-06-15T00:00:00",
          "2021-06-16T00:00:00",
          "2021-06-17T00:00:00",
          "2021-06-18T00:00:00",
          "2021-06-19T00:00:00",
          "2021-06-20T00:00:00",
          "2021-06-21T00:00:00",
          "2021-06-22T00:00:00",
          "2021-06-23T00:00:00",
          "2021-06-24T00:00:00",
          "2021-06-25T00:00:00",
          "2021-06-26T00:00:00",
          "2021-06-27T00:00:00",
          "2021-06-28T00:00:00",
          "2021-06-29T00:00:00",
          "2021-06-30T00:00:00",
          "2021-07-01T00:00:00",
          "2021-07-02T00:00:00",
          "2021-07-03T00:00:00",
          "2021-07-04T00:00:00",
          "2021-07-05T00:00:00",
          "2021-07-06T00:00:00",
          "2021-07-07T00:00:00",
          "2021-07-08T00:00:00",
          "2021-07-09T00:00:00",
          "2021-07-10T00:00:00",
          "2021-07-11T00:00:00",
          "2021-07-12T00:00:00",
          "2021-07-13T00:00:00",
          "2021-07-14T00:00:00",
          "2021-07-15T00:00:00",
          "2021-07-16T00:00:00",
          "2021-07-17T00:00:00",
          "2021-07-18T00:00:00",
          "2021-07-19T00:00:00",
          "2021-07-20T00:00:00",
          "2021-07-21T00:00:00",
          "2021-07-22T00:00:00",
          "2021-07-23T00:00:00",
          "2021-07-24T00:00:00",
          "2021-07-25T00:00:00",
          "2021-07-26T00:00:00",
          "2021-07-27T00:00:00",
          "2021-07-28T00:00:00",
          "2021-07-29T00:00:00",
          "2021-07-30T00:00:00",
          "2021-07-31T00:00:00",
          "2021-08-01T00:00:00",
          "2021-08-02T00:00:00",
          "2021-08-03T00:00:00",
          "2021-08-04T00:00:00",
          "2021-08-05T00:00:00",
          "2021-08-06T00:00:00",
          "2021-08-07T00:00:00",
          "2021-08-08T00:00:00",
          "2021-08-09T00:00:00",
          "2021-08-10T00:00:00",
          "2021-08-11T00:00:00",
          "2021-08-12T00:00:00",
          "2021-08-13T00:00:00",
          "2021-08-14T00:00:00",
          "2021-08-15T00:00:00",
          "2021-08-16T00:00:00",
          "2021-08-17T00:00:00",
          "2021-08-18T00:00:00",
          "2021-08-19T00:00:00",
          "2021-08-20T00:00:00",
          "2021-08-21T00:00:00",
          "2021-08-22T00:00:00",
          "2021-08-23T00:00:00",
          "2021-08-24T00:00:00",
          "2021-08-25T00:00:00",
          "2021-08-26T00:00:00",
          "2021-08-27T00:00:00",
          "2021-08-28T00:00:00",
          "2021-08-29T00:00:00",
          "2021-08-30T00:00:00",
          "2021-08-31T00:00:00",
          "2021-09-01T00:00:00",
          "2021-09-02T00:00:00",
          "2021-09-03T00:00:00",
          "2021-09-04T00:00:00",
          "2021-09-05T00:00:00",
          "2021-09-06T00:00:00",
          "2021-09-07T00:00:00",
          "2021-09-08T00:00:00",
          "2021-09-09T00:00:00",
          "2021-09-10T00:00:00",
          "2021-09-11T00:00:00",
          "2021-09-12T00:00:00",
          "2021-09-13T00:00:00",
          "2021-09-14T00:00:00",
          "2021-09-15T00:00:00",
          "2021-09-16T00:00:00",
          "2021-09-17T00:00:00",
          "2021-09-18T00:00:00",
          "2021-09-19T00:00:00",
          "2021-09-20T00:00:00",
          "2021-09-21T00:00:00",
          "2021-09-22T00:00:00",
          "2021-09-23T00:00:00",
          "2021-09-24T00:00:00",
          "2021-09-25T00:00:00",
          "2021-09-26T00:00:00",
          "2021-09-27T00:00:00",
          "2021-09-28T00:00:00",
          "2021-09-29T00:00:00",
          "2021-09-30T00:00:00",
          "2021-10-01T00:00:00",
          "2021-10-02T00:00:00",
          "2021-10-03T00:00:00",
          "2021-10-04T00:00:00",
          "2021-10-05T00:00:00",
          "2021-10-06T00:00:00",
          "2021-10-07T00:00:00",
          "2021-10-08T00:00:00",
          "2021-10-09T00:00:00",
          "2021-10-10T00:00:00",
          "2021-10-11T00:00:00",
          "2021-10-12T00:00:00",
          "2021-10-13T00:00:00",
          "2021-10-14T00:00:00",
          "2021-10-15T00:00:00",
          "2021-10-16T00:00:00",
          "2021-10-17T00:00:00",
          "2021-10-18T00:00:00",
          "2021-10-19T00:00:00",
          "2021-10-20T00:00:00",
          "2021-10-21T00:00:00",
          "2021-10-22T00:00:00",
          "2021-10-23T00:00:00",
          "2021-10-24T00:00:00",
          "2021-10-25T00:00:00",
          "2021-10-26T00:00:00",
          "2021-10-27T00:00:00",
          "2021-10-28T00:00:00",
          "2021-10-29T00:00:00",
          "2021-10-30T00:00:00",
          "2021-10-31T00:00:00",
          "2021-11-01T00:00:00",
          "2021-11-02T00:00:00",
          "2021-11-03T00:00:00",
          "2021-11-04T00:00:00",
          "2021-11-05T00:00:00",
          "2021-11-06T00:00:00",
          "2021-11-07T00:00:00",
          "2021-11-08T00:00:00",
          "2021-11-09T00:00:00",
          "2021-11-10T00:00:00",
          "2021-11-11T00:00:00",
          "2021-11-12T00:00:00",
          "2021-11-13T00:00:00",
          "2021-11-14T00:00:00",
          "2021-11-15T00:00:00",
          "2021-11-16T00:00:00",
          "2021-11-17T00:00:00",
          "2021-11-18T00:00:00",
          "2021-11-19T00:00:00",
          "2021-11-20T00:00:00",
          "2021-11-21T00:00:00",
          "2021-11-22T00:00:00",
          "2021-11-23T00:00:00",
          "2021-11-24T00:00:00",
          "2021-11-25T00:00:00",
          "2021-11-26T00:00:00",
          "2021-11-27T00:00:00",
          "2021-11-28T00:00:00",
          "2021-11-29T00:00:00",
          "2021-11-30T00:00:00",
          "2021-12-01T00:00:00",
          "2021-12-02T00:00:00",
          "2021-12-03T00:00:00",
          "2021-12-04T00:00:00",
          "2021-12-05T00:00:00",
          "2021-12-06T00:00:00",
          "2021-12-07T00:00:00",
          "2021-12-08T00:00:00",
          "2021-12-09T00:00:00",
          "2021-12-10T00:00:00",
          "2021-12-11T00:00:00",
          "2021-12-12T00:00:00",
          "2021-12-13T00:00:00",
          "2021-12-14T00:00:00",
          "2021-12-15T00:00:00",
          "2021-12-16T00:00:00",
          "2021-12-17T00:00:00",
          "2021-12-18T00:00:00",
          "2021-12-19T00:00:00",
          "2021-12-20T00:00:00",
          "2021-12-21T00:00:00",
          "2021-12-22T00:00:00",
          "2021-12-23T00:00:00",
          "2021-12-24T00:00:00",
          "2021-12-25T00:00:00",
          "2021-12-26T00:00:00",
          "2021-12-27T00:00:00",
          "2021-12-28T00:00:00",
          "2021-12-29T00:00:00",
          "2021-12-30T00:00:00",
          "2021-12-31T00:00:00",
          "2022-01-01T00:00:00",
          "2022-01-02T00:00:00",
          "2022-01-03T00:00:00",
          "2022-01-04T00:00:00",
          "2022-01-05T00:00:00",
          "2022-01-06T00:00:00",
          "2022-01-07T00:00:00",
          "2022-01-08T00:00:00",
          "2022-01-09T00:00:00",
          "2022-01-10T00:00:00",
          "2022-01-11T00:00:00",
          "2022-01-12T00:00:00",
          "2022-01-13T00:00:00",
          "2022-01-14T00:00:00",
          "2022-01-15T00:00:00",
          "2022-01-16T00:00:00",
          "2022-01-17T00:00:00",
          "2022-01-18T00:00:00",
          "2022-01-19T00:00:00",
          "2022-01-20T00:00:00",
          "2022-01-21T00:00:00",
          "2022-01-22T00:00:00",
          "2022-01-23T00:00:00",
          "2022-01-24T00:00:00",
          "2022-01-25T00:00:00",
          "2022-01-26T00:00:00",
          "2022-01-27T00:00:00",
          "2022-01-28T00:00:00",
          "2022-01-29T00:00:00",
          "2022-01-30T00:00:00",
          "2022-01-31T00:00:00",
          "2022-02-01T00:00:00",
          "2022-02-02T00:00:00",
          "2022-02-03T00:00:00",
          "2022-02-04T00:00:00",
          "2022-02-05T00:00:00",
          "2022-02-06T00:00:00",
          "2022-02-07T00:00:00",
          "2022-02-08T00:00:00",
          "2022-02-09T00:00:00",
          "2022-02-10T00:00:00",
          "2022-02-11T00:00:00",
          "2022-02-12T00:00:00",
          "2022-02-13T00:00:00",
          "2022-02-14T00:00:00",
          "2022-02-15T00:00:00",
          "2022-02-16T00:00:00",
          "2022-02-17T00:00:00",
          "2022-02-18T00:00:00",
          "2022-02-19T00:00:00",
          "2022-02-20T00:00:00",
          "2022-02-21T00:00:00",
          "2022-02-22T00:00:00",
          "2022-02-23T00:00:00",
          "2022-02-24T00:00:00",
          "2022-02-25T00:00:00",
          "2022-02-26T00:00:00",
          "2022-02-27T00:00:00",
          "2022-02-28T00:00:00",
          "2022-03-01T00:00:00",
          "2022-03-02T00:00:00",
          "2022-03-03T00:00:00",
          "2022-03-04T00:00:00",
          "2022-03-05T00:00:00",
          "2022-03-06T00:00:00",
          "2022-03-07T00:00:00",
          "2022-03-08T00:00:00",
          "2022-03-09T00:00:00",
          "2022-03-10T00:00:00",
          "2022-03-11T00:00:00",
          "2022-03-12T00:00:00",
          "2022-03-13T00:00:00",
          "2022-03-14T00:00:00",
          "2022-03-15T00:00:00",
          "2022-03-16T00:00:00",
          "2022-03-17T00:00:00",
          "2022-03-18T00:00:00",
          "2022-03-19T00:00:00",
          "2022-03-20T00:00:00",
          "2022-03-21T00:00:00",
          "2022-03-22T00:00:00",
          "2022-03-23T00:00:00",
          "2022-03-24T00:00:00",
          "2022-03-25T00:00:00",
          "2022-03-26T00:00:00",
          "2022-03-27T00:00:00",
          "2022-03-28T00:00:00",
          "2022-03-29T00:00:00",
          "2022-03-30T00:00:00",
          "2022-03-31T00:00:00",
          "2022-04-01T00:00:00",
          "2022-04-02T00:00:00",
          "2022-04-03T00:00:00",
          "2022-04-04T00:00:00",
          "2022-04-05T00:00:00",
          "2022-04-06T00:00:00",
          "2022-04-07T00:00:00",
          "2022-04-08T00:00:00",
          "2022-04-09T00:00:00",
          "2022-04-10T00:00:00",
          "2022-04-11T00:00:00",
          "2022-04-12T00:00:00",
          "2022-04-13T00:00:00",
          "2022-04-14T00:00:00",
          "2022-04-15T00:00:00",
          "2022-04-16T00:00:00",
          "2022-04-17T00:00:00",
          "2022-04-18T00:00:00",
          "2022-04-19T00:00:00",
          "2022-04-20T00:00:00",
          "2022-04-21T00:00:00",
          "2022-04-22T00:00:00",
          "2022-04-23T00:00:00",
          "2022-04-24T00:00:00",
          "2022-04-25T00:00:00",
          "2022-04-26T00:00:00",
          "2022-04-27T00:00:00",
          "2022-04-28T00:00:00",
          "2022-04-29T00:00:00",
          "2022-04-30T00:00:00",
          "2022-05-01T00:00:00",
          "2022-05-02T00:00:00",
          "2022-05-03T00:00:00",
          "2022-05-04T00:00:00",
          "2022-05-05T00:00:00",
          "2022-05-06T00:00:00",
          "2022-05-07T00:00:00",
          "2022-05-08T00:00:00",
          "2022-05-09T00:00:00",
          "2022-05-10T00:00:00",
          "2022-05-11T00:00:00",
          "2022-05-12T00:00:00",
          "2022-05-13T00:00:00",
          "2022-05-14T00:00:00",
          "2022-05-15T00:00:00",
          "2022-05-16T00:00:00",
          "2022-05-17T00:00:00",
          "2022-05-18T00:00:00",
          "2022-05-19T00:00:00",
          "2022-05-20T00:00:00",
          "2022-05-21T00:00:00",
          "2022-05-22T00:00:00",
          "2022-05-23T00:00:00",
          "2022-05-24T00:00:00",
          "2022-05-25T00:00:00",
          "2022-05-26T00:00:00",
          "2022-05-27T00:00:00",
          "2022-05-28T00:00:00",
          "2022-05-29T00:00:00",
          "2022-05-30T00:00:00",
          "2022-05-31T00:00:00",
          "2022-06-01T00:00:00",
          "2022-06-02T00:00:00",
          "2022-06-03T00:00:00",
          "2022-06-04T00:00:00",
          "2022-06-05T00:00:00",
          "2022-06-06T00:00:00",
          "2022-06-07T00:00:00",
          "2022-06-08T00:00:00",
          "2022-06-09T00:00:00",
          "2022-06-10T00:00:00",
          "2022-06-11T00:00:00",
          "2022-06-12T00:00:00",
          "2022-06-13T00:00:00",
          "2022-06-14T00:00:00",
          "2022-06-15T00:00:00",
          "2022-06-16T00:00:00",
          "2022-06-17T00:00:00",
          "2022-06-18T00:00:00"
         ],
         "xaxis": "x",
         "y": [
          3,
          0,
          2,
          3,
          4,
          6,
          1,
          12,
          0,
          10,
          50,
          3,
          47,
          48,
          64,
          45,
          98,
          68,
          230,
          139,
          162,
          125,
          116,
          158,
          260,
          271,
          354,
          352,
          186,
          184,
          307,
          200,
          350,
          233,
          381,
          115,
          235,
          195,
          295,
          257,
          163,
          99,
          160,
          68,
          52,
          105,
          217,
          116,
          57,
          140,
          154,
          133,
          99,
          55,
          86,
          79,
          52,
          41,
          59,
          75,
          103,
          55,
          18,
          26,
          38,
          77,
          78,
          57,
          46,
          18,
          28,
          53,
          45,
          48,
          82,
          55,
          49,
          20,
          111,
          61,
          74,
          33,
          59,
          77,
          65,
          47,
          48,
          36,
          54,
          56,
          34,
          38,
          34,
          62,
          74,
          56,
          35,
          38,
          61,
          69,
          54,
          73,
          31,
          83,
          53,
          33,
          40,
          47,
          51,
          118,
          126,
          42,
          50,
          25,
          127,
          127,
          93,
          168,
          260,
          305,
          202,
          149,
          92,
          132,
          141,
          121,
          75,
          51,
          119,
          129,
          105,
          82,
          114,
          59,
          64,
          103,
          134,
          137,
          130,
          113,
          90,
          153,
          226,
          246,
          230,
          281,
          131,
          112,
          192,
          283,
          294,
          278,
          203,
          125,
          101,
          208,
          278,
          243,
          202,
          329,
          175,
          118,
          141,
          289,
          292,
          326,
          292,
          198,
          121,
          190,
          281,
          315,
          247,
          506,
          239,
          133,
          258,
          367,
          403,
          218,
          608,
          317,
          273,
          251,
          499,
          656,
          679,
          797,
          503,
          404,
          560,
          1161,
          1159,
          1377,
          1447,
          1541,
          787,
          1034,
          1674,
          2136,
          3123,
          2107,
          2044,
          984,
          1474,
          2394,
          2306,
          2910,
          2944,
          1976,
          1303,
          1286,
          1960,
          2920,
          3492,
          3796,
          2554,
          1841,
          3120,
          4456,
          5338,
          5397,
          8617,
          4631,
          3105,
          4311,
          8326,
          9543,
          9720,
          11102,
          8715,
          5058,
          8077,
          11984,
          14969,
          14150,
          15258,
          12474,
          7300,
          10273,
          15663,
          12980,
          13055,
          13605,
          11429,
          6542,
          9252,
          12089,
          15731,
          13229,
          11552,
          7723,
          3608,
          2353,
          12699,
          8925,
          7870,
          7355,
          4199,
          1887,
          5407,
          4246,
          5515,
          6471,
          5808,
          3187,
          1513,
          4375,
          5896,
          2681,
          6305,
          4464,
          2665,
          1074,
          3575,
          5176,
          4568,
          4621,
          4743,
          1773,
          2654,
          0,
          4237,
          5857,
          6406,
          5872,
          6217,
          3657,
          2000,
          5172,
          7897,
          8256,
          7602,
          8830,
          5304,
          3383,
          7891,
          10898,
          14149,
          4402,
          2706,
          3030,
          3741,
          10862,
          16420,
          17039,
          13361,
          3447,
          5012,
          6233,
          12921,
          17332,
          17773,
          14861,
          13115,
          8449,
          4289,
          9345,
          10801,
          10922,
          8083,
          9301,
          5253,
          2693,
          7651,
          9628,
          8228,
          7488,
          8514,
          4256,
          2387,
          6942,
          9209,
          8505,
          7982,
          8072,
          4060,
          2555,
          7185,
          9143,
          9695,
          8125,
          8635,
          4863,
          2430,
          7727,
          10283,
          9537,
          9014,
          8883,
          5160,
          2851,
          8794,
          12668,
          10930,
          11705,
          11364,
          6838,
          4021,
          11311,
          15861,
          13816,
          14612,
          14815,
          7885,
          4571,
          12191,
          16816,
          15230,
          14714,
          13162,
          9167,
          3960,
          10524,
          15380,
          14529,
          11274,
          15110,
          6970,
          3342,
          10542,
          14029,
          12028,
          10677,
          9710,
          10141,
          0,
          8205,
          10972,
          8851,
          7946,
          7714,
          4008,
          1743,
          6896,
          8664,
          7285,
          6248,
          3869,
          2162,
          1924,
          1425,
          5532,
          7071,
          5305,
          4819,
          2217,
          995,
          3853,
          5087,
          3723,
          3256,
          3238,
          1540,
          830,
          3319,
          3831,
          2971,
          2629,
          2607,
          1315,
          823,
          2571,
          3256,
          2503,
          2222,
          2174,
          1182,
          505,
          2217,
          2412,
          1872,
          1576,
          1639,
          726,
          387,
          1533,
          1686,
          1280,
          1231,
          1060,
          602,
          259,
          1120,
          1195,
          788,
          672,
          684,
          335,
          199,
          686,
          655,
          547,
          501,
          454,
          224,
          113,
          508,
          476,
          352,
          432,
          323,
          154,
          90,
          391,
          384,
          267,
          190,
          183,
          75,
          41,
          189,
          199,
          134,
          158,
          143,
          64,
          57,
          110,
          133,
          196,
          165,
          135,
          69,
          57,
          168,
          172,
          148,
          173,
          188,
          139,
          105,
          130,
          107,
          342,
          272,
          291,
          169,
          145,
          249,
          328,
          275,
          235,
          240,
          204,
          118,
          227,
          313,
          248,
          207,
          200,
          69,
          138,
          217,
          253,
          202,
          210,
          147,
          118,
          75,
          157,
          257,
          227,
          167,
          149,
          180,
          104,
          169,
          271,
          225,
          193,
          212,
          142,
          75,
          221,
          299,
          212,
          175,
          174,
          134,
          107,
          210,
          254,
          248,
          213,
          187,
          131,
          82,
          245,
          287,
          262,
          308,
          308,
          205,
          138,
          394,
          590,
          373,
          421,
          451,
          253,
          136,
          487,
          555,
          524,
          554,
          443,
          304,
          182,
          487,
          597,
          525,
          484,
          496,
          411,
          256,
          668,
          470,
          731,
          923,
          822,
          556,
          317,
          803,
          1106,
          1048,
          997,
          1013,
          669,
          335,
          3925,
          1529,
          0,
          1535,
          1785,
          1169,
          791,
          2530,
          3269,
          3293,
          3638,
          4244,
          2768,
          1829,
          4265,
          6307,
          5842,
          4385,
          5735,
          5081,
          2752,
          7637,
          9936,
          9480,
          8447,
          9241,
          5766,
          2997,
          9282,
          14579,
          13536,
          10414,
          14237,
          9199,
          5670,
          11554,
          22585,
          14186,
          13416,
          23033,
          14442,
          22778,
          961,
          24988,
          18046,
          27793,
          20417,
          22106,
          718,
          16944,
          22042,
          21205,
          18683,
          17743,
          11006,
          6346,
          15599,
          19546,
          16229,
          14295,
          12445,
          9108,
          4113,
          11936,
          16738,
          11652,
          9525,
          8993,
          6002,
          3741,
          0,
          0,
          0,
          0,
          37659,
          1093,
          2017,
          6887,
          9135,
          6171,
          5778,
          5007,
          1096,
          1930,
          9383,
          10229,
          7422,
          6679,
          6696,
          3975,
          2771,
          7381,
          23937,
          0,
          11710,
          13202,
          9292,
          7327,
          20355,
          28564,
          26082,
          26987,
          26699,
          18412,
          12935,
          30445,
          39716,
          54866,
          34853,
          47427,
          18329,
          24018,
          29630,
          57378,
          43450,
          37797,
          28779,
          24083,
          9127,
          29677,
          37777,
          29166,
          22735,
          22197,
          11000,
          7219,
          47849,
          0,
          17046,
          15568,
          13888,
          8256,
          17793,
          0,
          14353,
          11257,
          10081,
          9157,
          5611,
          0,
          13543,
          11663,
          9001,
          8105,
          8297,
          4578,
          2580,
          10419,
          10527,
          9076,
          8263,
          8391,
          7202,
          0,
          10864,
          10751,
          8593,
          8187,
          8731,
          4792,
          2283,
          10462,
          10528,
          15710,
          7658,
          0,
          5790,
          8836,
          8943,
          7425,
          6509,
          5986,
          2600,
          1668,
          6579,
          6729,
          5305,
          4996,
          4166,
          2258,
          0,
          6155,
          4045,
          3472,
          0,
          4562,
          1088,
          751,
          885,
          3596,
          3460,
          2168,
          2126,
          914,
          600,
          2262,
          2038,
          1651,
          1564,
          1442,
          0,
          997,
          1695,
          1374,
          1219,
          938,
          797,
          240,
          126,
          0,
          1626,
          0,
          1118,
          472,
          144,
          70,
          523,
          490,
          359,
          364,
          326,
          85,
          63,
          410,
          200,
          361,
          246,
          256,
          0,
          87,
          319,
          293,
          251,
          176,
          289,
          81,
          29,
          404,
          315,
          0,
          410,
          624,
          90,
          61,
          460,
          454,
          413,
          373,
          439,
          123
         ],
         "yaxis": "y"
        },
        {
         "fillpattern": {
          "shape": ""
         },
         "hovertemplate": "location=Poland<br>Date=%{x}<br>Number of diagnosed cases=%{y}<extra></extra>",
         "legendgroup": "Poland",
         "line": {
          "color": "#ff7f0e"
         },
         "marker": {
          "symbol": "circle"
         },
         "mode": "lines",
         "name": "Poland",
         "orientation": "v",
         "showlegend": true,
         "stackgroup": "1",
         "type": "scatter",
         "x": [
          "2020-03-04T00:00:00",
          "2020-03-05T00:00:00",
          "2020-03-06T00:00:00",
          "2020-03-07T00:00:00",
          "2020-03-08T00:00:00",
          "2020-03-09T00:00:00",
          "2020-03-10T00:00:00",
          "2020-03-11T00:00:00",
          "2020-03-12T00:00:00",
          "2020-03-13T00:00:00",
          "2020-03-14T00:00:00",
          "2020-03-15T00:00:00",
          "2020-03-16T00:00:00",
          "2020-03-17T00:00:00",
          "2020-03-18T00:00:00",
          "2020-03-19T00:00:00",
          "2020-03-20T00:00:00",
          "2020-03-21T00:00:00",
          "2020-03-22T00:00:00",
          "2020-03-23T00:00:00",
          "2020-03-24T00:00:00",
          "2020-03-25T00:00:00",
          "2020-03-26T00:00:00",
          "2020-03-27T00:00:00",
          "2020-03-28T00:00:00",
          "2020-03-29T00:00:00",
          "2020-03-30T00:00:00",
          "2020-03-31T00:00:00",
          "2020-04-01T00:00:00",
          "2020-04-02T00:00:00",
          "2020-04-03T00:00:00",
          "2020-04-04T00:00:00",
          "2020-04-05T00:00:00",
          "2020-04-06T00:00:00",
          "2020-04-07T00:00:00",
          "2020-04-08T00:00:00",
          "2020-04-09T00:00:00",
          "2020-04-10T00:00:00",
          "2020-04-11T00:00:00",
          "2020-04-12T00:00:00",
          "2020-04-13T00:00:00",
          "2020-04-14T00:00:00",
          "2020-04-15T00:00:00",
          "2020-04-16T00:00:00",
          "2020-04-17T00:00:00",
          "2020-04-18T00:00:00",
          "2020-04-19T00:00:00",
          "2020-04-20T00:00:00",
          "2020-04-21T00:00:00",
          "2020-04-22T00:00:00",
          "2020-04-23T00:00:00",
          "2020-04-24T00:00:00",
          "2020-04-25T00:00:00",
          "2020-04-26T00:00:00",
          "2020-04-27T00:00:00",
          "2020-04-28T00:00:00",
          "2020-04-29T00:00:00",
          "2020-04-30T00:00:00",
          "2020-05-01T00:00:00",
          "2020-05-02T00:00:00",
          "2020-05-03T00:00:00",
          "2020-05-04T00:00:00",
          "2020-05-05T00:00:00",
          "2020-05-06T00:00:00",
          "2020-05-07T00:00:00",
          "2020-05-08T00:00:00",
          "2020-05-09T00:00:00",
          "2020-05-10T00:00:00",
          "2020-05-11T00:00:00",
          "2020-05-12T00:00:00",
          "2020-05-13T00:00:00",
          "2020-05-14T00:00:00",
          "2020-05-15T00:00:00",
          "2020-05-16T00:00:00",
          "2020-05-17T00:00:00",
          "2020-05-18T00:00:00",
          "2020-05-19T00:00:00",
          "2020-05-20T00:00:00",
          "2020-05-21T00:00:00",
          "2020-05-22T00:00:00",
          "2020-05-23T00:00:00",
          "2020-05-24T00:00:00",
          "2020-05-25T00:00:00",
          "2020-05-26T00:00:00",
          "2020-05-27T00:00:00",
          "2020-05-28T00:00:00",
          "2020-05-29T00:00:00",
          "2020-05-30T00:00:00",
          "2020-05-31T00:00:00",
          "2020-06-01T00:00:00",
          "2020-06-02T00:00:00",
          "2020-06-03T00:00:00",
          "2020-06-04T00:00:00",
          "2020-06-05T00:00:00",
          "2020-06-06T00:00:00",
          "2020-06-07T00:00:00",
          "2020-06-08T00:00:00",
          "2020-06-09T00:00:00",
          "2020-06-10T00:00:00",
          "2020-06-11T00:00:00",
          "2020-06-12T00:00:00",
          "2020-06-13T00:00:00",
          "2020-06-14T00:00:00",
          "2020-06-15T00:00:00",
          "2020-06-16T00:00:00",
          "2020-06-17T00:00:00",
          "2020-06-18T00:00:00",
          "2020-06-19T00:00:00",
          "2020-06-20T00:00:00",
          "2020-06-21T00:00:00",
          "2020-06-22T00:00:00",
          "2020-06-23T00:00:00",
          "2020-06-24T00:00:00",
          "2020-06-25T00:00:00",
          "2020-06-26T00:00:00",
          "2020-06-27T00:00:00",
          "2020-06-28T00:00:00",
          "2020-06-29T00:00:00",
          "2020-06-30T00:00:00",
          "2020-07-01T00:00:00",
          "2020-07-02T00:00:00",
          "2020-07-03T00:00:00",
          "2020-07-04T00:00:00",
          "2020-07-05T00:00:00",
          "2020-07-06T00:00:00",
          "2020-07-07T00:00:00",
          "2020-07-08T00:00:00",
          "2020-07-09T00:00:00",
          "2020-07-10T00:00:00",
          "2020-07-11T00:00:00",
          "2020-07-12T00:00:00",
          "2020-07-13T00:00:00",
          "2020-07-14T00:00:00",
          "2020-07-15T00:00:00",
          "2020-07-16T00:00:00",
          "2020-07-17T00:00:00",
          "2020-07-18T00:00:00",
          "2020-07-19T00:00:00",
          "2020-07-20T00:00:00",
          "2020-07-21T00:00:00",
          "2020-07-22T00:00:00",
          "2020-07-23T00:00:00",
          "2020-07-24T00:00:00",
          "2020-07-25T00:00:00",
          "2020-07-26T00:00:00",
          "2020-07-27T00:00:00",
          "2020-07-28T00:00:00",
          "2020-07-29T00:00:00",
          "2020-07-30T00:00:00",
          "2020-07-31T00:00:00",
          "2020-08-01T00:00:00",
          "2020-08-02T00:00:00",
          "2020-08-03T00:00:00",
          "2020-08-04T00:00:00",
          "2020-08-05T00:00:00",
          "2020-08-06T00:00:00",
          "2020-08-07T00:00:00",
          "2020-08-08T00:00:00",
          "2020-08-09T00:00:00",
          "2020-08-10T00:00:00",
          "2020-08-11T00:00:00",
          "2020-08-12T00:00:00",
          "2020-08-13T00:00:00",
          "2020-08-14T00:00:00",
          "2020-08-15T00:00:00",
          "2020-08-16T00:00:00",
          "2020-08-17T00:00:00",
          "2020-08-18T00:00:00",
          "2020-08-19T00:00:00",
          "2020-08-20T00:00:00",
          "2020-08-21T00:00:00",
          "2020-08-22T00:00:00",
          "2020-08-23T00:00:00",
          "2020-08-24T00:00:00",
          "2020-08-25T00:00:00",
          "2020-08-26T00:00:00",
          "2020-08-27T00:00:00",
          "2020-08-28T00:00:00",
          "2020-08-29T00:00:00",
          "2020-08-30T00:00:00",
          "2020-08-31T00:00:00",
          "2020-09-01T00:00:00",
          "2020-09-02T00:00:00",
          "2020-09-03T00:00:00",
          "2020-09-04T00:00:00",
          "2020-09-05T00:00:00",
          "2020-09-06T00:00:00",
          "2020-09-07T00:00:00",
          "2020-09-08T00:00:00",
          "2020-09-09T00:00:00",
          "2020-09-10T00:00:00",
          "2020-09-11T00:00:00",
          "2020-09-12T00:00:00",
          "2020-09-13T00:00:00",
          "2020-09-14T00:00:00",
          "2020-09-15T00:00:00",
          "2020-09-16T00:00:00",
          "2020-09-17T00:00:00",
          "2020-09-18T00:00:00",
          "2020-09-19T00:00:00",
          "2020-09-20T00:00:00",
          "2020-09-21T00:00:00",
          "2020-09-22T00:00:00",
          "2020-09-23T00:00:00",
          "2020-09-24T00:00:00",
          "2020-09-25T00:00:00",
          "2020-09-26T00:00:00",
          "2020-09-27T00:00:00",
          "2020-09-28T00:00:00",
          "2020-09-29T00:00:00",
          "2020-09-30T00:00:00",
          "2020-10-01T00:00:00",
          "2020-10-02T00:00:00",
          "2020-10-03T00:00:00",
          "2020-10-04T00:00:00",
          "2020-10-05T00:00:00",
          "2020-10-06T00:00:00",
          "2020-10-07T00:00:00",
          "2020-10-08T00:00:00",
          "2020-10-09T00:00:00",
          "2020-10-10T00:00:00",
          "2020-10-11T00:00:00",
          "2020-10-12T00:00:00",
          "2020-10-13T00:00:00",
          "2020-10-14T00:00:00",
          "2020-10-15T00:00:00",
          "2020-10-16T00:00:00",
          "2020-10-17T00:00:00",
          "2020-10-18T00:00:00",
          "2020-10-19T00:00:00",
          "2020-10-20T00:00:00",
          "2020-10-21T00:00:00",
          "2020-10-22T00:00:00",
          "2020-10-23T00:00:00",
          "2020-10-24T00:00:00",
          "2020-10-25T00:00:00",
          "2020-10-26T00:00:00",
          "2020-10-27T00:00:00",
          "2020-10-28T00:00:00",
          "2020-10-29T00:00:00",
          "2020-10-30T00:00:00",
          "2020-10-31T00:00:00",
          "2020-11-01T00:00:00",
          "2020-11-02T00:00:00",
          "2020-11-03T00:00:00",
          "2020-11-04T00:00:00",
          "2020-11-05T00:00:00",
          "2020-11-06T00:00:00",
          "2020-11-07T00:00:00",
          "2020-11-08T00:00:00",
          "2020-11-09T00:00:00",
          "2020-11-10T00:00:00",
          "2020-11-11T00:00:00",
          "2020-11-12T00:00:00",
          "2020-11-13T00:00:00",
          "2020-11-14T00:00:00",
          "2020-11-15T00:00:00",
          "2020-11-16T00:00:00",
          "2020-11-17T00:00:00",
          "2020-11-18T00:00:00",
          "2020-11-19T00:00:00",
          "2020-11-20T00:00:00",
          "2020-11-21T00:00:00",
          "2020-11-22T00:00:00",
          "2020-11-23T00:00:00",
          "2020-11-24T00:00:00",
          "2020-11-25T00:00:00",
          "2020-11-26T00:00:00",
          "2020-11-27T00:00:00",
          "2020-11-28T00:00:00",
          "2020-11-29T00:00:00",
          "2020-11-30T00:00:00",
          "2020-12-01T00:00:00",
          "2020-12-02T00:00:00",
          "2020-12-03T00:00:00",
          "2020-12-04T00:00:00",
          "2020-12-05T00:00:00",
          "2020-12-06T00:00:00",
          "2020-12-07T00:00:00",
          "2020-12-08T00:00:00",
          "2020-12-09T00:00:00",
          "2020-12-10T00:00:00",
          "2020-12-11T00:00:00",
          "2020-12-12T00:00:00",
          "2020-12-13T00:00:00",
          "2020-12-14T00:00:00",
          "2020-12-15T00:00:00",
          "2020-12-16T00:00:00",
          "2020-12-17T00:00:00",
          "2020-12-18T00:00:00",
          "2020-12-19T00:00:00",
          "2020-12-20T00:00:00",
          "2020-12-21T00:00:00",
          "2020-12-22T00:00:00",
          "2020-12-23T00:00:00",
          "2020-12-24T00:00:00",
          "2020-12-25T00:00:00",
          "2020-12-26T00:00:00",
          "2020-12-27T00:00:00",
          "2020-12-28T00:00:00",
          "2020-12-29T00:00:00",
          "2020-12-30T00:00:00",
          "2020-12-31T00:00:00",
          "2021-01-01T00:00:00",
          "2021-01-02T00:00:00",
          "2021-01-03T00:00:00",
          "2021-01-04T00:00:00",
          "2021-01-05T00:00:00",
          "2021-01-06T00:00:00",
          "2021-01-07T00:00:00",
          "2021-01-08T00:00:00",
          "2021-01-09T00:00:00",
          "2021-01-10T00:00:00",
          "2021-01-11T00:00:00",
          "2021-01-12T00:00:00",
          "2021-01-13T00:00:00",
          "2021-01-14T00:00:00",
          "2021-01-15T00:00:00",
          "2021-01-16T00:00:00",
          "2021-01-17T00:00:00",
          "2021-01-18T00:00:00",
          "2021-01-19T00:00:00",
          "2021-01-20T00:00:00",
          "2021-01-21T00:00:00",
          "2021-01-22T00:00:00",
          "2021-01-23T00:00:00",
          "2021-01-24T00:00:00",
          "2021-01-25T00:00:00",
          "2021-01-26T00:00:00",
          "2021-01-27T00:00:00",
          "2021-01-28T00:00:00",
          "2021-01-29T00:00:00",
          "2021-01-30T00:00:00",
          "2021-01-31T00:00:00",
          "2021-02-01T00:00:00",
          "2021-02-02T00:00:00",
          "2021-02-03T00:00:00",
          "2021-02-04T00:00:00",
          "2021-02-05T00:00:00",
          "2021-02-06T00:00:00",
          "2021-02-07T00:00:00",
          "2021-02-08T00:00:00",
          "2021-02-09T00:00:00",
          "2021-02-10T00:00:00",
          "2021-02-11T00:00:00",
          "2021-02-12T00:00:00",
          "2021-02-13T00:00:00",
          "2021-02-14T00:00:00",
          "2021-02-15T00:00:00",
          "2021-02-16T00:00:00",
          "2021-02-17T00:00:00",
          "2021-02-18T00:00:00",
          "2021-02-19T00:00:00",
          "2021-02-20T00:00:00",
          "2021-02-21T00:00:00",
          "2021-02-22T00:00:00",
          "2021-02-23T00:00:00",
          "2021-02-24T00:00:00",
          "2021-02-25T00:00:00",
          "2021-02-26T00:00:00",
          "2021-02-27T00:00:00",
          "2021-02-28T00:00:00",
          "2021-03-01T00:00:00",
          "2021-03-02T00:00:00",
          "2021-03-03T00:00:00",
          "2021-03-04T00:00:00",
          "2021-03-05T00:00:00",
          "2021-03-06T00:00:00",
          "2021-03-07T00:00:00",
          "2021-03-08T00:00:00",
          "2021-03-09T00:00:00",
          "2021-03-10T00:00:00",
          "2021-03-11T00:00:00",
          "2021-03-12T00:00:00",
          "2021-03-13T00:00:00",
          "2021-03-14T00:00:00",
          "2021-03-15T00:00:00",
          "2021-03-16T00:00:00",
          "2021-03-17T00:00:00",
          "2021-03-18T00:00:00",
          "2021-03-19T00:00:00",
          "2021-03-20T00:00:00",
          "2021-03-21T00:00:00",
          "2021-03-22T00:00:00",
          "2021-03-23T00:00:00",
          "2021-03-24T00:00:00",
          "2021-03-25T00:00:00",
          "2021-03-26T00:00:00",
          "2021-03-27T00:00:00",
          "2021-03-28T00:00:00",
          "2021-03-29T00:00:00",
          "2021-03-30T00:00:00",
          "2021-03-31T00:00:00",
          "2021-04-01T00:00:00",
          "2021-04-02T00:00:00",
          "2021-04-03T00:00:00",
          "2021-04-04T00:00:00",
          "2021-04-05T00:00:00",
          "2021-04-06T00:00:00",
          "2021-04-07T00:00:00",
          "2021-04-08T00:00:00",
          "2021-04-09T00:00:00",
          "2021-04-10T00:00:00",
          "2021-04-11T00:00:00",
          "2021-04-12T00:00:00",
          "2021-04-13T00:00:00",
          "2021-04-14T00:00:00",
          "2021-04-15T00:00:00",
          "2021-04-16T00:00:00",
          "2021-04-17T00:00:00",
          "2021-04-18T00:00:00",
          "2021-04-19T00:00:00",
          "2021-04-20T00:00:00",
          "2021-04-21T00:00:00",
          "2021-04-22T00:00:00",
          "2021-04-23T00:00:00",
          "2021-04-24T00:00:00",
          "2021-04-25T00:00:00",
          "2021-04-26T00:00:00",
          "2021-04-27T00:00:00",
          "2021-04-28T00:00:00",
          "2021-04-29T00:00:00",
          "2021-04-30T00:00:00",
          "2021-05-01T00:00:00",
          "2021-05-02T00:00:00",
          "2021-05-03T00:00:00",
          "2021-05-04T00:00:00",
          "2021-05-05T00:00:00",
          "2021-05-06T00:00:00",
          "2021-05-07T00:00:00",
          "2021-05-08T00:00:00",
          "2021-05-09T00:00:00",
          "2021-05-10T00:00:00",
          "2021-05-11T00:00:00",
          "2021-05-12T00:00:00",
          "2021-05-13T00:00:00",
          "2021-05-14T00:00:00",
          "2021-05-15T00:00:00",
          "2021-05-16T00:00:00",
          "2021-05-17T00:00:00",
          "2021-05-18T00:00:00",
          "2021-05-19T00:00:00",
          "2021-05-20T00:00:00",
          "2021-05-21T00:00:00",
          "2021-05-22T00:00:00",
          "2021-05-23T00:00:00",
          "2021-05-24T00:00:00",
          "2021-05-25T00:00:00",
          "2021-05-26T00:00:00",
          "2021-05-27T00:00:00",
          "2021-05-28T00:00:00",
          "2021-05-29T00:00:00",
          "2021-05-30T00:00:00",
          "2021-05-31T00:00:00",
          "2021-06-01T00:00:00",
          "2021-06-02T00:00:00",
          "2021-06-03T00:00:00",
          "2021-06-04T00:00:00",
          "2021-06-05T00:00:00",
          "2021-06-06T00:00:00",
          "2021-06-07T00:00:00",
          "2021-06-08T00:00:00",
          "2021-06-09T00:00:00",
          "2021-06-10T00:00:00",
          "2021-06-11T00:00:00",
          "2021-06-12T00:00:00",
          "2021-06-13T00:00:00",
          "2021-06-14T00:00:00",
          "2021-06-15T00:00:00",
          "2021-06-16T00:00:00",
          "2021-06-17T00:00:00",
          "2021-06-18T00:00:00",
          "2021-06-19T00:00:00",
          "2021-06-20T00:00:00",
          "2021-06-21T00:00:00",
          "2021-06-22T00:00:00",
          "2021-06-23T00:00:00",
          "2021-06-24T00:00:00",
          "2021-06-25T00:00:00",
          "2021-06-26T00:00:00",
          "2021-06-27T00:00:00",
          "2021-06-28T00:00:00",
          "2021-06-29T00:00:00",
          "2021-06-30T00:00:00",
          "2021-07-01T00:00:00",
          "2021-07-02T00:00:00",
          "2021-07-03T00:00:00",
          "2021-07-04T00:00:00",
          "2021-07-05T00:00:00",
          "2021-07-06T00:00:00",
          "2021-07-07T00:00:00",
          "2021-07-08T00:00:00",
          "2021-07-09T00:00:00",
          "2021-07-10T00:00:00",
          "2021-07-11T00:00:00",
          "2021-07-12T00:00:00",
          "2021-07-13T00:00:00",
          "2021-07-14T00:00:00",
          "2021-07-15T00:00:00",
          "2021-07-16T00:00:00",
          "2021-07-17T00:00:00",
          "2021-07-18T00:00:00",
          "2021-07-19T00:00:00",
          "2021-07-20T00:00:00",
          "2021-07-21T00:00:00",
          "2021-07-22T00:00:00",
          "2021-07-23T00:00:00",
          "2021-07-24T00:00:00",
          "2021-07-25T00:00:00",
          "2021-07-26T00:00:00",
          "2021-07-27T00:00:00",
          "2021-07-28T00:00:00",
          "2021-07-29T00:00:00",
          "2021-07-30T00:00:00",
          "2021-07-31T00:00:00",
          "2021-08-01T00:00:00",
          "2021-08-02T00:00:00",
          "2021-08-03T00:00:00",
          "2021-08-04T00:00:00",
          "2021-08-05T00:00:00",
          "2021-08-06T00:00:00",
          "2021-08-07T00:00:00",
          "2021-08-08T00:00:00",
          "2021-08-09T00:00:00",
          "2021-08-10T00:00:00",
          "2021-08-11T00:00:00",
          "2021-08-12T00:00:00",
          "2021-08-13T00:00:00",
          "2021-08-14T00:00:00",
          "2021-08-15T00:00:00",
          "2021-08-16T00:00:00",
          "2021-08-17T00:00:00",
          "2021-08-18T00:00:00",
          "2021-08-19T00:00:00",
          "2021-08-20T00:00:00",
          "2021-08-21T00:00:00",
          "2021-08-22T00:00:00",
          "2021-08-23T00:00:00",
          "2021-08-24T00:00:00",
          "2021-08-25T00:00:00",
          "2021-08-26T00:00:00",
          "2021-08-27T00:00:00",
          "2021-08-28T00:00:00",
          "2021-08-29T00:00:00",
          "2021-08-30T00:00:00",
          "2021-08-31T00:00:00",
          "2021-09-01T00:00:00",
          "2021-09-02T00:00:00",
          "2021-09-03T00:00:00",
          "2021-09-04T00:00:00",
          "2021-09-05T00:00:00",
          "2021-09-06T00:00:00",
          "2021-09-07T00:00:00",
          "2021-09-08T00:00:00",
          "2021-09-09T00:00:00",
          "2021-09-10T00:00:00",
          "2021-09-11T00:00:00",
          "2021-09-12T00:00:00",
          "2021-09-13T00:00:00",
          "2021-09-14T00:00:00",
          "2021-09-15T00:00:00",
          "2021-09-16T00:00:00",
          "2021-09-17T00:00:00",
          "2021-09-18T00:00:00",
          "2021-09-19T00:00:00",
          "2021-09-20T00:00:00",
          "2021-09-21T00:00:00",
          "2021-09-22T00:00:00",
          "2021-09-23T00:00:00",
          "2021-09-24T00:00:00",
          "2021-09-25T00:00:00",
          "2021-09-26T00:00:00",
          "2021-09-27T00:00:00",
          "2021-09-28T00:00:00",
          "2021-09-29T00:00:00",
          "2021-09-30T00:00:00",
          "2021-10-01T00:00:00",
          "2021-10-02T00:00:00",
          "2021-10-03T00:00:00",
          "2021-10-04T00:00:00",
          "2021-10-05T00:00:00",
          "2021-10-06T00:00:00",
          "2021-10-07T00:00:00",
          "2021-10-08T00:00:00",
          "2021-10-09T00:00:00",
          "2021-10-10T00:00:00",
          "2021-10-11T00:00:00",
          "2021-10-12T00:00:00",
          "2021-10-13T00:00:00",
          "2021-10-14T00:00:00",
          "2021-10-15T00:00:00",
          "2021-10-16T00:00:00",
          "2021-10-17T00:00:00",
          "2021-10-18T00:00:00",
          "2021-10-19T00:00:00",
          "2021-10-20T00:00:00",
          "2021-10-21T00:00:00",
          "2021-10-22T00:00:00",
          "2021-10-23T00:00:00",
          "2021-10-24T00:00:00",
          "2021-10-25T00:00:00",
          "2021-10-26T00:00:00",
          "2021-10-27T00:00:00",
          "2021-10-28T00:00:00",
          "2021-10-29T00:00:00",
          "2021-10-30T00:00:00",
          "2021-10-31T00:00:00",
          "2021-11-01T00:00:00",
          "2021-11-02T00:00:00",
          "2021-11-03T00:00:00",
          "2021-11-04T00:00:00",
          "2021-11-05T00:00:00",
          "2021-11-06T00:00:00",
          "2021-11-07T00:00:00",
          "2021-11-08T00:00:00",
          "2021-11-09T00:00:00",
          "2021-11-10T00:00:00",
          "2021-11-11T00:00:00",
          "2021-11-12T00:00:00",
          "2021-11-13T00:00:00",
          "2021-11-14T00:00:00",
          "2021-11-15T00:00:00",
          "2021-11-16T00:00:00",
          "2021-11-17T00:00:00",
          "2021-11-18T00:00:00",
          "2021-11-19T00:00:00",
          "2021-11-20T00:00:00",
          "2021-11-21T00:00:00",
          "2021-11-22T00:00:00",
          "2021-11-23T00:00:00",
          "2021-11-24T00:00:00",
          "2021-11-25T00:00:00",
          "2021-11-26T00:00:00",
          "2021-11-27T00:00:00",
          "2021-11-28T00:00:00",
          "2021-11-29T00:00:00",
          "2021-11-30T00:00:00",
          "2021-12-01T00:00:00",
          "2021-12-02T00:00:00",
          "2021-12-03T00:00:00",
          "2021-12-04T00:00:00",
          "2021-12-05T00:00:00",
          "2021-12-06T00:00:00",
          "2021-12-07T00:00:00",
          "2021-12-08T00:00:00",
          "2021-12-09T00:00:00",
          "2021-12-10T00:00:00",
          "2021-12-11T00:00:00",
          "2021-12-12T00:00:00",
          "2021-12-13T00:00:00",
          "2021-12-14T00:00:00",
          "2021-12-15T00:00:00",
          "2021-12-16T00:00:00",
          "2021-12-17T00:00:00",
          "2021-12-18T00:00:00",
          "2021-12-19T00:00:00",
          "2021-12-20T00:00:00",
          "2021-12-21T00:00:00",
          "2021-12-22T00:00:00",
          "2021-12-23T00:00:00",
          "2021-12-24T00:00:00",
          "2021-12-25T00:00:00",
          "2021-12-26T00:00:00",
          "2021-12-27T00:00:00",
          "2021-12-28T00:00:00",
          "2021-12-29T00:00:00",
          "2021-12-30T00:00:00",
          "2021-12-31T00:00:00",
          "2022-01-01T00:00:00",
          "2022-01-02T00:00:00",
          "2022-01-03T00:00:00",
          "2022-01-04T00:00:00",
          "2022-01-05T00:00:00",
          "2022-01-06T00:00:00",
          "2022-01-07T00:00:00",
          "2022-01-08T00:00:00",
          "2022-01-09T00:00:00",
          "2022-01-10T00:00:00",
          "2022-01-11T00:00:00",
          "2022-01-12T00:00:00",
          "2022-01-13T00:00:00",
          "2022-01-14T00:00:00",
          "2022-01-15T00:00:00",
          "2022-01-16T00:00:00",
          "2022-01-17T00:00:00",
          "2022-01-18T00:00:00",
          "2022-01-19T00:00:00",
          "2022-01-20T00:00:00",
          "2022-01-21T00:00:00",
          "2022-01-22T00:00:00",
          "2022-01-23T00:00:00",
          "2022-01-24T00:00:00",
          "2022-01-25T00:00:00",
          "2022-01-26T00:00:00",
          "2022-01-27T00:00:00",
          "2022-01-28T00:00:00",
          "2022-01-29T00:00:00",
          "2022-01-30T00:00:00",
          "2022-01-31T00:00:00",
          "2022-02-01T00:00:00",
          "2022-02-02T00:00:00",
          "2022-02-03T00:00:00",
          "2022-02-04T00:00:00",
          "2022-02-05T00:00:00",
          "2022-02-06T00:00:00",
          "2022-02-07T00:00:00",
          "2022-02-08T00:00:00",
          "2022-02-09T00:00:00",
          "2022-02-10T00:00:00",
          "2022-02-11T00:00:00",
          "2022-02-12T00:00:00",
          "2022-02-13T00:00:00",
          "2022-02-14T00:00:00",
          "2022-02-15T00:00:00",
          "2022-02-16T00:00:00",
          "2022-02-17T00:00:00",
          "2022-02-18T00:00:00",
          "2022-02-19T00:00:00",
          "2022-02-20T00:00:00",
          "2022-02-21T00:00:00",
          "2022-02-22T00:00:00",
          "2022-02-23T00:00:00",
          "2022-02-24T00:00:00",
          "2022-02-25T00:00:00",
          "2022-02-26T00:00:00",
          "2022-02-27T00:00:00",
          "2022-02-28T00:00:00",
          "2022-03-01T00:00:00",
          "2022-03-02T00:00:00",
          "2022-03-03T00:00:00",
          "2022-03-04T00:00:00",
          "2022-03-05T00:00:00",
          "2022-03-06T00:00:00",
          "2022-03-07T00:00:00",
          "2022-03-08T00:00:00",
          "2022-03-09T00:00:00",
          "2022-03-10T00:00:00",
          "2022-03-11T00:00:00",
          "2022-03-12T00:00:00",
          "2022-03-13T00:00:00",
          "2022-03-14T00:00:00",
          "2022-03-15T00:00:00",
          "2022-03-16T00:00:00",
          "2022-03-17T00:00:00",
          "2022-03-18T00:00:00",
          "2022-03-19T00:00:00",
          "2022-03-20T00:00:00",
          "2022-03-21T00:00:00",
          "2022-03-22T00:00:00",
          "2022-03-23T00:00:00",
          "2022-03-24T00:00:00",
          "2022-03-25T00:00:00",
          "2022-03-26T00:00:00",
          "2022-03-27T00:00:00",
          "2022-03-28T00:00:00",
          "2022-03-29T00:00:00",
          "2022-03-30T00:00:00",
          "2022-03-31T00:00:00",
          "2022-04-01T00:00:00",
          "2022-04-02T00:00:00",
          "2022-04-03T00:00:00",
          "2022-04-04T00:00:00",
          "2022-04-05T00:00:00",
          "2022-04-06T00:00:00",
          "2022-04-07T00:00:00",
          "2022-04-08T00:00:00",
          "2022-04-09T00:00:00",
          "2022-04-10T00:00:00",
          "2022-04-11T00:00:00",
          "2022-04-12T00:00:00",
          "2022-04-13T00:00:00",
          "2022-04-14T00:00:00",
          "2022-04-15T00:00:00",
          "2022-04-16T00:00:00",
          "2022-04-17T00:00:00",
          "2022-04-18T00:00:00",
          "2022-04-19T00:00:00",
          "2022-04-20T00:00:00",
          "2022-04-21T00:00:00",
          "2022-04-22T00:00:00",
          "2022-04-23T00:00:00",
          "2022-04-24T00:00:00",
          "2022-04-25T00:00:00",
          "2022-04-26T00:00:00",
          "2022-04-27T00:00:00",
          "2022-04-28T00:00:00",
          "2022-04-29T00:00:00",
          "2022-04-30T00:00:00",
          "2022-05-01T00:00:00",
          "2022-05-02T00:00:00",
          "2022-05-03T00:00:00",
          "2022-05-04T00:00:00",
          "2022-05-05T00:00:00",
          "2022-05-06T00:00:00",
          "2022-05-07T00:00:00",
          "2022-05-08T00:00:00",
          "2022-05-09T00:00:00",
          "2022-05-10T00:00:00",
          "2022-05-11T00:00:00",
          "2022-05-12T00:00:00",
          "2022-05-13T00:00:00",
          "2022-05-14T00:00:00",
          "2022-05-15T00:00:00",
          "2022-05-16T00:00:00",
          "2022-05-17T00:00:00",
          "2022-05-18T00:00:00",
          "2022-05-19T00:00:00",
          "2022-05-20T00:00:00",
          "2022-05-21T00:00:00",
          "2022-05-22T00:00:00",
          "2022-05-23T00:00:00",
          "2022-05-24T00:00:00",
          "2022-05-25T00:00:00",
          "2022-05-26T00:00:00",
          "2022-05-27T00:00:00",
          "2022-05-28T00:00:00",
          "2022-05-29T00:00:00",
          "2022-05-30T00:00:00",
          "2022-05-31T00:00:00",
          "2022-06-01T00:00:00",
          "2022-06-02T00:00:00",
          "2022-06-03T00:00:00",
          "2022-06-04T00:00:00",
          "2022-06-05T00:00:00",
          "2022-06-06T00:00:00",
          "2022-06-07T00:00:00",
          "2022-06-08T00:00:00",
          "2022-06-09T00:00:00",
          "2022-06-10T00:00:00",
          "2022-06-11T00:00:00",
          "2022-06-12T00:00:00",
          "2022-06-13T00:00:00",
          "2022-06-14T00:00:00",
          "2022-06-15T00:00:00",
          "2022-06-16T00:00:00",
          "2022-06-17T00:00:00",
          "2022-06-18T00:00:00"
         ],
         "xaxis": "x",
         "y": [
          1,
          0,
          4,
          0,
          6,
          5,
          6,
          9,
          18,
          19,
          35,
          16,
          58,
          61,
          13,
          104,
          70,
          111,
          98,
          115,
          152,
          150,
          170,
          168,
          249,
          224,
          193,
          256,
          243,
          392,
          437,
          244,
          475,
          311,
          435,
          357,
          370,
          380,
          401,
          318,
          260,
          268,
          380,
          336,
          461,
          363,
          545,
          306,
          263,
          313,
          342,
          381,
          381,
          344,
          285,
          316,
          422,
          237,
          228,
          270,
          318,
          313,
          425,
          309,
          307,
          319,
          285,
          345,
          330,
          595,
          283,
          411,
          401,
          241,
          272,
          356,
          383,
          471,
          404,
          476,
          312,
          395,
          305,
          443,
          399,
          352,
          330,
          416,
          215,
          379,
          230,
          292,
          361,
          362,
          576,
          575,
          599,
          400,
          282,
          359,
          376,
          440,
          375,
          396,
          407,
          506,
          314,
          301,
          304,
          311,
          296,
          300,
          294,
          298,
          276,
          319,
          193,
          247,
          239,
          382,
          371,
          259,
          314,
          231,
          205,
          257,
          277,
          262,
          265,
          305,
          370,
          299,
          267,
          264,
          333,
          353,
          339,
          358,
          279,
          399,
          380,
          418,
          458,
          584,
          443,
          337,
          502,
          512,
          615,
          657,
          658,
          548,
          575,
          680,
          640,
          726,
          809,
          843,
          624,
          619,
          551,
          715,
          811,
          832,
          771,
          594,
          595,
          597,
          735,
          767,
          903,
          900,
          581,
          548,
          763,
          729,
          887,
          791,
          759,
          631,
          502,
          550,
          595,
          612,
          691,
          567,
          437,
          302,
          400,
          421,
          506,
          594,
          603,
          502,
          377,
          605,
          600,
          837,
          757,
          1002,
          910,
          748,
          711,
          974,
          1136,
          1587,
          1584,
          1350,
          1306,
          1326,
          1552,
          1967,
          2292,
          2367,
          1934,
          2006,
          2236,
          3003,
          4280,
          4739,
          5300,
          4178,
          4394,
          5068,
          6526,
          8099,
          7705,
          9622,
          8536,
          7482,
          9291,
          10040,
          12107,
          13632,
          13628,
          11742,
          10241,
          16300,
          18820,
          20156,
          21629,
          21897,
          17171,
          15578,
          19364,
          24692,
          27143,
          27086,
          27875,
          24785,
          21713,
          25454,
          25221,
          22683,
          24051,
          25571,
          21854,
          20816,
          19152,
          19883,
          23975,
          22464,
          24213,
          17856,
          15002,
          32733,
          15356,
          16690,
          17304,
          15177,
          11482,
          5736,
          9113,
          13823,
          14863,
          13236,
          12427,
          9176,
          4421,
          8310,
          12166,
          13750,
          13105,
          11499,
          8976,
          4896,
          6874,
          12455,
          11953,
          11010,
          11246,
          8590,
          4633,
          7192,
          12358,
          13115,
          9081,
          4878,
          3842,
          3211,
          7624,
          12780,
          13464,
          10896,
          7006,
          5782,
          4385,
          7596,
          14220,
          12119,
          8763,
          10744,
          9133,
          4863,
          5394,
          9126,
          9457,
          7958,
          7292,
          5970,
          3332,
          4890,
          6943,
          7008,
          6693,
          6431,
          4566,
          2674,
          4603,
          6790,
          7153,
          6145,
          5864,
          4711,
          2504,
          4326,
          6801,
          6495,
          6053,
          5966,
          4725,
          2431,
          3999,
          6960,
          7013,
          6378,
          6585,
          5334,
          2542,
          5176,
          8699,
          9074,
          8772,
          8509,
          7040,
          3891,
          6304,
          12147,
          12143,
          11536,
          12097,
          10101,
          4786,
          7936,
          15698,
          15253,
          15831,
          14855,
          13569,
          6169,
          9953,
          17277,
          21111,
          18873,
          21063,
          17272,
          10895,
          14394,
          25053,
          27274,
          25996,
          26456,
          21850,
          14579,
          16740,
          30802,
          34150,
          35145,
          31759,
          29266,
          16973,
          20862,
          32891,
          35253,
          30541,
          28073,
          22958,
          9921,
          8246,
          14908,
          27890,
          28499,
          24892,
          21733,
          12016,
          13203,
          21266,
          21126,
          17846,
          15786,
          12151,
          7302,
          9244,
          13922,
          12763,
          10866,
          9510,
          7224,
          3467,
          5711,
          8893,
          8426,
          6789,
          6475,
          4616,
          2523,
          2296,
          3899,
          6427,
          6047,
          4771,
          3856,
          2031,
          3097,
          4159,
          3423,
          3252,
          2897,
          2168,
          1111,
          1734,
          2337,
          2090,
          1680,
          1515,
          1076,
          559,
          1006,
          1263,
          1202,
          943,
          776,
          579,
          333,
          585,
          659,
          565,
          319,
          413,
          312,
          192,
          401,
          560,
          378,
          340,
          236,
          226,
          139,
          211,
          242,
          215,
          190,
          168,
          133,
          73,
          190,
          162,
          144,
          134,
          99,
          69,
          51,
          122,
          101,
          98,
          97,
          108,
          55,
          38,
          95,
          100,
          93,
          74,
          85,
          66,
          44,
          94,
          87,
          105,
          90,
          114,
          69,
          67,
          103,
          124,
          122,
          108,
          118,
          80,
          74,
          107,
          138,
          165,
          156,
          153,
          90,
          91,
          164,
          164,
          176,
          172,
          180,
          122,
          64,
          199,
          196,
          223,
          194,
          211,
          148,
          128,
          215,
          207,
          196,
          212,
          222,
          185,
          107,
          232,
          233,
          215,
          254,
          289,
          203,
          154,
          285,
          366,
          376,
          361,
          388,
          323,
          182,
          405,
          531,
          511,
          529,
          531,
          476,
          270,
          536,
          768,
          724,
          652,
          796,
          540,
          364,
          709,
          880,
          974,
          812,
          917,
          643,
          421,
          976,
          1235,
          1205,
          1361,
          1344,
          1090,
          683,
          1327,
          2086,
          2007,
          1894,
          2011,
          1527,
          903,
          2121,
          2640,
          2999,
          2770,
          3235,
          2521,
          1536,
          3930,
          5560,
          5591,
          5716,
          6277,
          4727,
          2953,
          6263,
          8366,
          8382,
          9403,
          9806,
          7147,
          4904,
          4517,
          10434,
          15511,
          15905,
          15195,
          12507,
          7314,
          13645,
          18546,
          19079,
          12965,
          14298,
          14448,
          9508,
          16611,
          24241,
          24912,
          23259,
          23418,
          18924,
          12375,
          19935,
          28431,
          28143,
          26794,
          26188,
          20574,
          13133,
          19100,
          29076,
          27354,
          26961,
          25575,
          22394,
          13250,
          19369,
          28549,
          27459,
          24988,
          23762,
          19450,
          11377,
          17460,
          24264,
          22096,
          20027,
          19392,
          15976,
          9610,
          13807,
          18013,
          17150,
          15376,
          10789,
          6253,
          5027,
          9850,
          15567,
          14326,
          13607,
          12033,
          7180,
          6423,
          11667,
          17197,
          16577,
          11901,
          10897,
          11107,
          7787,
          11402,
          16173,
          16874,
          16049,
          16893,
          14661,
          10446,
          19648,
          30588,
          32835,
          36664,
          40878,
          34123,
          29097,
          37045,
          53416,
          57659,
          57265,
          51690,
          48287,
          33477,
          39116,
          56051,
          54475,
          47536,
          45748,
          34700,
          24404,
          35323,
          46856,
          42087,
          35774,
          31327,
          22064,
          13473,
          22255,
          28855,
          29234,
          23979,
          20891,
          13687,
          9457,
          18771,
          20463,
          18266,
          16700,
          13950,
          8897,
          6561,
          12980,
          14733,
          14060,
          12489,
          12725,
          7698,
          5583,
          13176,
          14440,
          13425,
          11633,
          11113,
          7578,
          5295,
          12690,
          14475,
          12267,
          11658,
          10374,
          5694,
          4164,
          10159,
          10425,
          8988,
          8231,
          6628,
          3492,
          2367,
          6606,
          5740,
          4991,
          4039,
          2101,
          550,
          493,
          1884,
          1559,
          1483,
          1324,
          1409,
          442,
          381,
          1624,
          1266,
          1178,
          1200,
          1076,
          311,
          266,
          301,
          1523,
          1177,
          1096,
          1239,
          344,
          267,
          1356,
          1041,
          957,
          856,
          840,
          234,
          187,
          890,
          173,
          911,
          608,
          700,
          199,
          184,
          727,
          566,
          501,
          469,
          434,
          139,
          95,
          510,
          386,
          359,
          315,
          335,
          95,
          65,
          419,
          283,
          249,
          262,
          264,
          83,
          82,
          346,
          256,
          219,
          236,
          255,
          62,
          53,
          338,
          202,
          274,
          247,
          263,
          56,
          45,
          321,
          232,
          228,
          48,
          255
         ],
         "yaxis": "y"
        }
       ],
       "layout": {
        "height": 600,
        "legend": {
         "title": {
          "text": "location"
         },
         "tracegroupgap": 0
        },
        "template": {
         "data": {
          "bar": [
           {
            "error_x": {
             "color": "#2a3f5f"
            },
            "error_y": {
             "color": "#2a3f5f"
            },
            "marker": {
             "line": {
              "color": "#E5ECF6",
              "width": 0.5
             },
             "pattern": {
              "fillmode": "overlay",
              "size": 10,
              "solidity": 0.2
             }
            },
            "type": "bar"
           }
          ],
          "barpolar": [
           {
            "marker": {
             "line": {
              "color": "#E5ECF6",
              "width": 0.5
             },
             "pattern": {
              "fillmode": "overlay",
              "size": 10,
              "solidity": 0.2
             }
            },
            "type": "barpolar"
           }
          ],
          "carpet": [
           {
            "aaxis": {
             "endlinecolor": "#2a3f5f",
             "gridcolor": "white",
             "linecolor": "white",
             "minorgridcolor": "white",
             "startlinecolor": "#2a3f5f"
            },
            "baxis": {
             "endlinecolor": "#2a3f5f",
             "gridcolor": "white",
             "linecolor": "white",
             "minorgridcolor": "white",
             "startlinecolor": "#2a3f5f"
            },
            "type": "carpet"
           }
          ],
          "choropleth": [
           {
            "colorbar": {
             "outlinewidth": 0,
             "ticks": ""
            },
            "type": "choropleth"
           }
          ],
          "contour": [
           {
            "colorbar": {
             "outlinewidth": 0,
             "ticks": ""
            },
            "colorscale": [
             [
              0,
              "#0d0887"
             ],
             [
              0.1111111111111111,
              "#46039f"
             ],
             [
              0.2222222222222222,
              "#7201a8"
             ],
             [
              0.3333333333333333,
              "#9c179e"
             ],
             [
              0.4444444444444444,
              "#bd3786"
             ],
             [
              0.5555555555555556,
              "#d8576b"
             ],
             [
              0.6666666666666666,
              "#ed7953"
             ],
             [
              0.7777777777777778,
              "#fb9f3a"
             ],
             [
              0.8888888888888888,
              "#fdca26"
             ],
             [
              1,
              "#f0f921"
             ]
            ],
            "type": "contour"
           }
          ],
          "contourcarpet": [
           {
            "colorbar": {
             "outlinewidth": 0,
             "ticks": ""
            },
            "type": "contourcarpet"
           }
          ],
          "heatmap": [
           {
            "colorbar": {
             "outlinewidth": 0,
             "ticks": ""
            },
            "colorscale": [
             [
              0,
              "#0d0887"
             ],
             [
              0.1111111111111111,
              "#46039f"
             ],
             [
              0.2222222222222222,
              "#7201a8"
             ],
             [
              0.3333333333333333,
              "#9c179e"
             ],
             [
              0.4444444444444444,
              "#bd3786"
             ],
             [
              0.5555555555555556,
              "#d8576b"
             ],
             [
              0.6666666666666666,
              "#ed7953"
             ],
             [
              0.7777777777777778,
              "#fb9f3a"
             ],
             [
              0.8888888888888888,
              "#fdca26"
             ],
             [
              1,
              "#f0f921"
             ]
            ],
            "type": "heatmap"
           }
          ],
          "heatmapgl": [
           {
            "colorbar": {
             "outlinewidth": 0,
             "ticks": ""
            },
            "colorscale": [
             [
              0,
              "#0d0887"
             ],
             [
              0.1111111111111111,
              "#46039f"
             ],
             [
              0.2222222222222222,
              "#7201a8"
             ],
             [
              0.3333333333333333,
              "#9c179e"
             ],
             [
              0.4444444444444444,
              "#bd3786"
             ],
             [
              0.5555555555555556,
              "#d8576b"
             ],
             [
              0.6666666666666666,
              "#ed7953"
             ],
             [
              0.7777777777777778,
              "#fb9f3a"
             ],
             [
              0.8888888888888888,
              "#fdca26"
             ],
             [
              1,
              "#f0f921"
             ]
            ],
            "type": "heatmapgl"
           }
          ],
          "histogram": [
           {
            "marker": {
             "pattern": {
              "fillmode": "overlay",
              "size": 10,
              "solidity": 0.2
             }
            },
            "type": "histogram"
           }
          ],
          "histogram2d": [
           {
            "colorbar": {
             "outlinewidth": 0,
             "ticks": ""
            },
            "colorscale": [
             [
              0,
              "#0d0887"
             ],
             [
              0.1111111111111111,
              "#46039f"
             ],
             [
              0.2222222222222222,
              "#7201a8"
             ],
             [
              0.3333333333333333,
              "#9c179e"
             ],
             [
              0.4444444444444444,
              "#bd3786"
             ],
             [
              0.5555555555555556,
              "#d8576b"
             ],
             [
              0.6666666666666666,
              "#ed7953"
             ],
             [
              0.7777777777777778,
              "#fb9f3a"
             ],
             [
              0.8888888888888888,
              "#fdca26"
             ],
             [
              1,
              "#f0f921"
             ]
            ],
            "type": "histogram2d"
           }
          ],
          "histogram2dcontour": [
           {
            "colorbar": {
             "outlinewidth": 0,
             "ticks": ""
            },
            "colorscale": [
             [
              0,
              "#0d0887"
             ],
             [
              0.1111111111111111,
              "#46039f"
             ],
             [
              0.2222222222222222,
              "#7201a8"
             ],
             [
              0.3333333333333333,
              "#9c179e"
             ],
             [
              0.4444444444444444,
              "#bd3786"
             ],
             [
              0.5555555555555556,
              "#d8576b"
             ],
             [
              0.6666666666666666,
              "#ed7953"
             ],
             [
              0.7777777777777778,
              "#fb9f3a"
             ],
             [
              0.8888888888888888,
              "#fdca26"
             ],
             [
              1,
              "#f0f921"
             ]
            ],
            "type": "histogram2dcontour"
           }
          ],
          "mesh3d": [
           {
            "colorbar": {
             "outlinewidth": 0,
             "ticks": ""
            },
            "type": "mesh3d"
           }
          ],
          "parcoords": [
           {
            "line": {
             "colorbar": {
              "outlinewidth": 0,
              "ticks": ""
             }
            },
            "type": "parcoords"
           }
          ],
          "pie": [
           {
            "automargin": true,
            "type": "pie"
           }
          ],
          "scatter": [
           {
            "fillpattern": {
             "fillmode": "overlay",
             "size": 10,
             "solidity": 0.2
            },
            "type": "scatter"
           }
          ],
          "scatter3d": [
           {
            "line": {
             "colorbar": {
              "outlinewidth": 0,
              "ticks": ""
             }
            },
            "marker": {
             "colorbar": {
              "outlinewidth": 0,
              "ticks": ""
             }
            },
            "type": "scatter3d"
           }
          ],
          "scattercarpet": [
           {
            "marker": {
             "colorbar": {
              "outlinewidth": 0,
              "ticks": ""
             }
            },
            "type": "scattercarpet"
           }
          ],
          "scattergeo": [
           {
            "marker": {
             "colorbar": {
              "outlinewidth": 0,
              "ticks": ""
             }
            },
            "type": "scattergeo"
           }
          ],
          "scattergl": [
           {
            "marker": {
             "colorbar": {
              "outlinewidth": 0,
              "ticks": ""
             }
            },
            "type": "scattergl"
           }
          ],
          "scattermapbox": [
           {
            "marker": {
             "colorbar": {
              "outlinewidth": 0,
              "ticks": ""
             }
            },
            "type": "scattermapbox"
           }
          ],
          "scatterpolar": [
           {
            "marker": {
             "colorbar": {
              "outlinewidth": 0,
              "ticks": ""
             }
            },
            "type": "scatterpolar"
           }
          ],
          "scatterpolargl": [
           {
            "marker": {
             "colorbar": {
              "outlinewidth": 0,
              "ticks": ""
             }
            },
            "type": "scatterpolargl"
           }
          ],
          "scatterternary": [
           {
            "marker": {
             "colorbar": {
              "outlinewidth": 0,
              "ticks": ""
             }
            },
            "type": "scatterternary"
           }
          ],
          "surface": [
           {
            "colorbar": {
             "outlinewidth": 0,
             "ticks": ""
            },
            "colorscale": [
             [
              0,
              "#0d0887"
             ],
             [
              0.1111111111111111,
              "#46039f"
             ],
             [
              0.2222222222222222,
              "#7201a8"
             ],
             [
              0.3333333333333333,
              "#9c179e"
             ],
             [
              0.4444444444444444,
              "#bd3786"
             ],
             [
              0.5555555555555556,
              "#d8576b"
             ],
             [
              0.6666666666666666,
              "#ed7953"
             ],
             [
              0.7777777777777778,
              "#fb9f3a"
             ],
             [
              0.8888888888888888,
              "#fdca26"
             ],
             [
              1,
              "#f0f921"
             ]
            ],
            "type": "surface"
           }
          ],
          "table": [
           {
            "cells": {
             "fill": {
              "color": "#EBF0F8"
             },
             "line": {
              "color": "white"
             }
            },
            "header": {
             "fill": {
              "color": "#C8D4E3"
             },
             "line": {
              "color": "white"
             }
            },
            "type": "table"
           }
          ]
         },
         "layout": {
          "annotationdefaults": {
           "arrowcolor": "#2a3f5f",
           "arrowhead": 0,
           "arrowwidth": 1
          },
          "autotypenumbers": "strict",
          "coloraxis": {
           "colorbar": {
            "outlinewidth": 0,
            "ticks": ""
           }
          },
          "colorscale": {
           "diverging": [
            [
             0,
             "#8e0152"
            ],
            [
             0.1,
             "#c51b7d"
            ],
            [
             0.2,
             "#de77ae"
            ],
            [
             0.3,
             "#f1b6da"
            ],
            [
             0.4,
             "#fde0ef"
            ],
            [
             0.5,
             "#f7f7f7"
            ],
            [
             0.6,
             "#e6f5d0"
            ],
            [
             0.7,
             "#b8e186"
            ],
            [
             0.8,
             "#7fbc41"
            ],
            [
             0.9,
             "#4d9221"
            ],
            [
             1,
             "#276419"
            ]
           ],
           "sequential": [
            [
             0,
             "#0d0887"
            ],
            [
             0.1111111111111111,
             "#46039f"
            ],
            [
             0.2222222222222222,
             "#7201a8"
            ],
            [
             0.3333333333333333,
             "#9c179e"
            ],
            [
             0.4444444444444444,
             "#bd3786"
            ],
            [
             0.5555555555555556,
             "#d8576b"
            ],
            [
             0.6666666666666666,
             "#ed7953"
            ],
            [
             0.7777777777777778,
             "#fb9f3a"
            ],
            [
             0.8888888888888888,
             "#fdca26"
            ],
            [
             1,
             "#f0f921"
            ]
           ],
           "sequentialminus": [
            [
             0,
             "#0d0887"
            ],
            [
             0.1111111111111111,
             "#46039f"
            ],
            [
             0.2222222222222222,
             "#7201a8"
            ],
            [
             0.3333333333333333,
             "#9c179e"
            ],
            [
             0.4444444444444444,
             "#bd3786"
            ],
            [
             0.5555555555555556,
             "#d8576b"
            ],
            [
             0.6666666666666666,
             "#ed7953"
            ],
            [
             0.7777777777777778,
             "#fb9f3a"
            ],
            [
             0.8888888888888888,
             "#fdca26"
            ],
            [
             1,
             "#f0f921"
            ]
           ]
          },
          "colorway": [
           "#636efa",
           "#EF553B",
           "#00cc96",
           "#ab63fa",
           "#FFA15A",
           "#19d3f3",
           "#FF6692",
           "#B6E880",
           "#FF97FF",
           "#FECB52"
          ],
          "font": {
           "color": "#2a3f5f"
          },
          "geo": {
           "bgcolor": "white",
           "lakecolor": "white",
           "landcolor": "#E5ECF6",
           "showlakes": true,
           "showland": true,
           "subunitcolor": "white"
          },
          "hoverlabel": {
           "align": "left"
          },
          "hovermode": "closest",
          "mapbox": {
           "style": "light"
          },
          "paper_bgcolor": "white",
          "plot_bgcolor": "#E5ECF6",
          "polar": {
           "angularaxis": {
            "gridcolor": "white",
            "linecolor": "white",
            "ticks": ""
           },
           "bgcolor": "#E5ECF6",
           "radialaxis": {
            "gridcolor": "white",
            "linecolor": "white",
            "ticks": ""
           }
          },
          "scene": {
           "xaxis": {
            "backgroundcolor": "#E5ECF6",
            "gridcolor": "white",
            "gridwidth": 2,
            "linecolor": "white",
            "showbackground": true,
            "ticks": "",
            "zerolinecolor": "white"
           },
           "yaxis": {
            "backgroundcolor": "#E5ECF6",
            "gridcolor": "white",
            "gridwidth": 2,
            "linecolor": "white",
            "showbackground": true,
            "ticks": "",
            "zerolinecolor": "white"
           },
           "zaxis": {
            "backgroundcolor": "#E5ECF6",
            "gridcolor": "white",
            "gridwidth": 2,
            "linecolor": "white",
            "showbackground": true,
            "ticks": "",
            "zerolinecolor": "white"
           }
          },
          "shapedefaults": {
           "line": {
            "color": "#2a3f5f"
           }
          },
          "ternary": {
           "aaxis": {
            "gridcolor": "white",
            "linecolor": "white",
            "ticks": ""
           },
           "baxis": {
            "gridcolor": "white",
            "linecolor": "white",
            "ticks": ""
           },
           "bgcolor": "#E5ECF6",
           "caxis": {
            "gridcolor": "white",
            "linecolor": "white",
            "ticks": ""
           }
          },
          "title": {
           "x": 0.05
          },
          "xaxis": {
           "automargin": true,
           "gridcolor": "white",
           "linecolor": "white",
           "ticks": "",
           "title": {
            "standoff": 15
           },
           "zerolinecolor": "white",
           "zerolinewidth": 2
          },
          "yaxis": {
           "automargin": true,
           "gridcolor": "white",
           "linecolor": "white",
           "ticks": "",
           "title": {
            "standoff": 15
           },
           "zerolinecolor": "white",
           "zerolinewidth": 2
          }
         }
        },
        "title": {
         "text": "Number of diagnosed cases per day in Czechia and Poland"
        },
        "width": 1000,
        "xaxis": {
         "anchor": "y",
         "domain": [
          0,
          1
         ],
         "title": {
          "text": "Date"
         }
        },
        "yaxis": {
         "anchor": "x",
         "domain": [
          0,
          1
         ],
         "title": {
          "text": "Number of diagnosed cases"
         }
        }
       }
      }
     },
     "metadata": {},
     "output_type": "display_data"
    }
   ],
   "source": [
    "# Project #1 - number of diagnosed cases\n",
    "\n",
    "# create a new dataframe with columns location, date and new_cases and drop duplicates\n",
    "df_diagnosed = df_raw[['location', 'date', 'new_cases']].drop_duplicates()\n",
    "\n",
    "# group by location and date and sum the number of new cases\n",
    "df_diagnosed = df_diagnosed.groupby(['location', 'date']).sum().reset_index()\n",
    "\n",
    "# create a line plot for Poland and Czechia\n",
    "new_cases_chart = px.area(\n",
    "    data_frame=df_diagnosed[df_diagnosed['location'].isin(['Poland', 'Czechia'])], \n",
    "\tx='date', \n",
    "\ty='new_cases', \n",
    "\tcolor='location',\n",
    "    color_discrete_sequence=color_palette,\n",
    "\ttitle='Number of diagnosed cases per day in Czechia and Poland',\n",
    "\tlabels={'new_cases': 'Number of diagnosed cases', 'date': 'Date'},\n",
    "    height=600,\n",
    "    width=1000\n",
    "\t)\n",
    "\n",
    "# show the plot\n",
    "new_cases_chart"
   ]
  },
  {
   "cell_type": "code",
   "execution_count": 12,
   "metadata": {},
   "outputs": [
    {
     "name": "stderr",
     "output_type": "stream",
     "text": [
      "/var/folders/47/tpj_wbtj6wj_l1qcwsyzlhn40000gn/T/ipykernel_98880/1541986648.py:10: SettingWithCopyWarning:\n",
      "\n",
      "\n",
      "A value is trying to be set on a copy of a slice from a DataFrame.\n",
      "Try using .loc[row_indexer,col_indexer] = value instead\n",
      "\n",
      "See the caveats in the documentation: https://pandas.pydata.org/pandas-docs/stable/user_guide/indexing.html#returning-a-view-versus-a-copy\n",
      "\n"
     ]
    },
    {
     "data": {
      "application/vnd.plotly.v1+json": {
       "config": {
        "plotlyServerURL": "https://plot.ly"
       },
       "data": [
        {
         "customdata": [
          [
           "Afghanistan",
           181574
          ],
          [
           "Armenia",
           423044
          ],
          [
           "Azerbaijan",
           792985
          ],
          [
           "Bahrain",
           603848
          ],
          [
           "Bangladesh",
           1955731
          ],
          [
           "Bhutan",
           59644
          ],
          [
           "Brunei",
           156452
          ],
          [
           "Cambodia",
           136262
          ],
          [
           "China",
           887201
          ],
          [
           "Georgia",
           1658755
          ],
          [
           "Hong Kong",
           1225408
          ],
          [
           "India",
           43296692
          ],
          [
           "Indonesia",
           6066908
          ],
          [
           "Iran",
           7234597
          ],
          [
           "Iraq",
           2331872
          ],
          [
           "Israel",
           4226245
          ],
          [
           "Japan",
           9124454
          ],
          [
           "Jordan",
           1697673
          ],
          [
           "Kazakhstan",
           1395148
          ],
          [
           "Kuwait",
           638708
          ],
          [
           "Kyrgyzstan",
           201016
          ],
          [
           "Laos",
           210194
          ],
          [
           "Lebanon",
           1103264
          ],
          [
           "Macao",
           83
          ],
          [
           "Malaysia",
           4538922
          ],
          [
           "Maldives",
           179979
          ],
          [
           "Mongolia",
           926282
          ],
          [
           "Myanmar",
           613485
          ],
          [
           "Nepal",
           979344
          ],
          [
           "North Korea",
           1
          ],
          [
           "Oman",
           389758
          ],
          [
           "Pakistan",
           1531982
          ],
          [
           "Palestine",
           658100
          ],
          [
           "Philippines",
           3695652
          ],
          [
           "Qatar",
           374923
          ],
          [
           "Saudi Arabia",
           783907
          ],
          [
           "Singapore",
           1364562
          ],
          [
           "South Korea",
           18276552
          ],
          [
           "Sri Lanka",
           663984
          ],
          [
           "Syria",
           55913
          ],
          [
           "Taiwan",
           3244453
          ],
          [
           "Tajikistan",
           17786
          ],
          [
           "Thailand",
           4499044
          ],
          [
           "Timor",
           22944
          ],
          [
           "Turkey",
           15085742
          ],
          [
           "United Arab Emirates",
           925898
          ],
          [
           "Uzbekistan",
           239525
          ],
          [
           "Vietnam",
           10737107
          ],
          [
           "Yemen",
           11823
          ]
         ],
         "hovertemplate": "<b>%{hovertext}</b><br><br>continent=Asia<br>cases by person=%{marker.size}<br>latitude=%{lat}<br>longitude=%{lon}<br>Total cases=%{customdata[1]}<extra></extra>",
         "hovertext": [
          "Afghanistan",
          "Armenia",
          "Azerbaijan",
          "Bahrain",
          "Bangladesh",
          "Bhutan",
          "Brunei",
          "Cambodia",
          "China",
          "Georgia",
          "Hong Kong",
          "India",
          "Indonesia",
          "Iran",
          "Iraq",
          "Israel",
          "Japan",
          "Jordan",
          "Kazakhstan",
          "Kuwait",
          "Kyrgyzstan",
          "Laos",
          "Lebanon",
          "Macao",
          "Malaysia",
          "Maldives",
          "Mongolia",
          "Myanmar",
          "Nepal",
          "North Korea",
          "Oman",
          "Pakistan",
          "Palestine",
          "Philippines",
          "Qatar",
          "Saudi Arabia",
          "Singapore",
          "South Korea",
          "Sri Lanka",
          "Syria",
          "Taiwan",
          "Tajikistan",
          "Thailand",
          "Timor",
          "Turkey",
          "United Arab Emirates",
          "Uzbekistan",
          "Vietnam",
          "Yemen"
         ],
         "lat": [
          33,
          40,
          40.5,
          26,
          24,
          27.5,
          4.5,
          13,
          35,
          42,
          22.25,
          20,
          -5,
          32,
          33,
          31.5,
          36,
          31,
          48,
          29.3375,
          41,
          18,
          33.8333,
          22.1667,
          2.5,
          3.25,
          46,
          22,
          28,
          40,
          21,
          30,
          32,
          13,
          25.5,
          25,
          1.3667,
          37,
          7,
          35,
          23.5,
          39,
          15,
          -8.55,
          39,
          24,
          41,
          16,
          15
         ],
         "legendgroup": "Asia",
         "lon": [
          65,
          45,
          47.5,
          50.55,
          90,
          90.5,
          114.6667,
          105,
          105,
          43.5,
          114.1667,
          77,
          120,
          53,
          44,
          34.75,
          138,
          36,
          68,
          47.6581,
          75,
          105,
          35.8333,
          113.55,
          112.5,
          73,
          105,
          98,
          84,
          127,
          57,
          70,
          35.25,
          122,
          51.25,
          45,
          103.8,
          127.5,
          81,
          38,
          121,
          71,
          100,
          125.5167,
          35,
          54,
          64,
          106,
          48
         ],
         "marker": {
          "color": "#1f77b4",
          "size": [
           0.004558103404838527,
           0.1425288936326196,
           0.07756610752802605,
           0.34539251098927815,
           0.011760011488393623,
           0.0764764713424798,
           0.3543389833579446,
           0.008040741993926043,
           0.0006143131895367831,
           0.41679638512045786,
           0.1622455248384705,
           0.031072492695689305,
           0.021952774455200733,
           0.08508411742097614,
           0.05662721590731238,
           0.4548751479926811,
           0.07238711923723194,
           0.16531983279420376,
           0.07344833297341326,
           0.14755693184304317,
           0.03032671644981773,
           0.02848404969646411,
           0.16298410243766168,
           0.0001260649067195633,
           0.13848227349147757,
           0.3310750156359222,
           0.278222751932699,
           0.011193753298679958,
           0.033002414159835985,
           3.862936074781807e-8,
           0.07461802481766582,
           0.006802764134086384,
           0.126006269486838,
           0.033280097573178756,
           0.12793718802507675,
           0.022181435105379975,
           0.2502130702655127,
           0.3562320719871115,
           0.030886846937937248,
           0.003059417027108778,
           0.13600720653709275,
           0.0018242752926394604,
           0.06431722253415556,
           0.01707301646358478,
           0.17739013006354828,
           0.09267243601119118,
           0.0070581877261349495,
           0.10937389301037705,
           0.00038775835429359157
          ],
          "sizemode": "area",
          "sizeref": 0.0031401862384676893
         },
         "mode": "markers",
         "name": "Asia",
         "showlegend": true,
         "subplot": "mapbox",
         "type": "scattermapbox"
        },
        {
         "customdata": [
          [
           "Albania",
           277141
          ],
          [
           "Andorra",
           43449
          ],
          [
           "Austria",
           4349916
          ],
          [
           "Belarus",
           982867
          ],
          [
           "Belgium",
           4187940
          ],
          [
           "Bosnia and Herzegovina",
           378209
          ],
          [
           "Bulgaria",
           1168035
          ],
          [
           "Croatia",
           1141546
          ],
          [
           "Cyprus",
           497454
          ],
          [
           "Czechia",
           3925291
          ],
          [
           "Denmark",
           3150599
          ],
          [
           "Estonia",
           578494
          ],
          [
           "Faeroe Islands",
           34658
          ],
          [
           "Finland",
           1125342
          ],
          [
           "France",
           30139875
          ],
          [
           "Germany",
           27204955
          ],
          [
           "Gibraltar",
           19010
          ],
          [
           "Greece",
           3539423
          ],
          [
           "Hungary",
           1923122
          ],
          [
           "Iceland",
           191079
          ],
          [
           "Ireland",
           1578284
          ],
          [
           "Isle of Man",
           33821
          ],
          [
           "Italy",
           17844905
          ],
          [
           "Latvia",
           831727
          ],
          [
           "Liechtenstein",
           17653
          ],
          [
           "Lithuania",
           1065134
          ],
          [
           "Luxembourg",
           254865
          ],
          [
           "Malta",
           97557
          ],
          [
           "Moldova",
           519452
          ],
          [
           "Monaco",
           12616
          ],
          [
           "Montenegro",
           238416
          ],
          [
           "Netherlands",
           8132678
          ],
          [
           "North Macedonia",
           312879
          ],
          [
           "Norway",
           1439656
          ],
          [
           "Poland",
           6011174
          ],
          [
           "Portugal",
           5005783
          ],
          [
           "Romania",
           2912705
          ],
          [
           "Russia",
           18126576
          ],
          [
           "San Marino",
           17413
          ],
          [
           "Serbia",
           2022252
          ],
          [
           "Slovakia",
           2546134
          ],
          [
           "Slovenia",
           1030354
          ],
          [
           "Spain",
           12563399
          ],
          [
           "Sweden",
           2512853
          ],
          [
           "Switzerland",
           3701895
          ],
          [
           "Ukraine",
           5040518
          ],
          [
           "United Kingdom",
           22549766
          ],
          [
           "Vatican",
           29
          ]
         ],
         "hovertemplate": "<b>%{hovertext}</b><br><br>continent=Europe<br>cases by person=%{marker.size}<br>latitude=%{lat}<br>longitude=%{lon}<br>Total cases=%{customdata[1]}<extra></extra>",
         "hovertext": [
          "Albania",
          "Andorra",
          "Austria",
          "Belarus",
          "Belgium",
          "Bosnia and Herzegovina",
          "Bulgaria",
          "Croatia",
          "Cyprus",
          "Czechia",
          "Denmark",
          "Estonia",
          "Faeroe Islands",
          "Finland",
          "France",
          "Germany",
          "Gibraltar",
          "Greece",
          "Hungary",
          "Iceland",
          "Ireland",
          "Isle of Man",
          "Italy",
          "Latvia",
          "Liechtenstein",
          "Lithuania",
          "Luxembourg",
          "Malta",
          "Moldova",
          "Monaco",
          "Montenegro",
          "Netherlands",
          "North Macedonia",
          "Norway",
          "Poland",
          "Portugal",
          "Romania",
          "Russia",
          "San Marino",
          "Serbia",
          "Slovakia",
          "Slovenia",
          "Spain",
          "Sweden",
          "Switzerland",
          "Ukraine",
          "United Kingdom",
          "Vatican"
         ],
         "lat": [
          41,
          42.5,
          47.3333,
          53,
          50.8333,
          44,
          43,
          45.1667,
          35,
          49.75,
          56,
          59,
          62,
          64,
          46,
          51,
          36.1833,
          39,
          47,
          65,
          53,
          54.23,
          42.8333,
          57,
          47.1667,
          56,
          49.75,
          35.8333,
          47,
          43.7333,
          42,
          52.5,
          41.8333,
          62,
          52,
          39.5,
          46,
          60,
          43.7667,
          44,
          48.6667,
          46,
          40,
          62,
          47,
          49,
          54,
          41.9
         ],
         "legendgroup": "Europe",
         "lon": [
          20,
          1.6,
          13.3333,
          28,
          4,
          18,
          25,
          15.5,
          33,
          15.5,
          10,
          26,
          -7,
          26,
          2,
          9,
          -5.3667,
          22,
          20,
          -18,
          -8,
          -4.55,
          12.8333,
          25,
          9.5333,
          24,
          6.1667,
          14.5833,
          29,
          7.4,
          19,
          5.75,
          22,
          10,
          20,
          -8,
          25,
          100,
          12.4167,
          21,
          19.5,
          15,
          -4,
          15,
          8,
          32,
          -2,
          12.45
         ],
         "marker": {
          "color": "#ff7f0e",
          "size": [
           0.09646619100891284,
           0.5616904103213797,
           0.48102193590850545,
           0.10408565534175161,
           0.36002576954891424,
           0.11589206421775178,
           0.16936253879598154,
           0.27967710172608823,
           0.5551910982639606,
           0.3660097535067429,
           0.541963758290899,
           0.4365373064048271,
           0.7065419036552301,
           0.2028242214232275,
           0.44703323840882797,
           0.3242527089031479,
           0.5642456442373334,
           0.34128910868233503,
           0.19961487049937504,
           0.5181213258422092,
           0.3167397967129208,
           0.3959840768059946,
           0.2956046477414964,
           0.4455042331437533,
           0.46146808176922677,
           0.3959809090577881,
           0.4014798035330034,
           0.18902732028676614,
           0.12908766719888667,
           0.3192307692307692,
           0.3796124836995722,
           0.47357092437740106,
           0.15023040235544816,
           0.26340170545787134,
           0.1590383892901553,
           0.49231126160180405,
           0.15227622955773418,
           0.1242294894659194,
           0.5119964716259924,
           0.2942935557306091,
           0.4672431353190427,
           0.4956668108256848,
           0.26876333920067236,
           0.24732418065504683,
           0.42474872910244676,
           0.11596242301772143,
           0.3306072442824659,
           0.03571428571428571
          ],
          "sizemode": "area",
          "sizeref": 0.0031401862384676893
         },
         "mode": "markers",
         "name": "Europe",
         "showlegend": true,
         "subplot": "mapbox",
         "type": "scattermapbox"
        },
        {
         "customdata": [
          [
           "Algeria",
           265971
          ],
          [
           "Angola",
           99761
          ],
          [
           "Benin",
           27122
          ],
          [
           "Botswana",
           314242
          ],
          [
           "Burkina Faso",
           21044
          ],
          [
           "Burundi",
           42398
          ],
          [
           "Cameroon",
           119947
          ],
          [
           "Cape Verde",
           58029
          ],
          [
           "Central African Republic",
           14649
          ],
          [
           "Chad",
           7420
          ],
          [
           "Comoros",
           8131
          ],
          [
           "Congo",
           24128
          ],
          [
           "Cote d'Ivoire",
           82659
          ],
          [
           "Democratic Republic of Congo",
           89932
          ],
          [
           "Djibouti",
           15690
          ],
          [
           "Egypt",
           515645
          ],
          [
           "Equatorial Guinea",
           15951
          ],
          [
           "Eritrea",
           9777
          ],
          [
           "Eswatini",
           73003
          ],
          [
           "Ethiopia",
           483739
          ],
          [
           "Gabon",
           47742
          ],
          [
           "Gambia",
           12002
          ],
          [
           "Ghana",
           163332
          ],
          [
           "Guinea",
           36817
          ],
          [
           "Guinea-Bissau",
           8307
          ],
          [
           "Kenya",
           329107
          ],
          [
           "Lesotho",
           33746
          ],
          [
           "Liberia",
           7489
          ],
          [
           "Libya",
           502076
          ],
          [
           "Madagascar",
           64685
          ],
          [
           "Malawi",
           86202
          ],
          [
           "Mali",
           31137
          ],
          [
           "Mauritania",
           59293
          ],
          [
           "Mauritius",
           227442
          ],
          [
           "Morocco",
           1184732
          ],
          [
           "Mozambique",
           227083
          ],
          [
           "Namibia",
           168851
          ],
          [
           "Niger",
           9031
          ],
          [
           "Nigeria",
           256573
          ],
          [
           "Rwanda",
           130531
          ],
          [
           "Saint Helena",
           4
          ],
          [
           "Sao Tome and Principe",
           6010
          ],
          [
           "Senegal",
           86201
          ],
          [
           "Seychelles",
           44521
          ],
          [
           "Sierra Leone",
           7688
          ],
          [
           "Somalia",
           26675
          ],
          [
           "South Africa",
           3984646
          ],
          [
           "South Sudan",
           17697
          ],
          [
           "Sudan",
           62489
          ],
          [
           "Tanzania",
           35354
          ],
          [
           "Togo",
           37242
          ],
          [
           "Tunisia",
           1044426
          ],
          [
           "Uganda",
           166809
          ],
          [
           "Zambia",
           324025
          ],
          [
           "Zimbabwe",
           254753
          ]
         ],
         "hovertemplate": "<b>%{hovertext}</b><br><br>continent=Africa<br>cases by person=%{marker.size}<br>latitude=%{lat}<br>longitude=%{lon}<br>Total cases=%{customdata[1]}<extra></extra>",
         "hovertext": [
          "Algeria",
          "Angola",
          "Benin",
          "Botswana",
          "Burkina Faso",
          "Burundi",
          "Cameroon",
          "Cape Verde",
          "Central African Republic",
          "Chad",
          "Comoros",
          "Congo",
          "Cote d'Ivoire",
          "Democratic Republic of Congo",
          "Djibouti",
          "Egypt",
          "Equatorial Guinea",
          "Eritrea",
          "Eswatini",
          "Ethiopia",
          "Gabon",
          "Gambia",
          "Ghana",
          "Guinea",
          "Guinea-Bissau",
          "Kenya",
          "Lesotho",
          "Liberia",
          "Libya",
          "Madagascar",
          "Malawi",
          "Mali",
          "Mauritania",
          "Mauritius",
          "Morocco",
          "Mozambique",
          "Namibia",
          "Niger",
          "Nigeria",
          "Rwanda",
          "Saint Helena",
          "Sao Tome and Principe",
          "Senegal",
          "Seychelles",
          "Sierra Leone",
          "Somalia",
          "South Africa",
          "South Sudan",
          "Sudan",
          "Tanzania",
          "Togo",
          "Tunisia",
          "Uganda",
          "Zambia",
          "Zimbabwe"
         ],
         "lat": [
          28,
          -12.5,
          9.5,
          -22,
          13,
          -3.5,
          6,
          16,
          7,
          15,
          -12.1667,
          -1,
          8,
          0,
          11.5,
          27,
          2,
          15,
          -26.5,
          8,
          -1,
          13.4667,
          8,
          11,
          12,
          1,
          -29.5,
          6.5,
          25,
          -20,
          -13.5,
          17,
          20,
          -20.2833,
          32,
          -18.25,
          -22,
          16,
          10,
          -2,
          -15.9333,
          1,
          14,
          -4.5833,
          8.5,
          10,
          -29,
          8,
          15,
          -6,
          8,
          34,
          1,
          -15,
          -20
         ],
         "legendgroup": "Africa",
         "lon": [
          3,
          18.5,
          2.25,
          24,
          -2,
          30,
          12,
          -24,
          21,
          19,
          44.25,
          15,
          -5,
          25,
          43,
          30,
          10,
          39,
          31.5,
          38,
          11.75,
          -16.5667,
          -2,
          -10,
          -15,
          38,
          28.5,
          -9.5,
          17,
          47,
          34,
          -4,
          -12,
          57.55,
          -5,
          35,
          17,
          8,
          8,
          30,
          -5.7,
          7,
          -14,
          55.6667,
          -11.5,
          49,
          24,
          30,
          30,
          35,
          1.1667,
          9,
          32,
          30,
          30
         ],
         "marker": {
          "color": "#2ca02c",
          "size": [
           0.005961253098788779,
           0.0029398875351049434,
           0.0021782935083849682,
           0.13108491431813252,
           0.0009789228750281956,
           0.00345952801815424,
           0.004405886190780856,
           0.10327264055411896,
           0.002977446891627966,
           0.0004386642967759061,
           0.00915183194215583,
           0.004265145393764947,
           0.003055375676217043,
           0.0009735219817414075,
           0.01565560463661336,
           0.004945839961540913,
           0.011001516665735562,
           0.0027147308509710777,
           0.06226964377256649,
           0.004103787645865079,
           0.020950233650703937,
           0.004826016903524295,
           0.005147212314282862,
           0.0027277434633473504,
           0.004121578375481893,
           0.005985319601812122,
           0.015629899396359632,
           0.0014456948446857733,
           0.0721525124961594,
           0.0022754508838377487,
           0.004387388007775574,
           0.0014929714259739916,
           0.012417096150664593,
           0.17860609315956616,
           0.031724160054788904,
           0.007060370061354577,
           0.06526035965839873,
           0.000359359686377001,
           0.0012136809156510662,
           0.009831720171789031,
           0.0006562756357670221,
           0.02690675310255905,
           0.005012762041712675,
           0.45011626731371956,
           0.000944315943941927,
           0.001630551055961368,
           0.06636431606970561,
           0.0015549085141455205,
           0.0013914474070222036,
           0.0005748763895434222,
           0.004392655930321404,
           0.0875039084217818,
           0.003539823722470045,
           0.017125462398055204,
           0.016879811393602683
          ],
          "sizemode": "area",
          "sizeref": 0.0031401862384676893
         },
         "mode": "markers",
         "name": "Africa",
         "showlegend": true,
         "subplot": "mapbox",
         "type": "scattermapbox"
        },
        {
         "customdata": [
          [
           "Anguilla",
           3374
          ],
          [
           "Antigua and Barbuda",
           8581
          ],
          [
           "Aruba",
           39980
          ],
          [
           "Bahamas",
           35603
          ],
          [
           "Barbados",
           82826
          ],
          [
           "Belize",
           61918
          ],
          [
           "Bermuda",
           15762
          ],
          [
           "British Virgin Islands",
           6941
          ],
          [
           "Canada",
           3925888
          ],
          [
           "Cayman Islands",
           26797
          ],
          [
           "Costa Rica",
           904934
          ],
          [
           "Cuba",
           1105729
          ],
          [
           "Dominica",
           14781
          ],
          [
           "Dominican Republic",
           595927
          ],
          [
           "El Salvador",
           164134
          ],
          [
           "Greenland",
           11971
          ],
          [
           "Grenada",
           18115
          ],
          [
           "Guatemala",
           880169
          ],
          [
           "Haiti",
           31054
          ],
          [
           "Honduras",
           426095
          ],
          [
           "Jamaica",
           141306
          ],
          [
           "Mexico",
           5852596
          ],
          [
           "Montserrat",
           1015
          ],
          [
           "Nicaragua",
           14619
          ],
          [
           "Panama",
           902386
          ],
          [
           "Saint Kitts and Nevis",
           5899
          ],
          [
           "Saint Lucia",
           26722
          ],
          [
           "Saint Pierre and Miquelon",
           2767
          ],
          [
           "Saint Vincent and the Grenadines",
           8956
          ],
          [
           "Trinidad and Tobago",
           165706
          ],
          [
           "Turks and Caicos Islands",
           6189
          ],
          [
           "United States",
           86230982
          ]
         ],
         "hovertemplate": "<b>%{hovertext}</b><br><br>continent=North America<br>cases by person=%{marker.size}<br>latitude=%{lat}<br>longitude=%{lon}<br>Total cases=%{customdata[1]}<extra></extra>",
         "hovertext": [
          "Anguilla",
          "Antigua and Barbuda",
          "Aruba",
          "Bahamas",
          "Barbados",
          "Belize",
          "Bermuda",
          "British Virgin Islands",
          "Canada",
          "Cayman Islands",
          "Costa Rica",
          "Cuba",
          "Dominica",
          "Dominican Republic",
          "El Salvador",
          "Greenland",
          "Grenada",
          "Guatemala",
          "Haiti",
          "Honduras",
          "Jamaica",
          "Mexico",
          "Montserrat",
          "Nicaragua",
          "Panama",
          "Saint Kitts and Nevis",
          "Saint Lucia",
          "Saint Pierre and Miquelon",
          "Saint Vincent and the Grenadines",
          "Trinidad and Tobago",
          "Turks and Caicos Islands",
          "United States"
         ],
         "lat": [
          18.25,
          17.05,
          12.5,
          24.25,
          13.1667,
          17.25,
          32.3333,
          18.5,
          60,
          19.5,
          10,
          21.5,
          15.4167,
          19,
          13.8333,
          72,
          12.1167,
          15.5,
          19,
          15,
          18.25,
          23,
          16.75,
          13,
          9,
          17.3333,
          13.8833,
          46.8333,
          13.25,
          11,
          21.75,
          38
         ],
         "legendgroup": "North America",
         "lon": [
          -63.1667,
          -61.8,
          -69.9667,
          -76,
          -59.5333,
          -88.75,
          -64.75,
          -64.5,
          -95,
          -80.5,
          -84,
          -80,
          -61.3333,
          -70.6667,
          -88.9167,
          -40,
          -61.6667,
          -90.25,
          -72.4167,
          -86.5,
          -77.5,
          -102,
          -62.2,
          -85,
          -80,
          -62.75,
          -61.1333,
          -56.3333,
          -61.2,
          -61,
          -71.5833,
          -97
         ],
         "marker": {
          "color": "#d62728",
          "size": [
           0.22307438016528924,
           0.08691556599951382,
           0.3729651569569476,
           0.08969953188851994,
           0.2878821582993869,
           0.15291604410802268,
           0.25384912710172003,
           0.22814975511948196,
           0.10312853242046655,
           0.4029745255496406,
           0.17608964141837027,
           0.09770083458375695,
           0.20480241644959263,
           0.05440410439783255,
           0.025179719260566082,
           0.21050502919040584,
           0.16028845728443128,
           0.04822878718903611,
           0.0026905954703486485,
           0.04234276597998568,
           0.04752238300001816,
           0.04492934328925148,
           0.20377434250150572,
           0.002181165821867131,
           0.20594976746988475,
           0.11016695924999066,
           0.14491244624486851,
           0.47946629700225263,
           0.08048962424394934,
           0.11807686333080133,
           0.1577780043848468,
           0.25901795603283495
          ],
          "sizemode": "area",
          "sizeref": 0.0031401862384676893
         },
         "mode": "markers",
         "name": "North America",
         "showlegend": true,
         "subplot": "mapbox",
         "type": "scattermapbox"
        },
        {
         "customdata": [
          [
           "Argentina",
           9313453
          ],
          [
           "Bolivia",
           914827
          ],
          [
           "Brazil",
           31611769
          ],
          [
           "Chile",
           3882425
          ],
          [
           "Colombia",
           6131657
          ],
          [
           "Ecuador",
           896483
          ],
          [
           "Falkland Islands",
           1756
          ],
          [
           "Guyana",
           66456
          ],
          [
           "Paraguay",
           653428
          ],
          [
           "Peru",
           3597866
          ],
          [
           "Suriname",
           80766
          ],
          [
           "Uruguay",
           943877
          ],
          [
           "Venezuela",
           524823
          ]
         ],
         "hovertemplate": "<b>%{hovertext}</b><br><br>continent=South America<br>cases by person=%{marker.size}<br>latitude=%{lat}<br>longitude=%{lon}<br>Total cases=%{customdata[1]}<extra></extra>",
         "hovertext": [
          "Argentina",
          "Bolivia",
          "Brazil",
          "Chile",
          "Colombia",
          "Ecuador",
          "Falkland Islands",
          "Guyana",
          "Paraguay",
          "Peru",
          "Suriname",
          "Uruguay",
          "Venezuela"
         ],
         "lat": [
          -34,
          -17,
          -10,
          -30,
          4,
          -2,
          -51.75,
          5,
          -23,
          -10,
          4,
          -33,
          8
         ],
         "legendgroup": "South America",
         "lon": [
          -64,
          -65,
          -55,
          -71,
          -72,
          -77.5,
          -59,
          -59,
          -58,
          -76,
          -56,
          -56,
          -66
         ],
         "marker": {
          "color": "#9467bd",
          "size": [
           0.20421631246518673,
           0.07731191988192955,
           0.147723074372172,
           0.2020795256720647,
           0.1196051187378356,
           0.050115118818966894,
           0.4977324263038549,
           0.0840865006851577,
           0.09050699335327062,
           0.10785159152221345,
           0.1364756217493131,
           0.27082807292192707,
           0.018283364188061382
          ],
          "sizemode": "area",
          "sizeref": 0.0031401862384676893
         },
         "mode": "markers",
         "name": "South America",
         "showlegend": true,
         "subplot": "mapbox",
         "type": "scattermapbox"
        },
        {
         "customdata": [
          [
           "Australia",
           7801241
          ],
          [
           "Cook Islands",
           5727
          ],
          [
           "Fiji",
           65268
          ],
          [
           "French Polynesia",
           73142
          ],
          [
           "Kiribati",
           3215
          ],
          [
           "Marshall Islands",
           18
          ],
          [
           "Micronesia (country)",
           38
          ],
          [
           "New Caledonia",
           63002
          ],
          [
           "New Zealand",
           1273389
          ],
          [
           "Palau",
           5181
          ],
          [
           "Papua New Guinea",
           44681
          ],
          [
           "Samoa",
           14497
          ],
          [
           "Solomon Islands",
           21544
          ],
          [
           "Tonga",
           12079
          ],
          [
           "Vanuatu",
           10857
          ],
          [
           "Wallis and Futuna",
           454
          ]
         ],
         "hovertemplate": "<b>%{hovertext}</b><br><br>continent=Oceania<br>cases by person=%{marker.size}<br>latitude=%{lat}<br>longitude=%{lon}<br>Total cases=%{customdata[1]}<extra></extra>",
         "hovertext": [
          "Australia",
          "Cook Islands",
          "Fiji",
          "French Polynesia",
          "Kiribati",
          "Marshall Islands",
          "Micronesia (country)",
          "New Caledonia",
          "New Zealand",
          "Palau",
          "Papua New Guinea",
          "Samoa",
          "Solomon Islands",
          "Tonga",
          "Vanuatu",
          "Wallis and Futuna"
         ],
         "lat": [
          -27,
          -21.2333,
          -18,
          -15,
          1.4167,
          9,
          6.9167,
          -21.5,
          -41,
          7.5,
          -6,
          -13.5833,
          -8,
          -20,
          -16,
          -13.3
         ],
         "legendgroup": "Oceania",
         "lon": [
          133,
          -159.7667,
          175,
          -140,
          173,
          168,
          158.25,
          165.5,
          174,
          134.5,
          147,
          -172.3333,
          159,
          -175,
          167,
          -176.2
         ],
         "marker": {
          "color": "#8c564b",
          "size": [
           0.3025118409698507,
           0.32591623036649214,
           0.07228715504170455,
           0.2588785774455464,
           0.026485319800968795,
           0.0003019222382501929,
           0.0003268676616059524,
           0.21859224126265972,
           0.2484031367653083,
           0.28507758336084515,
           0.0048997670250208215,
           0.07243284834918859,
           0.030602490074503372,
           0.11314268586255023,
           0.03452541467385774,
           0.04092302145303768
          ],
          "sizemode": "area",
          "sizeref": 0.0031401862384676893
         },
         "mode": "markers",
         "name": "Oceania",
         "showlegend": true,
         "subplot": "mapbox",
         "type": "scattermapbox"
        }
       ],
       "layout": {
        "height": 600,
        "legend": {
         "itemsizing": "constant",
         "title": {
          "text": "continent"
         },
         "tracegroupgap": 0
        },
        "mapbox": {
         "accesstoken": "pk.eyJ1IjoibHVra3V0dGxlci04MiIsImEiOiJjbTZhcDl5dHgwMDFpMmlzNnk5dnRpaTVtIn0.LnpX1RAO-6DJSynD6eX2fw",
         "center": {
          "lat": 18.929894835680752,
          "lon": 15.324138028169015
         },
         "domain": {
          "x": [
           0,
           1
          ],
          "y": [
           0,
           1
          ]
         },
         "style": "dark",
         "zoom": 1
        },
        "template": {
         "data": {
          "bar": [
           {
            "error_x": {
             "color": "#2a3f5f"
            },
            "error_y": {
             "color": "#2a3f5f"
            },
            "marker": {
             "line": {
              "color": "#E5ECF6",
              "width": 0.5
             },
             "pattern": {
              "fillmode": "overlay",
              "size": 10,
              "solidity": 0.2
             }
            },
            "type": "bar"
           }
          ],
          "barpolar": [
           {
            "marker": {
             "line": {
              "color": "#E5ECF6",
              "width": 0.5
             },
             "pattern": {
              "fillmode": "overlay",
              "size": 10,
              "solidity": 0.2
             }
            },
            "type": "barpolar"
           }
          ],
          "carpet": [
           {
            "aaxis": {
             "endlinecolor": "#2a3f5f",
             "gridcolor": "white",
             "linecolor": "white",
             "minorgridcolor": "white",
             "startlinecolor": "#2a3f5f"
            },
            "baxis": {
             "endlinecolor": "#2a3f5f",
             "gridcolor": "white",
             "linecolor": "white",
             "minorgridcolor": "white",
             "startlinecolor": "#2a3f5f"
            },
            "type": "carpet"
           }
          ],
          "choropleth": [
           {
            "colorbar": {
             "outlinewidth": 0,
             "ticks": ""
            },
            "type": "choropleth"
           }
          ],
          "contour": [
           {
            "colorbar": {
             "outlinewidth": 0,
             "ticks": ""
            },
            "colorscale": [
             [
              0,
              "#0d0887"
             ],
             [
              0.1111111111111111,
              "#46039f"
             ],
             [
              0.2222222222222222,
              "#7201a8"
             ],
             [
              0.3333333333333333,
              "#9c179e"
             ],
             [
              0.4444444444444444,
              "#bd3786"
             ],
             [
              0.5555555555555556,
              "#d8576b"
             ],
             [
              0.6666666666666666,
              "#ed7953"
             ],
             [
              0.7777777777777778,
              "#fb9f3a"
             ],
             [
              0.8888888888888888,
              "#fdca26"
             ],
             [
              1,
              "#f0f921"
             ]
            ],
            "type": "contour"
           }
          ],
          "contourcarpet": [
           {
            "colorbar": {
             "outlinewidth": 0,
             "ticks": ""
            },
            "type": "contourcarpet"
           }
          ],
          "heatmap": [
           {
            "colorbar": {
             "outlinewidth": 0,
             "ticks": ""
            },
            "colorscale": [
             [
              0,
              "#0d0887"
             ],
             [
              0.1111111111111111,
              "#46039f"
             ],
             [
              0.2222222222222222,
              "#7201a8"
             ],
             [
              0.3333333333333333,
              "#9c179e"
             ],
             [
              0.4444444444444444,
              "#bd3786"
             ],
             [
              0.5555555555555556,
              "#d8576b"
             ],
             [
              0.6666666666666666,
              "#ed7953"
             ],
             [
              0.7777777777777778,
              "#fb9f3a"
             ],
             [
              0.8888888888888888,
              "#fdca26"
             ],
             [
              1,
              "#f0f921"
             ]
            ],
            "type": "heatmap"
           }
          ],
          "heatmapgl": [
           {
            "colorbar": {
             "outlinewidth": 0,
             "ticks": ""
            },
            "colorscale": [
             [
              0,
              "#0d0887"
             ],
             [
              0.1111111111111111,
              "#46039f"
             ],
             [
              0.2222222222222222,
              "#7201a8"
             ],
             [
              0.3333333333333333,
              "#9c179e"
             ],
             [
              0.4444444444444444,
              "#bd3786"
             ],
             [
              0.5555555555555556,
              "#d8576b"
             ],
             [
              0.6666666666666666,
              "#ed7953"
             ],
             [
              0.7777777777777778,
              "#fb9f3a"
             ],
             [
              0.8888888888888888,
              "#fdca26"
             ],
             [
              1,
              "#f0f921"
             ]
            ],
            "type": "heatmapgl"
           }
          ],
          "histogram": [
           {
            "marker": {
             "pattern": {
              "fillmode": "overlay",
              "size": 10,
              "solidity": 0.2
             }
            },
            "type": "histogram"
           }
          ],
          "histogram2d": [
           {
            "colorbar": {
             "outlinewidth": 0,
             "ticks": ""
            },
            "colorscale": [
             [
              0,
              "#0d0887"
             ],
             [
              0.1111111111111111,
              "#46039f"
             ],
             [
              0.2222222222222222,
              "#7201a8"
             ],
             [
              0.3333333333333333,
              "#9c179e"
             ],
             [
              0.4444444444444444,
              "#bd3786"
             ],
             [
              0.5555555555555556,
              "#d8576b"
             ],
             [
              0.6666666666666666,
              "#ed7953"
             ],
             [
              0.7777777777777778,
              "#fb9f3a"
             ],
             [
              0.8888888888888888,
              "#fdca26"
             ],
             [
              1,
              "#f0f921"
             ]
            ],
            "type": "histogram2d"
           }
          ],
          "histogram2dcontour": [
           {
            "colorbar": {
             "outlinewidth": 0,
             "ticks": ""
            },
            "colorscale": [
             [
              0,
              "#0d0887"
             ],
             [
              0.1111111111111111,
              "#46039f"
             ],
             [
              0.2222222222222222,
              "#7201a8"
             ],
             [
              0.3333333333333333,
              "#9c179e"
             ],
             [
              0.4444444444444444,
              "#bd3786"
             ],
             [
              0.5555555555555556,
              "#d8576b"
             ],
             [
              0.6666666666666666,
              "#ed7953"
             ],
             [
              0.7777777777777778,
              "#fb9f3a"
             ],
             [
              0.8888888888888888,
              "#fdca26"
             ],
             [
              1,
              "#f0f921"
             ]
            ],
            "type": "histogram2dcontour"
           }
          ],
          "mesh3d": [
           {
            "colorbar": {
             "outlinewidth": 0,
             "ticks": ""
            },
            "type": "mesh3d"
           }
          ],
          "parcoords": [
           {
            "line": {
             "colorbar": {
              "outlinewidth": 0,
              "ticks": ""
             }
            },
            "type": "parcoords"
           }
          ],
          "pie": [
           {
            "automargin": true,
            "type": "pie"
           }
          ],
          "scatter": [
           {
            "fillpattern": {
             "fillmode": "overlay",
             "size": 10,
             "solidity": 0.2
            },
            "type": "scatter"
           }
          ],
          "scatter3d": [
           {
            "line": {
             "colorbar": {
              "outlinewidth": 0,
              "ticks": ""
             }
            },
            "marker": {
             "colorbar": {
              "outlinewidth": 0,
              "ticks": ""
             }
            },
            "type": "scatter3d"
           }
          ],
          "scattercarpet": [
           {
            "marker": {
             "colorbar": {
              "outlinewidth": 0,
              "ticks": ""
             }
            },
            "type": "scattercarpet"
           }
          ],
          "scattergeo": [
           {
            "marker": {
             "colorbar": {
              "outlinewidth": 0,
              "ticks": ""
             }
            },
            "type": "scattergeo"
           }
          ],
          "scattergl": [
           {
            "marker": {
             "colorbar": {
              "outlinewidth": 0,
              "ticks": ""
             }
            },
            "type": "scattergl"
           }
          ],
          "scattermapbox": [
           {
            "marker": {
             "colorbar": {
              "outlinewidth": 0,
              "ticks": ""
             }
            },
            "type": "scattermapbox"
           }
          ],
          "scatterpolar": [
           {
            "marker": {
             "colorbar": {
              "outlinewidth": 0,
              "ticks": ""
             }
            },
            "type": "scatterpolar"
           }
          ],
          "scatterpolargl": [
           {
            "marker": {
             "colorbar": {
              "outlinewidth": 0,
              "ticks": ""
             }
            },
            "type": "scatterpolargl"
           }
          ],
          "scatterternary": [
           {
            "marker": {
             "colorbar": {
              "outlinewidth": 0,
              "ticks": ""
             }
            },
            "type": "scatterternary"
           }
          ],
          "surface": [
           {
            "colorbar": {
             "outlinewidth": 0,
             "ticks": ""
            },
            "colorscale": [
             [
              0,
              "#0d0887"
             ],
             [
              0.1111111111111111,
              "#46039f"
             ],
             [
              0.2222222222222222,
              "#7201a8"
             ],
             [
              0.3333333333333333,
              "#9c179e"
             ],
             [
              0.4444444444444444,
              "#bd3786"
             ],
             [
              0.5555555555555556,
              "#d8576b"
             ],
             [
              0.6666666666666666,
              "#ed7953"
             ],
             [
              0.7777777777777778,
              "#fb9f3a"
             ],
             [
              0.8888888888888888,
              "#fdca26"
             ],
             [
              1,
              "#f0f921"
             ]
            ],
            "type": "surface"
           }
          ],
          "table": [
           {
            "cells": {
             "fill": {
              "color": "#EBF0F8"
             },
             "line": {
              "color": "white"
             }
            },
            "header": {
             "fill": {
              "color": "#C8D4E3"
             },
             "line": {
              "color": "white"
             }
            },
            "type": "table"
           }
          ]
         },
         "layout": {
          "annotationdefaults": {
           "arrowcolor": "#2a3f5f",
           "arrowhead": 0,
           "arrowwidth": 1
          },
          "autotypenumbers": "strict",
          "coloraxis": {
           "colorbar": {
            "outlinewidth": 0,
            "ticks": ""
           }
          },
          "colorscale": {
           "diverging": [
            [
             0,
             "#8e0152"
            ],
            [
             0.1,
             "#c51b7d"
            ],
            [
             0.2,
             "#de77ae"
            ],
            [
             0.3,
             "#f1b6da"
            ],
            [
             0.4,
             "#fde0ef"
            ],
            [
             0.5,
             "#f7f7f7"
            ],
            [
             0.6,
             "#e6f5d0"
            ],
            [
             0.7,
             "#b8e186"
            ],
            [
             0.8,
             "#7fbc41"
            ],
            [
             0.9,
             "#4d9221"
            ],
            [
             1,
             "#276419"
            ]
           ],
           "sequential": [
            [
             0,
             "#0d0887"
            ],
            [
             0.1111111111111111,
             "#46039f"
            ],
            [
             0.2222222222222222,
             "#7201a8"
            ],
            [
             0.3333333333333333,
             "#9c179e"
            ],
            [
             0.4444444444444444,
             "#bd3786"
            ],
            [
             0.5555555555555556,
             "#d8576b"
            ],
            [
             0.6666666666666666,
             "#ed7953"
            ],
            [
             0.7777777777777778,
             "#fb9f3a"
            ],
            [
             0.8888888888888888,
             "#fdca26"
            ],
            [
             1,
             "#f0f921"
            ]
           ],
           "sequentialminus": [
            [
             0,
             "#0d0887"
            ],
            [
             0.1111111111111111,
             "#46039f"
            ],
            [
             0.2222222222222222,
             "#7201a8"
            ],
            [
             0.3333333333333333,
             "#9c179e"
            ],
            [
             0.4444444444444444,
             "#bd3786"
            ],
            [
             0.5555555555555556,
             "#d8576b"
            ],
            [
             0.6666666666666666,
             "#ed7953"
            ],
            [
             0.7777777777777778,
             "#fb9f3a"
            ],
            [
             0.8888888888888888,
             "#fdca26"
            ],
            [
             1,
             "#f0f921"
            ]
           ]
          },
          "colorway": [
           "#636efa",
           "#EF553B",
           "#00cc96",
           "#ab63fa",
           "#FFA15A",
           "#19d3f3",
           "#FF6692",
           "#B6E880",
           "#FF97FF",
           "#FECB52"
          ],
          "font": {
           "color": "#2a3f5f"
          },
          "geo": {
           "bgcolor": "white",
           "lakecolor": "white",
           "landcolor": "#E5ECF6",
           "showlakes": true,
           "showland": true,
           "subunitcolor": "white"
          },
          "hoverlabel": {
           "align": "left"
          },
          "hovermode": "closest",
          "mapbox": {
           "style": "light"
          },
          "paper_bgcolor": "white",
          "plot_bgcolor": "#E5ECF6",
          "polar": {
           "angularaxis": {
            "gridcolor": "white",
            "linecolor": "white",
            "ticks": ""
           },
           "bgcolor": "#E5ECF6",
           "radialaxis": {
            "gridcolor": "white",
            "linecolor": "white",
            "ticks": ""
           }
          },
          "scene": {
           "xaxis": {
            "backgroundcolor": "#E5ECF6",
            "gridcolor": "white",
            "gridwidth": 2,
            "linecolor": "white",
            "showbackground": true,
            "ticks": "",
            "zerolinecolor": "white"
           },
           "yaxis": {
            "backgroundcolor": "#E5ECF6",
            "gridcolor": "white",
            "gridwidth": 2,
            "linecolor": "white",
            "showbackground": true,
            "ticks": "",
            "zerolinecolor": "white"
           },
           "zaxis": {
            "backgroundcolor": "#E5ECF6",
            "gridcolor": "white",
            "gridwidth": 2,
            "linecolor": "white",
            "showbackground": true,
            "ticks": "",
            "zerolinecolor": "white"
           }
          },
          "shapedefaults": {
           "line": {
            "color": "#2a3f5f"
           }
          },
          "ternary": {
           "aaxis": {
            "gridcolor": "white",
            "linecolor": "white",
            "ticks": ""
           },
           "baxis": {
            "gridcolor": "white",
            "linecolor": "white",
            "ticks": ""
           },
           "bgcolor": "#E5ECF6",
           "caxis": {
            "gridcolor": "white",
            "linecolor": "white",
            "ticks": ""
           }
          },
          "title": {
           "x": 0.05
          },
          "xaxis": {
           "automargin": true,
           "gridcolor": "white",
           "linecolor": "white",
           "ticks": "",
           "title": {
            "standoff": 15
           },
           "zerolinecolor": "white",
           "zerolinewidth": 2
          },
          "yaxis": {
           "automargin": true,
           "gridcolor": "white",
           "linecolor": "white",
           "ticks": "",
           "title": {
            "standoff": 15
           },
           "zerolinecolor": "white",
           "zerolinewidth": 2
          }
         }
        },
        "title": {
         "text": "COVID-19 map - total cases in countries"
        },
        "width": 1000
       }
      }
     },
     "metadata": {},
     "output_type": "display_data"
    }
   ],
   "source": [
    "# Project #1 - COVID-19 map\n",
    "\n",
    "# my mapbox token\n",
    "my_mapbox_token = 'pk.eyJ1IjoibHVra3V0dGxlci04MiIsImEiOiJjbTZhcDl5dHgwMDFpMmlzNnk5dnRpaTVtIn0.LnpX1RAO-6DJSynD6eX2fw'\n",
    "\n",
    "# create dataframe with max date in the dataset fo all locations\n",
    "df_maps = df_raw.loc[df_raw['date'] == df_raw['date'].max()]\n",
    "\n",
    "# create a new column with cases per person\n",
    "df_maps['cases by person'] = df_maps['total_cases'] / df_maps['population']\n",
    "\n",
    "# token for mapbox\n",
    "px.set_mapbox_access_token(my_mapbox_token)\n",
    "\n",
    "# create a scatter map\n",
    "covid_map_chart = px.scatter_mapbox(\n",
    "    data_frame=df_maps, \n",
    "\tlat='latitude',\n",
    "\tlon='longitude',\n",
    "\tcolor='continent',\n",
    "    size=df_maps['cases by person'],\n",
    "    size_max=15,\n",
    "    hover_name='location',\n",
    "    hover_data={'location': False, 'total_cases': True},\n",
    "    title='COVID-19 map - total cases in countries',\n",
    "\tlabels={'location': 'Country', 'total_cases': 'Total cases'},\n",
    "    mapbox_style='dark',\n",
    "    color_discrete_sequence=color_palette,\n",
    "    zoom=1,\n",
    "    height=600,\n",
    "    width=1000\n",
    "\t)\n",
    "\n",
    "# show the plot\n",
    "covid_map_chart"
   ]
  },
  {
   "cell_type": "code",
   "execution_count": 13,
   "metadata": {},
   "outputs": [
    {
     "data": {
      "text/html": [
       "\n",
       "        <iframe\n",
       "            width=\"100%\"\n",
       "            height=\"650\"\n",
       "            src=\"http://127.0.0.1:8080/\"\n",
       "            frameborder=\"0\"\n",
       "            allowfullscreen\n",
       "            \n",
       "        ></iframe>\n",
       "        "
      ],
      "text/plain": [
       "<IPython.lib.display.IFrame at 0x1642048c0>"
      ]
     },
     "metadata": {},
     "output_type": "display_data"
    }
   ],
   "source": [
    "# Project #1 - dashboard #1\n",
    "\n",
    "#create new dataframe for dashboard\n",
    "df_dash_1 = df_raw\n",
    "\n",
    "#location list for dropdown without duplicates\n",
    "location_list = list(df_dash_1['location'].drop_duplicates())\n",
    "\n",
    "# create a new Dash app\n",
    "app_1 = dash.Dash()\n",
    "\n",
    "# create a layout\n",
    "app_1.layout = html.Div(\n",
    "\t    children=[\n",
    "\t\t\thtml.H1(children='COVID-19 in countires', id='app-1-chart-1header-title', style={'text-align': 'center'}),  # title\n",
    "            # dropwon for location\n",
    "\t\t\thtml.Label('Select a country:'),\n",
    "\t\t\tdcc.Dropdown(id='app-1-change-location', \n",
    "\t\t\t\toptions=[{'value': str(location), 'label': location} for location in location_list],\n",
    "        \t\tvalue=location_list[0]),\n",
    "\t\t\t# box for charts\n",
    "\t\t\thtml.Div(\n",
    "\t\t\t\tchildren=[\n",
    "\t\t\t\t\tdcc.Graph(id='app-1-linechart-1', style={'width': '49%'}),  # chart 1\n",
    "\t\t\t\t\tdcc.Graph(id='app-1-linechart-2', style={'width': '49%'}),  # chart 2\n",
    "\t\t\t\t],\n",
    "\t\t\t\tstyle={'display': 'flex', 'flex-direction': 'row', 'align-items': 'center', 'justify-content': 'center'},\n",
    "\t\t\t),\n",
    "],\n",
    "style={'background-color': 'lightgray', 'padding': '20px', 'font-family': 'Arial'}\n",
    ")\n",
    "\n",
    "# create callback for positive cases line chart\n",
    "@app_1.callback(\n",
    "\tOutput('app-1-linechart-1', 'figure'),\n",
    "    Input('app-1-change-location','value') \n",
    ")\n",
    "def generate_first_graph(country):\n",
    "    df = df_dash_1[df_dash_1['location'] == country]\n",
    "    fig = px.line(\n",
    "        data_frame=df,\n",
    "        x='date',\n",
    "        y='total_cases',\n",
    "\t\tcolor_discrete_sequence=['#377eb8'],  # this color is visible for colorblind people\n",
    "        title=f'Cumulative number of positive cases in {country}',\n",
    "        labels={'total_cases': 'Total cases', 'date': 'Date'}\n",
    "    )\n",
    "    return fig\n",
    "\n",
    "# create callback for deaths line chart\n",
    "@app_1.callback(\n",
    "\tOutput('app-1-linechart-2', 'figure'),\n",
    "    Input('app-1-change-location','value') \n",
    ")\n",
    "def generate_second_graph(country):\n",
    "    df = df_dash_1[df_dash_1['location'] == country]\n",
    "    fig = px.line(\n",
    "        data_frame=df,\n",
    "        x='date',\n",
    "        y='total_deaths',\n",
    "        color_discrete_sequence=['#e41a1c'],  # this color is visible for colorblind people\n",
    "        title=f'Cumulative number of deaths in {country}',\n",
    "        labels={'total_deaths': 'Total deaths', 'date': 'Date'}\n",
    "    )\n",
    "    return fig\n",
    "\n",
    "# run the app\n",
    "if __name__ == \"__main__\":\n",
    "\t\tapp_1.run_server(debug=True, port=8080)"
   ]
  },
  {
   "cell_type": "code",
   "execution_count": 16,
   "metadata": {},
   "outputs": [
    {
     "data": {
      "text/html": [
       "\n",
       "        <iframe\n",
       "            width=\"100%\"\n",
       "            height=\"650\"\n",
       "            src=\"http://127.0.0.1:8090/\"\n",
       "            frameborder=\"0\"\n",
       "            allowfullscreen\n",
       "            \n",
       "        ></iframe>\n",
       "        "
      ],
      "text/plain": [
       "<IPython.lib.display.IFrame at 0x1658f33b0>"
      ]
     },
     "metadata": {},
     "output_type": "display_data"
    },
    {
     "name": "stderr",
     "output_type": "stream",
     "text": [
      "/var/folders/47/tpj_wbtj6wj_l1qcwsyzlhn40000gn/T/ipykernel_98880/1182996102.py:59: SettingWithCopyWarning:\n",
      "\n",
      "\n",
      "A value is trying to be set on a copy of a slice from a DataFrame.\n",
      "Try using .loc[row_indexer,col_indexer] = value instead\n",
      "\n",
      "See the caveats in the documentation: https://pandas.pydata.org/pandas-docs/stable/user_guide/indexing.html#returning-a-view-versus-a-copy\n",
      "\n"
     ]
    }
   ],
   "source": [
    "# Project #1 - dashboard #2\n",
    "\n",
    "# modify dataframe with max date in the dataset fo all locations and fill NaN values with 0\n",
    "df_dash_2 = df_raw.loc[df_raw['date'] == df_raw['date'].max()].fillna(0)\n",
    "\n",
    "#location list for dropdown without duplicates\n",
    "continents_list = list(df_dash_2['continent'].drop_duplicates())\n",
    "\n",
    "# metrics for dropdown\n",
    "dash_2_metrics = {\n",
    "\t'total_cases': 'Total cases',\n",
    "\t'total_deaths': 'Total deaths',\n",
    "\t'total_vaccinations': 'Total vaccinations',\n",
    "\t'people_fully_vaccinated': 'Total people fully vaccinated'\n",
    "}\n",
    "\n",
    "# create a new Dash app\n",
    "app_2 = dash.Dash()\n",
    "\n",
    "# create a layout\n",
    "app_2.layout = html.Div(\n",
    "\t    children=[\n",
    "\t\t\thtml.H1(children='COVID-19 in world map', id='app-2-title'),  # title\n",
    "                # box for dropdowns\n",
    "\t\t\t\thtml.Div( \n",
    "                    children=[       \n",
    "\t\t\t\t\t# dropwon for continent\n",
    "            \t\thtml.Label('Select a continent:', style={'width': '150%'}),\n",
    "\t\t\t\t\tdcc.Dropdown(\n",
    "            \t\t    id='app-2-change-continent', \n",
    "            \t\t    options=[{'value': str(continent), 'label': continent} for continent in continents_list], \n",
    "            \t\t    value=continents_list[0],\n",
    "                        style={'width': '150%', 'margin-bottom': '10px'}\n",
    "            \t\t    ),\n",
    "            \t\thtml.Label('Select a metric:', style={'width': '150%'}),\n",
    "            \t\tdcc.Dropdown(\n",
    "            \t\t    id='app-2-change-metric', \n",
    "            \t\t    options=[{'value': metric, 'label': metric} for metric in dash_2_metrics], \n",
    "            \t\t    value='total_cases',\n",
    "                        style={'width': '150%', 'margin-bottom': '10px'}\n",
    "                        ),\n",
    "\t\t\t\t\t]\n",
    "               ),\n",
    "            # mapbox chart\n",
    "\t\t\tdcc.Graph(id='app-2-map-chart'),\n",
    "\t\t],\n",
    "\t\tstyle={'background-color': 'lightgray', 'display': 'flex', 'flex-direction': 'column', 'justify-content': 'center', 'align-items': 'center', 'font-family': 'Arial'},\n",
    ")\n",
    "\n",
    "# create callback for deaths line chart\n",
    "@app_2.callback(\n",
    "\tOutput('app-2-map-chart', 'figure'),\n",
    "    [Input('app-2-change-continent','value'),\n",
    "    Input('app-2-change-metric','value')]\n",
    ")\n",
    "def generate_app_2_graph(continent, metric):\n",
    "    px.set_mapbox_access_token(my_mapbox_token)  # mapbox token\n",
    "    df = df_dash_2[df_dash_2['continent'] == continent]\n",
    "    df[metric] = pd.to_numeric(df[metric], errors='coerce').fillna(0)\n",
    "    fig = px.scatter_mapbox(\n",
    "    \tdata_frame=df, \n",
    "\t\tlat='latitude',\n",
    "\t\tlon='longitude',\n",
    "\t\tcolor='location',\n",
    "    \tsize=metric,\n",
    "    \tsize_max=20,\n",
    "    \thover_name='continent',\n",
    "    \thover_data={metric: True},\n",
    "    \ttitle=f'COVID-19 - {dash_2_metrics[metric]} in {continent}',\n",
    "\t\tlabels={'continent': 'Continent', 'metric': metric},\n",
    "    \tmapbox_style='dark',\n",
    "    \tcolor_discrete_sequence=color_palette,\n",
    "    \tzoom=1,\n",
    "    \twidth=1000,\n",
    "    \theight=600,\n",
    "\t)\n",
    "    return fig\n",
    "\n",
    "# run the app\n",
    "if __name__ == \"__main__\":\n",
    "\t\tapp_2.run_server(debug=True, port=8090)"
   ]
  },
  {
   "cell_type": "code",
   "execution_count": null,
   "metadata": {},
   "outputs": [
    {
     "data": {
      "text/html": [
       "\n",
       "        <iframe\n",
       "            width=\"100%\"\n",
       "            height=\"650\"\n",
       "            src=\"http://127.0.0.1:8100/\"\n",
       "            frameborder=\"0\"\n",
       "            allowfullscreen\n",
       "            \n",
       "        ></iframe>\n",
       "        "
      ],
      "text/plain": [
       "<IPython.lib.display.IFrame at 0x165823860>"
      ]
     },
     "metadata": {},
     "output_type": "display_data"
    },
    {
     "name": "stderr",
     "output_type": "stream",
     "text": [
      "/var/folders/47/tpj_wbtj6wj_l1qcwsyzlhn40000gn/T/ipykernel_98880/1182996102.py:59: SettingWithCopyWarning:\n",
      "\n",
      "\n",
      "A value is trying to be set on a copy of a slice from a DataFrame.\n",
      "Try using .loc[row_indexer,col_indexer] = value instead\n",
      "\n",
      "See the caveats in the documentation: https://pandas.pydata.org/pandas-docs/stable/user_guide/indexing.html#returning-a-view-versus-a-copy\n",
      "\n",
      "/var/folders/47/tpj_wbtj6wj_l1qcwsyzlhn40000gn/T/ipykernel_98880/2089983648.py:61: SettingWithCopyWarning:\n",
      "\n",
      "\n",
      "A value is trying to be set on a copy of a slice from a DataFrame.\n",
      "Try using .loc[row_indexer,col_indexer] = value instead\n",
      "\n",
      "See the caveats in the documentation: https://pandas.pydata.org/pandas-docs/stable/user_guide/indexing.html#returning-a-view-versus-a-copy\n",
      "\n"
     ]
    }
   ],
   "source": [
    "# Project #1 - dashboard #3\n",
    "\n",
    "# modify dataframe with max date in the dataset fo all locations and fill NaN values with 0\n",
    "df_dash_3 = df_raw.loc[df_raw['date'] == df_raw['date'].max()].fillna(0)\n",
    "\n",
    "# create a new Dash app\n",
    "app_3 = dash.Dash()\n",
    "\n",
    "# create a layout\n",
    "app_3.layout = html.Div(\n",
    "    children=[\n",
    "        html.H1(children='COVID - 19 Dashboard', id='app-3-title'),  # title\n",
    "        # slider for number of countries\n",
    "\t\thtml.Div(\t\n",
    "\t\t\t\tchildren=[html.Label('Select number of countries:', id='app-3-label-slider'),  # label for slider\n",
    "        \t\tdcc.Slider(\n",
    "\t\t\t\t\tid='app-3-slider',\n",
    "\t\t\t\t\tmin=5,\n",
    "\t\t\t\t\tmax=20,\n",
    "\t\t\t\t\tstep=5,\n",
    "\t\t\t\t\tvalue=5\n",
    "\t\t\t\t),\n",
    "\t\t\t\t]\n",
    "\t\t),\n",
    "\t\t# box for charts\n",
    "\t\thtml.Div(\n",
    "\t\t\tchildren=[\n",
    "\t\t\t\tdcc.Graph(id='app-3-left-bar-chart', style={'display': 'inline-flex', 'width': '39em', 'border': '2px solid black', 'margin-right': '1em'}),  # chart 1 with relative width\n",
    "\t\t\t\tdcc.Graph(id='app-3-right-bar-chart', style={'display': 'inline-flex', 'width': '39em', 'border': '2px solid black'}),  # chart 2 with relative width\n",
    "\t\t\t]\n",
    "\t\t)\n",
    "\t],\n",
    "\tstyle={'background-color': 'lightgray', 'display': 'flex', 'flex-direction': 'column', 'justify-content': 'center', 'align-items': 'center', 'width': '100%', 'font-family': 'Arial'},\n",
    ")\n",
    "\n",
    "# create callback for app_3 left bar chart\n",
    "@app_3.callback(\n",
    "    Output('app-3-left-bar-chart', 'figure'),\n",
    "    Input('app-3-slider', 'value')\n",
    ")\n",
    "def generate_left_bar_chart(slider_value):\n",
    "    df = df_dash_3.sort_values(by='total_cases', ascending=False).head(slider_value)\n",
    "    fig_1 = px.bar(\n",
    "        data_frame=df, \n",
    "        x='location',\n",
    "        y='total_cases',\n",
    "        color='location',\n",
    "        title=f'TOP {slider_value} countries with the largest number of cases',\n",
    "        labels={'total_cases': 'Total cases', 'location': 'Country'},\n",
    "        color_discrete_sequence=color_palette,\n",
    "    )\n",
    "    return fig_1\n",
    "\n",
    "# create callback for app_3 right bar chart\n",
    "@app_3.callback(\n",
    "    Output('app-3-right-bar-chart', 'figure'),\n",
    "    Input('app-3-slider', 'value')\n",
    ")\n",
    "def generate_right_bar_chart(slider_value):\n",
    "    df = df_raw.loc[df_raw['date'] == df_raw['date'].max()]\n",
    "    df['vaccinations by person'] = df['total_vaccinations'] / df['population']\n",
    "    df = df.sort_values(by='vaccinations by person', ascending=False).head(slider_value)\n",
    "    fig_2 = px.bar(\n",
    "        data_frame=df, \n",
    "        x='location',\n",
    "        y='vaccinations by person',\n",
    "        color='location',\n",
    "        title=f'TOP {slider_value} countries with the largest number of vaccinations per person',\n",
    "        labels={'vaccinations by person': 'Vaccinations by person', 'location': 'Country'},\n",
    "        color_discrete_sequence=color_palette,\n",
    "    )\n",
    "    return fig_2\n",
    "\n",
    "# run the app\n",
    "if __name__ == \"__main__\":\n",
    "\t\tapp_3.run_server(debug=True, port=8100)"
   ]
  }
 ],
 "metadata": {
  "kernelspec": {
   "display_name": "base",
   "language": "python",
   "name": "python3"
  },
  "language_info": {
   "codemirror_mode": {
    "name": "ipython",
    "version": 3
   },
   "file_extension": ".py",
   "mimetype": "text/x-python",
   "name": "python",
   "nbconvert_exporter": "python",
   "pygments_lexer": "ipython3",
   "version": "3.12.4"
  }
 },
 "nbformat": 4,
 "nbformat_minor": 2
}
